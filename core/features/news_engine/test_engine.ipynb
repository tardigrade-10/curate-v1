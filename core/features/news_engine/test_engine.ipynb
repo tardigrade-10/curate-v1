{
 "cells": [
  {
   "cell_type": "code",
   "execution_count": 23,
   "metadata": {},
   "outputs": [],
   "source": [
    "%load_ext autoreload\n",
    "%autoreload 2\n",
    "\n",
    "import os\n",
    "curpath = os.getcwd()\n",
    "os.chdir(curpath.split(\"core\")[0])"
   ]
  },
  {
   "cell_type": "code",
   "execution_count": 28,
   "metadata": {},
   "outputs": [
    {
     "data": {
      "text/plain": [
       "True"
      ]
     },
     "execution_count": 28,
     "metadata": {},
     "output_type": "execute_result"
    }
   ],
   "source": [
    "import openai\n",
    "import json\n",
    "import time\n",
    "from typing import List, Dict, Any, Tuple, Union\n",
    "import urllib3\n",
    "from xml.dom.minidom import parseString\n",
    "from core.features.provider import creator, creator_defaults\n",
    "\n",
    "# from prompts import SIMPLE_TS_PROMPTS, SIMPLE_TS_WITH_REF_PROMPTS\n",
    "# from core.features.topic_segregation.utils import add_dicts, calculate_cost_gpt4_8k\n",
    "\n",
    "from dotenv import load_dotenv\n",
    "load_dotenv()"
   ]
  },
  {
   "cell_type": "code",
   "execution_count": null,
   "metadata": {},
   "outputs": [],
   "source": [
    "creator(**creator_defaults, messages=[{'role': 'user', 'content': 'Hello, world!'}])"
   ]
  },
  {
   "cell_type": "code",
   "execution_count": 27,
   "metadata": {},
   "outputs": [],
   "source": [
    "def get_google_news_results(term:str, count: int):\n",
    "    http = urllib3.PoolManager()\n",
    "    results = []\n",
    "    response = http.request('GET', 'http://news.google.com/news?q=%s&lang=en&output=rss' % term)\n",
    "    obj = parseString(response.data.decode('utf-8'))\n",
    "    items = obj.getElementsByTagName('item')  # Get each item\n",
    "    for item in items[:count]:\n",
    "        title, link = '', ''\n",
    "        for node in item.childNodes:\n",
    "            if node.nodeName == 'title':\n",
    "                title = node.childNodes[0].data\n",
    "            elif node.nodeName == 'link':\n",
    "                link = node.childNodes[0].data\n",
    "        results.append((title, link))\n",
    "    return results"
   ]
  },
  {
   "cell_type": "code",
   "execution_count": 31,
   "metadata": {},
   "outputs": [],
   "source": [
    "results = get_google_news_results('Rajasthan%20latest%20news', 100)\n",
    "titles = []\n",
    "links = []\n",
    "for title, link in results:\n",
    "    titles.append(title)\n",
    "    links.append(link)"
   ]
  },
  {
   "cell_type": "code",
   "execution_count": 24,
   "metadata": {},
   "outputs": [
    {
     "data": {
      "text/plain": [
       "'https://news.google.com/rss/articles/CBMiSmh0dHBzOi8vdGhld2lyZS5pbi9wb2xpdGljcy9yYWphc3RoYW4tY29uZ3Jlc3MtbWFkaHlhLXByYWRlc2gtY2hoYXR0aXNnYXJo0gFYaHR0cHM6Ly9tLnRoZXdpcmUuaW4vYXJ0aWNsZS9wb2xpdGljcy9yYWphc3RoYW4tY29uZ3Jlc3MtbWFkaHlhLXByYWRlc2gtY2hoYXR0aXNnYXJoL2FtcA?oc=5'"
      ]
     },
     "execution_count": 24,
     "metadata": {},
     "output_type": "execute_result"
    }
   ],
   "source": [
    "links[0]"
   ]
  },
  {
   "cell_type": "code",
   "execution_count": 25,
   "metadata": {},
   "outputs": [
    {
     "data": {
      "text/plain": [
       "'Win or Lose: Rajasthan Shows The Way Forward for the Congress - The Wire'"
      ]
     },
     "execution_count": 25,
     "metadata": {},
     "output_type": "execute_result"
    }
   ],
   "source": [
    "titles[0]"
   ]
  },
  {
   "cell_type": "code",
   "execution_count": 32,
   "metadata": {},
   "outputs": [],
   "source": [
    "title_txt = \"\\n\".join(titles)\n",
    "\n",
    "with open ('news_data_raj_en.txt', \"wb\") as f:\n",
    "    f.write(title_txt.encode('utf-8'))"
   ]
  },
  {
   "cell_type": "code",
   "execution_count": 13,
   "metadata": {},
   "outputs": [
    {
     "name": "stdout",
     "output_type": "stream",
     "text": [
      "Starting scrape at 2023-11-10 23:44:20.664216\n",
      "Scrape complete at 2023-11-10 23:44:22.731896\n"
     ]
    }
   ],
   "source": [
    "import requests\n",
    "from bs4 import BeautifulSoup\n",
    "from datetime import datetime, timedelta\n",
    "import time\n",
    "\n",
    "class InformationScraper:\n",
    "    def __init__(self, queries, frequency='daily'):\n",
    "        self.queries = queries\n",
    "        self.frequency = frequency\n",
    "        self.results = []\n",
    "\n",
    "    def fetch_news(self, query):\n",
    "        # Replace this URL with the actual news site or API you're planning to scrape\n",
    "        url = f'https://news.google.com/search?q={query}'\n",
    "        response = requests.get(url)\n",
    "        if response.status_code == 200:\n",
    "            return response.text\n",
    "        else:\n",
    "            print(f\"Failed to retrieve news for query: {query}\")\n",
    "            return None\n",
    "\n",
    "    def parse_news(self, html_content):\n",
    "        soup = BeautifulSoup(html_content, 'html.parser')\n",
    "        # Modify the selectors based on the actual structure of the news site\n",
    "        articles = soup.find_all('article')\n",
    "        news_items = []\n",
    "        for article in articles:\n",
    "            title = article.find('h3').get_text() if article.find('h3') else 'No Title'\n",
    "            link = article.find('a', href=True)['href'] if article.find('a', href=True) else 'No Link'\n",
    "            news_items.append({'title': title, 'link': link})\n",
    "        return news_items\n",
    "\n",
    "    def scrape(self):\n",
    "        for query in self.queries:\n",
    "            html_content = self.fetch_news(query)\n",
    "            if html_content:\n",
    "                news_items = self.parse_news(html_content)\n",
    "                self.results.extend(news_items)\n",
    "\n",
    "    def run(self):\n",
    "        if self.frequency == 'daily':\n",
    "            while True:\n",
    "                print(f\"Starting scrape at {datetime.now()}\")\n",
    "                self.scrape()\n",
    "                print(f\"Scrape complete at {datetime.now()}\")\n",
    "                break\n",
    "                time.sleep(86400)  # Sleep for 1 day\n",
    "        elif self.frequency == 'hourly':\n",
    "            while True:\n",
    "                print(f\"Starting scrape at {datetime.now()}\")\n",
    "                self.scrape()\n",
    "                print(f\"Scrape complete at {datetime.now()}\")\n",
    "                break\n",
    "                time.sleep(3600)  # Sleep for 1 hour\n",
    "        # Add more frequency options as needed\n",
    "\n",
    "    def get_results(self):\n",
    "        return self.results\n",
    "\n",
    "# Example usage:\n",
    "queries = ['india hindi news']\n",
    "scraper = InformationScraper(queries, frequency='daily')\n",
    "scraper.run()\n"
   ]
  },
  {
   "cell_type": "code",
   "execution_count": 14,
   "metadata": {},
   "outputs": [],
   "source": [
    "links = []\n",
    "gnews = \"https://news.google.com\"\n",
    "\n",
    "for res in scraper.results:\n",
    "    links.append(gnews + res['link'][1:])\n"
   ]
  },
  {
   "cell_type": "code",
   "execution_count": 15,
   "metadata": {},
   "outputs": [
    {
     "data": {
      "text/plain": [
       "['https://news.google.com/articles/CBMib2h0dHBzOi8vd3d3LmxpdmVoaW5kdXN0YW4uY29tL25hdGlvbmFsL3N0b3J5LWluZGlhLXVzLWNvLXByb2R1Y2UtYXJtb3JlZC12ZWhpY2xlcy10by1jb3VudGVyLWNoaW5hLTg5NjI5MjIuaHRtbNIBc2h0dHBzOi8vd3d3LmxpdmVoaW5kdXN0YW4uY29tL25hdGlvbmFsL3N0b3J5LWluZGlhLXVzLWNvLXByb2R1Y2UtYXJtb3JlZC12ZWhpY2xlcy10by1jb3VudGVyLWNoaW5hLTg5NjI5MjIuYW1wLmh0bWw?hl=en-IN&gl=IN&ceid=IN%3Aen',\n",
       " 'https://news.google.com/articles/CBMicWh0dHBzOi8vd3d3LmFtYXJ1amFsYS5jb20vbGl2ZS9pbmRpYS1uZXdzL2xhdGVzdC1hbmQtYnJlYWtpbmctbmV3cy10b2RheS1pbi1oaW5kaS1saXZlLTktbm92ZW1iZXItMjAyMy0yMDIzLTExLTA50gF1aHR0cHM6Ly93d3cuYW1hcnVqYWxhLmNvbS9hbXAvbGl2ZS9pbmRpYS1uZXdzL2xhdGVzdC1hbmQtYnJlYWtpbmctbmV3cy10b2RheS1pbi1oaW5kaS1saXZlLTktbm92ZW1iZXItMjAyMy0yMDIzLTExLTA5?hl=en-IN&gl=IN&ceid=IN%3Aen',\n",
       " 'https://news.google.com/articles/CBMipAFodHRwczovL3d3dy5hYnBsaXZlLmNvbS9uZXdzL3RvZGF5LXMtdG9wLTEwLW5ld3MtaGVhZGxpbmVzLXRvZGF5LWFicC1uZXdzLW1vcm5pbmctaGVhZGxpbmVzLTEwLW5vdmVtYmVyLTIwMjMtdG9wLW5ld3MtaGVhZGxpbmVzLXVwZGF0ZXMtZnJvbS1pbmRpYS1hbmQtd29ybGQtMjUzNDA4M9IBqAFodHRwczovL3d3dy5hYnBsaXZlLmNvbS9uZXdzL3RvZGF5LXMtdG9wLTEwLW5ld3MtaGVhZGxpbmVzLXRvZGF5LWFicC1uZXdzLW1vcm5pbmctaGVhZGxpbmVzLTEwLW5vdmVtYmVyLTIwMjMtdG9wLW5ld3MtaGVhZGxpbmVzLXVwZGF0ZXMtZnJvbS1pbmRpYS1hbmQtd29ybGQtMjUzNDA4My9hbXA?hl=en-IN&gl=IN&ceid=IN%3Aen',\n",
       " 'https://news.google.com/articles/CBMicmh0dHBzOi8vd3d3LmFtYXJ1amFsYS5jb20vbGl2ZS9pbmRpYS1uZXdzL2xhdGVzdC1hbmQtYnJlYWtpbmctbmV3cy10b2RheS1pbi1oaW5kaS1saXZlLTEwLW5vdmVtYmVyLTIwMjMtMjAyMy0xMS0xMNIBdmh0dHBzOi8vd3d3LmFtYXJ1amFsYS5jb20vYW1wL2xpdmUvaW5kaWEtbmV3cy9sYXRlc3QtYW5kLWJyZWFraW5nLW5ld3MtdG9kYXktaW4taGluZGktbGl2ZS0xMC1ub3ZlbWJlci0yMDIzLTIwMjMtMTEtMTA?hl=en-IN&gl=IN&ceid=IN%3Aen']"
      ]
     },
     "execution_count": 15,
     "metadata": {},
     "output_type": "execute_result"
    }
   ],
   "source": [
    "len(links)\n",
    "links[:4]"
   ]
  },
  {
   "cell_type": "code",
   "execution_count": 17,
   "metadata": {},
   "outputs": [],
   "source": [
    "import requests\n",
    "from bs4 import BeautifulSoup, TemplateString\n",
    "from tqdm import tqdm\n",
    "import time\n",
    "\n",
    "def scraper(urls):\n",
    "    \n",
    "    results = []\n",
    "    for url in tqdm(urls):\n",
    "\n",
    "        # Send a GET request to the URL\n",
    "        try:\n",
    "            response = requests.get(url)\n",
    "            time.sleep(0.5)\n",
    "        except:\n",
    "            print(f'Failed to get {url}')\n",
    "            continue\n",
    "\n",
    "        # Check if the request was successful\n",
    "        if response.status_code == 200:\n",
    "            # Parse the content of the page using BeautifulSoup\n",
    "            soup = BeautifulSoup(response.content, 'html.parser')\n",
    "        \n",
    "            for data in soup(['head', 'header', 'style', 'script', 'g', 'polygon', 'path', 'svg', 'option', 'footer']):\n",
    "                # Remove tags\n",
    "                data.decompose()\n",
    "\n",
    "            article_text = ' '.join(paragraph.text.strip() for paragraph in soup.find_all('p'))\n",
    "            \n",
    "            # Extract the headline\n",
    "            headline = soup.find('h1')\n",
    "            if headline:\n",
    "                headline = headline.text.strip()\n",
    "            else:\n",
    "                headline = ''\n",
    "\n",
    "            result = headline + '\\n' + article_text\n",
    "            results.append(result)\n",
    "\n",
    "        else:\n",
    "            print(\"Failed to retrieve the webpage. Status code:\", response.status_code)\n",
    "            print(f\"Error in URL: {url}\")\n",
    "\n",
    "    return results\n"
   ]
  },
  {
   "cell_type": "code",
   "execution_count": 18,
   "metadata": {},
   "outputs": [
    {
     "name": "stderr",
     "output_type": "stream",
     "text": [
      "  2%|▏         | 1/50 [00:01<01:21,  1.66s/it]"
     ]
    },
    {
     "name": "stdout",
     "output_type": "stream",
     "text": [
      "Failed to retrieve the webpage. Status code: 403\n",
      "Error in URL: https://news.google.com/articles/CBMib2h0dHBzOi8vd3d3LmxpdmVoaW5kdXN0YW4uY29tL25hdGlvbmFsL3N0b3J5LWluZGlhLXVzLWNvLXByb2R1Y2UtYXJtb3JlZC12ZWhpY2xlcy10by1jb3VudGVyLWNoaW5hLTg5NjI5MjIuaHRtbNIBc2h0dHBzOi8vd3d3LmxpdmVoaW5kdXN0YW4uY29tL25hdGlvbmFsL3N0b3J5LWluZGlhLXVzLWNvLXByb2R1Y2UtYXJtb3JlZC12ZWhpY2xlcy10by1jb3VudGVyLWNoaW5hLTg5NjI5MjIuYW1wLmh0bWw?hl=en-IN&gl=IN&ceid=IN%3Aen\n"
     ]
    },
    {
     "name": "stderr",
     "output_type": "stream",
     "text": [
      " 58%|█████▊    | 29/50 [02:57<06:10, 17.66s/it]"
     ]
    },
    {
     "name": "stdout",
     "output_type": "stream",
     "text": [
      "Failed to get https://news.google.com/articles/CBMikQFodHRwczovL3d3dy5hYWp0YWsuaW4vaW5kaWEvbmV3cy9zdG9yeS9hYWota2ktdGF6YS1raGFiYXItMTQtb2N0b2Jlci0yMDIzLWxhdGVzdC10YWFqYS1zYW1hY2hhci1saXZlLW5ld3MtdXBkYXRlcy1pbi1oaW5kaS1udGMtMTc5OTAxMi0yMDIzLTEwLTE00gGVAWh0dHBzOi8vd3d3LmFhanRhay5pbi9hbXAvaW5kaWEvbmV3cy9zdG9yeS9hYWota2ktdGF6YS1raGFiYXItMTQtb2N0b2Jlci0yMDIzLWxhdGVzdC10YWFqYS1zYW1hY2hhci1saXZlLW5ld3MtdXBkYXRlcy1pbi1oaW5kaS1udGMtMTc5OTAxMi0yMDIzLTEwLTE0?hl=en-IN&gl=IN&ceid=IN%3Aen\n"
     ]
    },
    {
     "name": "stderr",
     "output_type": "stream",
     "text": [
      " 66%|██████▌   | 33/50 [03:04<01:34,  5.58s/it]"
     ]
    },
    {
     "name": "stdout",
     "output_type": "stream",
     "text": [
      "Failed to retrieve the webpage. Status code: 403\n",
      "Error in URL: https://news.google.com/articles/CBMifWh0dHBzOi8vd3d3LmxpdmVoaW5kdXN0YW4uY29tL25hdGlvbmFsL3N0b3J5LWNvbmdyZXNzLWFubm91bmNlZC1taW5vcml0eS1tYW5pZmVzdG8taW4tdGVsYW5nYW5hLWFuZC1jYXN0ZS1jZW5zdXMtODk2MDgxOS5odG1s0gGBAWh0dHBzOi8vd3d3LmxpdmVoaW5kdXN0YW4uY29tL25hdGlvbmFsL3N0b3J5LWNvbmdyZXNzLWFubm91bmNlZC1taW5vcml0eS1tYW5pZmVzdG8taW4tdGVsYW5nYW5hLWFuZC1jYXN0ZS1jZW5zdXMtODk2MDgxOS5hbXAuaHRtbA?hl=en-IN&gl=IN&ceid=IN%3Aen\n"
     ]
    },
    {
     "name": "stderr",
     "output_type": "stream",
     "text": [
      " 68%|██████▊   | 34/50 [03:06<01:09,  4.37s/it]"
     ]
    },
    {
     "name": "stdout",
     "output_type": "stream",
     "text": [
      "Failed to retrieve the webpage. Status code: 403\n",
      "Error in URL: https://news.google.com/articles/CBMifGh0dHBzOi8vd3d3LmxpdmVoaW5kdXN0YW4uY29tL25hdGlvbmFsL3N0b3J5LW5pdGlzaC1rdW1hci1jb250cm92ZXJzaWFsLXN0YXRlbWVudC1zcG9pbHMtZHJlYW1zLW9mLXBtLWNhbmRpZGF0ZS04OTYwNTMyLmh0bWzSAYABaHR0cHM6Ly93d3cubGl2ZWhpbmR1c3Rhbi5jb20vbmF0aW9uYWwvc3Rvcnktbml0aXNoLWt1bWFyLWNvbnRyb3ZlcnNpYWwtc3RhdGVtZW50LXNwb2lscy1kcmVhbXMtb2YtcG0tY2FuZGlkYXRlLTg5NjA1MzIuYW1wLmh0bWw?hl=en-IN&gl=IN&ceid=IN%3Aen\n"
     ]
    },
    {
     "name": "stderr",
     "output_type": "stream",
     "text": [
      " 78%|███████▊  | 39/50 [03:46<01:37,  8.83s/it]"
     ]
    },
    {
     "name": "stdout",
     "output_type": "stream",
     "text": [
      "Failed to retrieve the webpage. Status code: 403\n",
      "Error in URL: https://news.google.com/articles/CBMid2h0dHBzOi8vd3d3LmxpdmVoaW5kdXN0YW4uY29tL25hdGlvbmFsL3N0b3J5LWVhcnRocXVha2UtaW4tZGVsaGktbmNyLXV0dGFyLXByYWRlc2gtaGFyeWFuYS1hbmQtdXR0YXJha2hhbmQtODk0MzM1OS5odG1s0gF7aHR0cHM6Ly93d3cubGl2ZWhpbmR1c3Rhbi5jb20vbmF0aW9uYWwvc3RvcnktZWFydGhxdWFrZS1pbi1kZWxoaS1uY3ItdXR0YXItcHJhZGVzaC1oYXJ5YW5hLWFuZC11dHRhcmFraGFuZC04OTQzMzU5LmFtcC5odG1s?hl=en-IN&gl=IN&ceid=IN%3Aen\n"
     ]
    },
    {
     "name": "stderr",
     "output_type": "stream",
     "text": [
      " 82%|████████▏ | 41/50 [03:50<00:46,  5.20s/it]"
     ]
    },
    {
     "name": "stdout",
     "output_type": "stream",
     "text": [
      "Failed to retrieve the webpage. Status code: 403\n",
      "Error in URL: https://news.google.com/articles/CBMidGh0dHBzOi8vd3d3LmxpdmVoaW5kdXN0YW4uY29tL25hdGlvbmFsL3N0b3J5LXNpeHRoLWNsYXNzLXN0dWRlbnQtZ2FuZ3JhcGVkLWJ5LWhlci10ZWFjaGVycy10d28tYXJyZXN0ZWQtODk1ODUwMS5odG1s0gF4aHR0cHM6Ly93d3cubGl2ZWhpbmR1c3Rhbi5jb20vbmF0aW9uYWwvc3Rvcnktc2l4dGgtY2xhc3Mtc3R1ZGVudC1nYW5ncmFwZWQtYnktaGVyLXRlYWNoZXJzLXR3by1hcnJlc3RlZC04OTU4NTAxLmFtcC5odG1s?hl=en-IN&gl=IN&ceid=IN%3Aen\n"
     ]
    },
    {
     "name": "stderr",
     "output_type": "stream",
     "text": [
      " 88%|████████▊ | 44/50 [04:10<00:36,  6.05s/it]"
     ]
    },
    {
     "name": "stdout",
     "output_type": "stream",
     "text": [
      "Failed to retrieve the webpage. Status code: 403\n",
      "Error in URL: https://news.google.com/articles/CBMihwFodHRwczovL3plZW5ld3MuaW5kaWEuY29tL2hpbmRpL2luZGlhL3JhamFzdGhhbi9kYXVzYS9jb25ncmVzcy1jYW5kaWRhdGUtbWFtdGEtYmh1cGVzaC1jYW1wYWlnbi1mcm9tLXNpa3JhaS1pcy1nYWluaW5nLW1vbWVudHVtLzE5NTQwMDfSAYsBaHR0cHM6Ly96ZWVuZXdzLmluZGlhLmNvbS9oaW5kaS9pbmRpYS9yYWphc3RoYW4vZGF1c2EvY29uZ3Jlc3MtY2FuZGlkYXRlLW1hbXRhLWJodXBlc2gtY2FtcGFpZ24tZnJvbS1zaWtyYWktaXMtZ2FpbmluZy1tb21lbnR1bS8xOTU0MDA3L2FtcA?hl=en-IN&gl=IN&ceid=IN%3Aen\n"
     ]
    },
    {
     "name": "stderr",
     "output_type": "stream",
     "text": [
      " 90%|█████████ | 45/50 [04:12<00:23,  4.75s/it]"
     ]
    },
    {
     "name": "stdout",
     "output_type": "stream",
     "text": [
      "Failed to retrieve the webpage. Status code: 403\n",
      "Error in URL: https://news.google.com/articles/CBMieGh0dHBzOi8vd3d3LmxpdmVoaW5kdXN0YW4uY29tL25hdGlvbmFsL3N0b3J5LWJqcC1jaGFsbGVuZ2VzLW9wcG9zaXRpb24tY2FzdGUtY2Vuc3VzLW1heS1hbm5vdW5jZS1vYmMtc3VydmV5LTg5NTU5OTguaHRtbNIBfGh0dHBzOi8vd3d3LmxpdmVoaW5kdXN0YW4uY29tL25hdGlvbmFsL3N0b3J5LWJqcC1jaGFsbGVuZ2VzLW9wcG9zaXRpb24tY2FzdGUtY2Vuc3VzLW1heS1hbm5vdW5jZS1vYmMtc3VydmV5LTg5NTU5OTguYW1wLmh0bWw?hl=en-IN&gl=IN&ceid=IN%3Aen\n"
     ]
    },
    {
     "name": "stderr",
     "output_type": "stream",
     "text": [
      " 92%|█████████▏| 46/50 [04:13<00:15,  3.76s/it]"
     ]
    },
    {
     "name": "stdout",
     "output_type": "stream",
     "text": [
      "Failed to retrieve the webpage. Status code: 403\n",
      "Error in URL: https://news.google.com/articles/CBMid2h0dHBzOi8vd3d3LmxpdmVoaW5kdXN0YW4uY29tL25hdGlvbmFsL3N0b3J5LWVsdmlzaC15YWRhdi1uZXdzLXNuYWtlLXBvaXNvbi1hZGRpY3Rpb24tYWxjb2hvbC1saXF1b3ItbmFzaGEtODk0NzQ2MC5odG1s0gF7aHR0cHM6Ly93d3cubGl2ZWhpbmR1c3Rhbi5jb20vbmF0aW9uYWwvc3RvcnktZWx2aXNoLXlhZGF2LW5ld3Mtc25ha2UtcG9pc29uLWFkZGljdGlvbi1hbGNvaG9sLWxpcXVvci1uYXNoYS04OTQ3NDYwLmFtcC5odG1s?hl=en-IN&gl=IN&ceid=IN%3Aen\n"
     ]
    },
    {
     "name": "stderr",
     "output_type": "stream",
     "text": [
      " 96%|█████████▌| 48/50 [04:16<00:05,  2.61s/it]"
     ]
    },
    {
     "name": "stdout",
     "output_type": "stream",
     "text": [
      "Failed to retrieve the webpage. Status code: 403\n",
      "Error in URL: https://news.google.com/articles/CBMicGh0dHBzOi8vd3d3LmxpdmVoaW5kdXN0YW4uY29tL25hdGlvbmFsL3N0b3J5LW11bWJhaS1haXItcG9sbHV0aW9uLW11bWJhaS1jaG9raW5nLWZlZWxpbmctbGlrZS1kZWxoaS04OTUxNDg4Lmh0bWzSAXRodHRwczovL3d3dy5saXZlaGluZHVzdGFuLmNvbS9uYXRpb25hbC9zdG9yeS1tdW1iYWktYWlyLXBvbGx1dGlvbi1tdW1iYWktY2hva2luZy1mZWVsaW5nLWxpa2UtZGVsaGktODk1MTQ4OC5hbXAuaHRtbA?hl=en-IN&gl=IN&ceid=IN%3Aen\n"
     ]
    },
    {
     "name": "stderr",
     "output_type": "stream",
     "text": [
      "100%|██████████| 50/50 [04:19<00:00,  5.20s/it]\n"
     ]
    }
   ],
   "source": [
    "results = scraper(links[:50])"
   ]
  },
  {
   "cell_type": "code",
   "execution_count": 12,
   "metadata": {},
   "outputs": [],
   "source": [
    "len(results)\n",
    "\n",
    "with open(\"test_news_hindi.txt\", 'wb') as f:\n",
    "    for result in results:\n",
    "        f.write(result.encode('utf-8').strip())"
   ]
  },
  {
   "cell_type": "code",
   "execution_count": null,
   "metadata": {},
   "outputs": [],
   "source": []
  },
  {
   "cell_type": "markdown",
   "metadata": {},
   "source": [
    "## trash"
   ]
  },
  {
   "cell_type": "code",
   "execution_count": 36,
   "metadata": {},
   "outputs": [],
   "source": [
    "import requests\n",
    "from bs4 import BeautifulSoup, TemplateString\n",
    "\n",
    "# def scraper(url):\n",
    "    # The URL of the article to scrape\n",
    "url = \"https://me.mashable.com/culture/34493/northern-lights-paint-bulgarias-sky-in-eerie-red-hue-see-pics\"\n",
    "url = \"https://www.ndtv.com/india-news/cbi-inquiry-against-mahua-moitra-ordered-by-anti-corruption-panel-bjp-mp-4557198\"\n",
    "url = \"https://thewire.in/security/india-armed-forces-politicisation-by-default-or-design\"\n",
    "url = \"https://www.washingtonpost.com/politics/2023/11/07/abortion-ohio-kentucky-virginia-elecitons/\"\n",
    "url = \"https://www.theinformation.com/articles/american-ai-startups-raise-money-from-top-chinese-vc-firms-including-sequoia-capital-china\"\n",
    "url = \"https://www.nytimes.com/2023/11/08/business/energy-environment/electric-vehicles-biden.html\"\n",
    "\n",
    "    # Send a GET request to the URL\n",
    "response = requests.get(url)\n",
    "\n",
    "# Check if the request was successful\n",
    "if response.status_code == 200:\n",
    "    # Parse the content of the page using BeautifulSoup\n",
    "    soup = BeautifulSoup(response.content, 'html.parser')\n",
    "\n",
    "    # soup = BeautifulSoup(html, \"html.parser\")\n",
    " \n",
    "    for data in soup(['head', 'header', 'style', 'script', 'g', 'polygon', 'path', 'svg', 'option', 'footer']):\n",
    "        # Remove tags\n",
    "        data.decompose()\n",
    "    # temp = TemplateString(response.content)\n",
    "    print(soup)\n",
    "    print()\n",
    "\n",
    "    article_text = ' '.join(paragraph.text.strip() for paragraph in soup.find_all('p'))\n",
    "\n",
    "    # print(article_text)\n",
    "    # print(len(soup))\n",
    "    # print(temp)\n",
    "    # print(soup)\n",
    "\n",
    "    # soup.find_all('script')\n",
    "    # soup.find_all()\n",
    "    \n",
    "    # Extract the headline\n",
    "    headline = soup.find('h1')\n",
    "    if headline:\n",
    "        headline = headline.text.strip()\n",
    "    \n",
    "#     # Try to find the container of the article content\n",
    "#     # The class or tag here is hypothetical and should be replaced with the actual class or tag that contains the article text.\n",
    "#     article_content = soup.find('article') \n",
    "#     # or soup.find('main')  # Adjust the class or tag as needed\n",
    "    \n",
    "#     # Check if the article content was found\n",
    "    # if article_content:\n",
    "    #     paragraphs = article_content.find_all('p')\n",
    "    #     article_text = ' '.join(paragraph.text.strip() for paragraph in paragraphs)\n",
    "    # else:\n",
    "    #     article_text = \"Could not find the article content.\"\n",
    "    \n",
    "    # Print the extracted information\n",
    "    print(\"Headline:\", headline)\n",
    "    print(\"Article Text:\", article_text)\n",
    "# else:\n",
    "#     print(\"Failed to retrieve the webpage. Status code:\", response.status_code)\n",
    "\n",
    "        \n",
    "        \n"
   ]
  },
  {
   "cell_type": "code",
   "execution_count": null,
   "metadata": {},
   "outputs": [],
   "source": []
  },
  {
   "cell_type": "code",
   "execution_count": 10,
   "metadata": {},
   "outputs": [
    {
     "name": "stdout",
     "output_type": "stream",
     "text": [
      "Headline: CBI Probe Against Mahua Moitra Ordered By Anti-Graft Panel, Claims BJP MP\n",
      "Article Text: Anti-corruption body Lokpal has ordered a probe by the Central Bureau of Investigation into the corruption allegations against Trinamool Congress MP Mahua Moitra, the BJP's Nishikant Dubey posted today on X, formerly Twitter. Ms Moitra has been embroiled in cash for query allegations levelled by Mr Dubey, which is under the lens of the Parliamentary Ethics Committee. In a letter to Lok Sabha Speaker Om Birla, he had demanded her immediate suspension from parliament. \"On basis of my complaint, Lokpal has ordered a CBI probe into the Mahua Moitra's corruption that compromises national security,\" read a rough translation of BJP MP's post. Nishikant Dubey has alleged that Ms Moitra accepted cash from businessman Darshan Hiranandani to ask questions in parliament on his behalf to target Prime Minister Narendra Modi and business rival Adani Group.  He has also claimed that Ms Moitra, by sharing her parliamentary login with the businessman, has compromised national security. In an explosive affidavit, Darshan Hiranandani has admitted to the login sharing, but bypassed the cash for query issue, saying he had given Ms Moitra gifts that she had demanded. There are allegations that Ms Moitra's login has been used multiple times from Dubai, where Mr Hiranandani currently resides. Mahua Moitra has accepted that she shared her login, but claimed the dos and don'ts of that matter has not been shared with the MPs. Ahead of her hearing with the Ethics Committee, she had written them a letter, mentioning that there is no regulation governing sharing of login and password. \"Why were these rules not shared with MPs,\" she had questioned in the letter. The MP had stormed out the meeting, which took place last week, accusing the committee of subjecting her to \"proverbial vastraharan (stripping)\" in a letter to the Speaker. PromotedListen to the latest songs, only on JioSaavn.com The Ethics panel chief -- BJP MP Vinod Kumar Sonkar -- has focussed on Ms Moitra's personal relationship with Darshan Hiranandani. There were questions too on Jai Anant Dehadrai, on whose complaint to the Central Bureau of Investigation the entire case rests. The Committee has accused Ms Moitra of non-cooperation. \"Mahua Moitra did not cooperate with the committee and the investigation. The Opposition members also made allegations in anger and suddenly walked out of the meeting to avoid answering more questions,\" Mr Sonkar said. Track Latest News Live on NDTV.com and get news updates from India  and around the world. Watch Live News: Follow Us:\n"
     ]
    }
   ],
   "source": [
    "url = \"https://www.ndtv.com/india-news/cbi-inquiry-against-mahua-moitra-ordered-by-anti-corruption-panel-bjp-mp-4557198\"\n",
    "\n",
    "scraper(url)"
   ]
  },
  {
   "cell_type": "code",
   "execution_count": null,
   "metadata": {},
   "outputs": [],
   "source": []
  }
 ],
 "metadata": {
  "kernelspec": {
   "display_name": "curate-v1",
   "language": "python",
   "name": "python3"
  },
  "language_info": {
   "codemirror_mode": {
    "name": "ipython",
    "version": 3
   },
   "file_extension": ".py",
   "mimetype": "text/x-python",
   "name": "python",
   "nbconvert_exporter": "python",
   "pygments_lexer": "ipython3",
   "version": "3.10.12"
  }
 },
 "nbformat": 4,
 "nbformat_minor": 2
}
