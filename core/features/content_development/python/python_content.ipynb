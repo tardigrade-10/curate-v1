{
 "cells": [
  {
   "cell_type": "code",
   "execution_count": 35,
   "metadata": {},
   "outputs": [],
   "source": [
    "%load_ext autoreload\n",
    "%autoreload 2\n",
    "\n",
    "import os\n",
    "curpath = os.getcwd()\n",
    "os.chdir(curpath.split(\"core\")[0])"
   ]
  },
  {
   "cell_type": "code",
   "execution_count": 37,
   "metadata": {},
   "outputs": [],
   "source": [
    "from openai import OpenAI\n",
    "import json\n",
    "import time\n",
    "from typing import List, Dict, Any, Tuple, Union\n",
    "\n",
    "# from core.features.content_development.python.prompts import SIMPLE\n",
    "from core.features.topic_segregation.utils import add_dicts, calculate_cost_gpt4_8k, calculate_cost_gpt4_turbo\n",
    "from core.features.provider import creator, text_model_defaults\n",
    "\n",
    "from dotenv import load_dotenv\n",
    "load_dotenv()\n",
    "\n",
    "client = OpenAI()"
   ]
  },
  {
   "cell_type": "code",
   "execution_count": 5,
   "metadata": {},
   "outputs": [
    {
     "data": {
      "text/plain": [
       "'\\nFLOW - \\n1. generate a course structure after asking for a topic, scope of the topic, duration of course (in hours), parts (modules)\\nformat ```json \\n\\n{\\n    \"topic\": \"topic\",\\n    \"curriculum\": {\\n        \"module1\" : [list of subtopics in module1],\\n        \"module2\" : [list of subtopics in module2],\\n            ...\\n    },\\n}\\n\\n2. take first topic of module1, and ask for the content on it with proper comments and explanations. add all the response in different files and iterate for all the topics of all the modules. \\n\\n\\npseudo code - \\n\\n\\nstructure = generate_structure(topic, topic_scope, duration_in_hours, number_of_parts)\\n\\nfor module in structure[\"curriculum\"]:\\n    for topic in structure[\"curriculum\"][module]:\\n        content = generate_content(topic)\\n        save_content(content)\\n\\n\\n'"
      ]
     },
     "execution_count": 5,
     "metadata": {},
     "output_type": "execute_result"
    }
   ],
   "source": [
    "\"\"\"\n",
    "FLOW - \n",
    "1. generate a course structure after asking for a topic, scope of the topic, duration of course (in hours), parts (modules)\n",
    "format ```json \n",
    "\n",
    "{\n",
    "    \"topic\": \"topic\",\n",
    "    \"curriculum\": {\n",
    "        \"module1\" : [list of subtopics in module1],\n",
    "        \"module2\" : [list of subtopics in module2],\n",
    "            ...\n",
    "    },\n",
    "}\n",
    "\n",
    "2. take first topic of module1, and ask for the content on it with proper comments and explanations. add all the response in different files and iterate for all the topics of all the modules. \n",
    "\n",
    "\n",
    "pseudo code - \n",
    "\n",
    "\n",
    "structure = generate_structure(topic, topic_scope, duration_in_hours, number_of_parts)\n",
    "\n",
    "for module in structure[\"curriculum\"]:\n",
    "    for topic in structure[\"curriculum\"][module]:\n",
    "        content = generate_content(topic)\n",
    "        save_content(content)\n",
    "\n",
    "\n",
    "\"\"\""
   ]
  },
  {
   "cell_type": "code",
   "execution_count": null,
   "metadata": {},
   "outputs": [],
   "source": [
    "conversation = [{\"role\": \"system\", \"content\": \"You are a code generation engine. For every topic give by the user, you will provide a comprehensive tutorial jupyter notebook. You iwll output all responses in raw JSON format as it would appear in a Jupyter Notebook. Include all relevant fields such as cell type, source code, execution count, and outputs. Ensure the output is properly structured and formatted as per Jupyter Notebook's JSON specifications.\"}]\n",
    "\n",
    "user_message = {'role': 'user', 'content': \"\"\"write a jupyter notebook's raw json to create a comprehensive tutorial for python dictionaries. \n",
    "\n",
    "in the notebook include, just include cell_type and source.\n",
    "Your output should be a json only.\"\"\"}\n",
    "\n",
    "conversation.append(user_message)\n",
    "\n",
    "\n",
    "response = creator(**text_model_defaults, messages=conversation)\n",
    "\n",
    "output = response.choices[0].message.content\n",
    "\n",
    "print(output)"
   ]
  },
  {
   "cell_type": "code",
   "execution_count": 39,
   "metadata": {},
   "outputs": [],
   "source": [
    "raw_notebook = json.loads(output)"
   ]
  },
  {
   "cell_type": "code",
   "execution_count": 45,
   "metadata": {},
   "outputs": [],
   "source": [
    "import json\n",
    "\n",
    "def convert_to_jupyter_notebook(input_json, file_name):\n",
    "\n",
    "    # Template for a Jupyter Notebook\n",
    "\n",
    "    \"\"\"\n",
    "    Rules to create the jupyter notebook:\n",
    "    1. metadata tag must be present in code cell\n",
    "    \"\"\"\n",
    "    notebook_template = {\n",
    "        \"cells\": [],\n",
    "        \"metadata\": {'kernelspec': {'display_name': 'Python 3',\n",
    "            'language': 'python',\n",
    "            'name': 'python3'},\n",
    "            'language_info': {'codemirror_mode': {'name': 'ipython', 'version': 3},\n",
    "            'file_extension': '.py',\n",
    "            'mimetype': 'text/x-python',\n",
    "            'name': 'python',\n",
    "            'nbconvert_exporter': 'python',\n",
    "            'pygments_lexer': 'ipython3',\n",
    "            'version': '3.8.5'}},\n",
    "        \"nbformat\": 4,\n",
    "        \"nbformat_minor\": 4\n",
    "    }\n",
    "\n",
    "    # Adding the cells from the input JSON to the notebook template\n",
    "    for cell in input_json['cells']:\n",
    "        if cell['cell_type'] == \"code\":\n",
    "            cell['metadata'] = {}\n",
    "\n",
    "    notebook_template['cells'] = input_json['cells']\n",
    "\n",
    "    with open(f'{file_name}.json', 'w') as file:\n",
    "        json.dump(notebook_template, file, indent=2)\n",
    "\n",
    "\n",
    "# Convert to Jupyter Notebook JSON\n",
    "jupyter_notebook_json = convert_to_jupyter_notebook(raw_notebook, file_name='python_dict_new')\n",
    "\n"
   ]
  },
  {
   "cell_type": "code",
   "execution_count": null,
   "metadata": {},
   "outputs": [],
   "source": []
  },
  {
   "cell_type": "code",
   "execution_count": null,
   "metadata": {},
   "outputs": [],
   "source": []
  }
 ],
 "metadata": {
  "kernelspec": {
   "display_name": "curate-v1",
   "language": "python",
   "name": "python3"
  },
  "language_info": {
   "codemirror_mode": {
    "name": "ipython",
    "version": 3
   },
   "file_extension": ".py",
   "mimetype": "text/x-python",
   "name": "python",
   "nbconvert_exporter": "python",
   "pygments_lexer": "ipython3",
   "version": "3.10.12"
  }
 },
 "nbformat": 4,
 "nbformat_minor": 2
}
