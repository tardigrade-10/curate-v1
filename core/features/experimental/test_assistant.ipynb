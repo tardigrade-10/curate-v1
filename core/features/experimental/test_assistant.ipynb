{
 "cells": [
  {
   "cell_type": "code",
   "execution_count": 6,
   "metadata": {},
   "outputs": [
    {
     "name": "stdout",
     "output_type": "stream",
     "text": [
      "The autoreload extension is already loaded. To reload it, use:\n",
      "  %reload_ext autoreload\n"
     ]
    }
   ],
   "source": [
    "%load_ext autoreload\n",
    "%autoreload 2\n",
    "\n",
    "import os\n",
    "curpath = os.getcwd()\n",
    "os.chdir(curpath.split(\"core\")[0])"
   ]
  },
  {
   "cell_type": "code",
   "execution_count": 7,
   "metadata": {},
   "outputs": [],
   "source": [
    "import openai\n",
    "from openai import OpenAI\n",
    "from dotenv import load_dotenv\n",
    "load_dotenv()\n",
    "\n",
    "client = OpenAI()"
   ]
  },
  {
   "cell_type": "code",
   "execution_count": 8,
   "metadata": {},
   "outputs": [],
   "source": [
    "# Upload a file with an \"assistants\" purpose\n",
    "file_path = r\"C:\\Users\\DELL\\Documents\\Curate\\curate-v1\\core\\features\\experimental\\test_news1.txt\"\n",
    "file = client.files.create(\n",
    "  file=open(file_path, \"rb\"),\n",
    "  purpose='assistants'\n",
    ")\n",
    "\n",
    "# Add the file to the assistant\n",
    "assistant = client.beta.assistants.create(\n",
    "    name=\"Retriever\",\n",
    "    instructions=\"You are an information retrieval bot. Use the knowledge provided to answer user queries\",\n",
    "    model=\"gpt-4-1106-preview\",\n",
    "    tools=[{\"type\": \"retrieval\"}],\n",
    "    file_ids=[file.id]\n",
    ")"
   ]
  },
  {
   "cell_type": "code",
   "execution_count": 9,
   "metadata": {},
   "outputs": [],
   "source": [
    "thread = client.beta.threads.create(\n",
    "  messages=[\n",
    "    {\n",
    "      \"role\": \"user\",\n",
    "      \"content\": \"Find all the names of colleges mentioned\",\n",
    "      \"file_ids\": [file.id]\n",
    "    }\n",
    "  ]\n",
    ")\n",
    "\n",
    "run = client.beta.threads.runs.create(\n",
    "  thread_id=thread.id,\n",
    "  assistant_id=assistant.id\n",
    ")"
   ]
  },
  {
   "cell_type": "code",
   "execution_count": 10,
   "metadata": {},
   "outputs": [],
   "source": [
    "messages = client.beta.threads.messages.list(\n",
    "  thread_id=thread.id\n",
    ")"
   ]
  },
  {
   "cell_type": "code",
   "execution_count": 19,
   "metadata": {},
   "outputs": [
    {
     "name": "stdout",
     "output_type": "stream",
     "text": [
      "The mentioned colleges include:\n",
      "\n",
      "1. College of Southern Idaho\n",
      "2. William Rainey Harper College\n",
      "3. Vincennes University\n",
      "4. Barton County Community College\n",
      "5. Hopkinsville Community College\n",
      "6. Louisiana State University-Eunice\n",
      "7. Massachusetts Bay Community College\n",
      "8. Montgomery College\n",
      "9. Kennebec Valley Community College\n",
      "10. Muskegon Community College\n",
      "11. Normandale Community College\n",
      "12. St. Charles Community College\n",
      "13. Mississippi Delta Community College\n",
      "14. Dawson Community College\n",
      "15. Coastal Carolina Community College\n",
      "16. Dakota College at Bottineau\n",
      "17. Columbus State Community College\n",
      "18. Northern Oklahoma College\n",
      "19. Portland Community College\n",
      "20. Bucks County Community College\n",
      "21. Community College of Rhode Island\n",
      "22. Tri-County Technical College\n",
      "23. Northeast State Community College\n",
      "24. Blinn College District\n",
      "25. Snow College\n",
      "26. Northern Virginia Community College\n",
      "27. Mid-Plains Community College\n",
      "28. NHTI-Concord's Community College\n",
      "29. County College of Morris\n",
      "30. New Mexico Military Institute\n",
      "31. Western Nevada College\n",
      "32. Stella and Charles Guttman Community College\n",
      "33. Northeastern Oklahoma A&M College\n",
      "34. Clackamas Community College\n",
      "35. University of South Carolina-Sumter\n",
      "36. Western Dakota Technical Institute\n",
      "37. Motlow State Community College\n",
      "38. The University of Texas at Brownsville\n",
      "39. Middlesex Community College\n",
      "40. Kalamazoo Valley Community College\n",
      "41. Rochester Community and Technical College\n",
      "42. Jones County Junior College\n",
      "43. Missouri State University-West Plains\n",
      "44. Northeast Community College\n",
      "45. Truckee Meadows Community College\n",
      "46. Middlesex College\n",
      "47. Central New Mexico Community College\n",
      "48. CUNY Kingsborough Community College\n",
      "49. Central Piedmont Community College\n",
      "50. Marion Military Institute\n",
      "51. NorthWest Arkansas Community College\n",
      "52. Chandler-Gilbert Community College\n",
      "53. Irvine Valley College\n",
      "54. Colorado Northwestern Community College\n",
      "55. Norwalk Community College\n",
      "56. Delaware Technical Community College-Terry\n",
      "57. Tallahassee Community College\n",
      "58. South Georgia State College\n",
      "59. Kapiolani Community College\n",
      "60. Ellsworth Community College\n",
      "61. Heartland Community College\n",
      "62. Ivy Tech Community College\n",
      "63. Hawkeye Community College\n",
      "64. Butler Community College\n",
      "65. Southcentral Kentucky Community and Technical College\n",
      "66. South Louisiana Community College\n",
      "67. Southern Maine Community College\n",
      "68. Wor-Wic Community College\n",
      "69. Richard Bland College of the College of William and Mary\n",
      "70. Community College of Vermont\n",
      "71. Bellevue College\n",
      "72. University of Wisconsin Colleges\n",
      "73. Southern West Virginia Community and Technical College\n",
      "74. Northwest College\n",
      "75. Southern Union State Community College\n",
      "76. Pikes Peak State College\n",
      "77. Manchester Community College\n",
      "78. East Georgia State College\n",
      "79. Ashdale Secondary College\n",
      "80. Manea Senior College【9†source】.\n"
     ]
    }
   ],
   "source": [
    "m = messages.model_dump()\n",
    "\n",
    "print(m['data'][0]['content'][0]['text']['value'])"
   ]
  },
  {
   "cell_type": "code",
   "execution_count": null,
   "metadata": {},
   "outputs": [],
   "source": []
  }
 ],
 "metadata": {
  "kernelspec": {
   "display_name": "curate-v1",
   "language": "python",
   "name": "python3"
  },
  "language_info": {
   "codemirror_mode": {
    "name": "ipython",
    "version": 3
   },
   "file_extension": ".py",
   "mimetype": "text/x-python",
   "name": "python",
   "nbconvert_exporter": "python",
   "pygments_lexer": "ipython3",
   "version": "3.10.12"
  }
 },
 "nbformat": 4,
 "nbformat_minor": 2
}
