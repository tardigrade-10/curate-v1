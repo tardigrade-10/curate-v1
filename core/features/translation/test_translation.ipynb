{
 "cells": [
  {
   "cell_type": "markdown",
   "metadata": {},
   "source": [
    "# language translation"
   ]
  },
  {
   "cell_type": "code",
   "execution_count": 2,
   "metadata": {},
   "outputs": [],
   "source": [
    "%load_ext autoreload\n",
    "%autoreload 2\n",
    "\n",
    "import os\n",
    "curpath = os.getcwd()\n",
    "os.chdir(curpath.split(\"core\")[0])"
   ]
  },
  {
   "cell_type": "code",
   "execution_count": 3,
   "metadata": {},
   "outputs": [],
   "source": [
    "import json\n",
    "import time\n",
    "import logging\n",
    "# logging.basicConfig(level=logging.INFO)\n",
    "\n",
    "\n",
    "from typing import List, Dict, Any, Tuple, Union\n",
    "from tqdm import tqdm\n",
    "\n",
    "from prompts import SIMPLE_ENGLISH_TRANS_PROMPT, SIMPLE_HINDI_TRANS_PROMPT\n",
    "from core.features.provider import creator\n",
    "from core.features.utils import calculate_cost_gpt4_turbo, add_dicts\n",
    "\n",
    "from dotenv import load_dotenv\n",
    "load_dotenv()\n",
    "\n",
    "text_model_defaults = {\"model\" : \"gpt-4-1106-preview\", \"temperature\" : 0.1, \"response_format\" : {\"type\": \"json_object\"}}"
   ]
  },
  {
   "cell_type": "code",
   "execution_count": 6,
   "metadata": {},
   "outputs": [],
   "source": [
    "def get_text_list_from_raw_text(raw_text, sep = \"\\n\"):\n",
    "\n",
    "    if isinstance(raw_text, str):\n",
    "        raw_text_l = raw_text.splitlines()\n",
    "    elif isinstance(raw_text, list):\n",
    "        raw_text_l = raw_text\n",
    "    else:\n",
    "        raise ValueError(\"raw_text must be a string or a list\")\n",
    "\n",
    "    return raw_text_l\n",
    "\n",
    "def chunk_raw_text_list(raw_text_list, max_len=3000):\n",
    "    \"\"\"\n",
    "    Splits a list of text strings into chunks where the total length of each chunk is \n",
    "    less than or equal to max_len.\n",
    "\n",
    "    :param raw_text_list: List of text strings to be chunked.\n",
    "    :param max_len: Maximum character length for each chunk.\n",
    "    :return: List of text chunks, each being a list of text strings.\n",
    "    \"\"\"\n",
    "    text_list = []\n",
    "    current_chunk = []\n",
    "    current_len = 0\n",
    "\n",
    "    for text in raw_text_list:\n",
    "        text_len = len(text)\n",
    "        \n",
    "        # Check if adding this text would exceed the max length\n",
    "        if current_len + text_len > max_len and current_chunk:\n",
    "            # Start a new chunk\n",
    "            text_list.append(current_chunk)\n",
    "            current_chunk = [text]\n",
    "            current_len = text_len\n",
    "        else:\n",
    "            # Add text to current chunk\n",
    "            current_chunk.append(text)\n",
    "            current_len += text_len\n",
    "\n",
    "    # Add the last chunk if it's not empty\n",
    "    if current_chunk:\n",
    "        text_list.append(current_chunk)\n",
    "\n",
    "    return text_list\n",
    "\n",
    "\n",
    "def text_path_to_chunk(path, max_len=20000, verbose=False):\n",
    "\n",
    "    with open(path, 'rb') as f:\n",
    "        _text = f.read().decode('utf-8')\n",
    "\n",
    "    total_chars = len(_text)\n",
    "\n",
    "    # convert raw_text to list and get unique values\n",
    "    _text_lists = get_text_list_from_raw_text(_text)\n",
    "\n",
    "    # chunking the list into sublists with max length of characters in a chunk is max_len\n",
    "    chunked_text_list = chunk_raw_text_list(_text_lists, max_len=max_len)\n",
    "\n",
    "    if verbose:\n",
    "        print(\"Total chars:\", total_chars)\n",
    "        print(\"Unique Text Lists:\", len(_text_lists))\n",
    "        print(\"Text List chunks:\", len(chunked_text_list))\n",
    "        for i in chunked_text_list:\n",
    "            t = \"\".join(i)\n",
    "            print(\"Chunk of size\", len(t), \"characters\")\n",
    "\n",
    "    return chunked_text_list\n"
   ]
  },
  {
   "cell_type": "code",
   "execution_count": 13,
   "metadata": {},
   "outputs": [],
   "source": [
    "\n",
    "def translate_gen(input_text: str, language: str):\n",
    "\n",
    "    if language == \"en\":\n",
    "        conversation = [{\"role\": \"system\", \"content\": SIMPLE_ENGLISH_TRANS_PROMPT}]\n",
    "    elif language == \"hi\":\n",
    "        conversation = [{\"role\": \"system\", \"content\": SIMPLE_HINDI_TRANS_PROMPT}]\n",
    "    else:\n",
    "        raise ValueError(\"Language not supported\")\n",
    "\n",
    "    user_prompt = f\"\"\"\n",
    "    INPUT_TEXT:\n",
    "\n",
    "    //input_text//\n",
    "\n",
    "    {input_text}\n",
    "\n",
    "    //input_text//\n",
    "    \n",
    "    OUTPUT:\n",
    "    \"\"\"\n",
    "\n",
    "    user_message = {'role': 'user', \"content\": user_prompt}\n",
    "    conversation.append(user_message)\n",
    "\n",
    "    response = creator(\n",
    "                    **text_model_defaults,\n",
    "                    messages = conversation,\n",
    "                    )\n",
    "\n",
    "    output = response.choices[0].message.content\n",
    "    total_usage = response.usage.model_dump()\n",
    "\n",
    "    return {\"output\": output, \"total_usage\": total_usage}\n"
   ]
  },
  {
   "cell_type": "code",
   "execution_count": 14,
   "metadata": {},
   "outputs": [],
   "source": [
    "# final batch processing function\n",
    "def translate_batch_process(input_text: List[List], language) -> [Dict, Dict]:\n",
    "\n",
    "    final_dict = {\"text\": \"\"}\n",
    "    # print(final_dict)\n",
    "    total_tokens = {'prompt_tokens': 0, 'completion_tokens': 0, 'total_tokens': 0}\n",
    "\n",
    "    for raw_text_list in tqdm(input_text):\n",
    "        raw_text = \"\\n\".join(raw_text_list)\n",
    "\n",
    "        # print(raw_text)\n",
    "        result = translate_gen(input_text=raw_text, language=language)\n",
    "        output = result['output']\n",
    "        tokens = result['total_usage']\n",
    "\n",
    "        try:\n",
    "            json_out = json.loads(output)\n",
    "        except:\n",
    "            raise ValueError(\"Output is not a valid JSON\")\n",
    "        final_dict = add_dicts(final_dict, json_out)\n",
    "        total_tokens = add_dicts(total_tokens, tokens)\n",
    "\n",
    "    return final_dict, total_tokens\n"
   ]
  },
  {
   "cell_type": "code",
   "execution_count": 15,
   "metadata": {},
   "outputs": [
    {
     "name": "stdout",
     "output_type": "stream",
     "text": [
      "Total chars: 5064\n",
      "Unique Text Lists: 3\n",
      "Text List chunks: 3\n",
      "Chunk of size 84 characters\n",
      "Chunk of size 602 characters\n",
      "Chunk of size 4374 characters\n"
     ]
    },
    {
     "name": "stderr",
     "output_type": "stream",
     "text": [
      " 33%|███▎      | 1/3 [00:01<00:03,  1.91s/it]"
     ]
    },
    {
     "name": "stdout",
     "output_type": "stream",
     "text": [
      "{\n",
      "\"text\": \"Breaking News in Hindi: Live breaking news, read the main and latest news of November 9\"\n",
      "}\n"
     ]
    },
    {
     "name": "stderr",
     "output_type": "stream",
     "text": [
      " 67%|██████▋   | 2/3 [00:09<00:05,  5.15s/it]"
     ]
    },
    {
     "name": "stdout",
     "output_type": "stream",
     "text": [
      "{\n",
      "\"text\": \"Subscribe for unlimited article reading Link Copied Stay updated with every news, download Android Hindi News apps, iOS Hindi News apps and Amarujala Hindi News apps on your mobile. Get all India News in Hindi related to live updates of politics, sports, entertainment, technology, and education etc. Stay updated with us for all breaking news from India News and more news in Hindi. Next Article Please wait... Please wait... Delete All Cookies Followed Express your feedback ABP News Top 10, Morning Bulletin: Start your morning with news from ABP News, read all the major news from around the world together\"\n",
      "}\n"
     ]
    },
    {
     "name": "stderr",
     "output_type": "stream",
     "text": [
      "100%|██████████| 3/3 [01:33<00:00, 31.16s/it]"
     ]
    },
    {
     "name": "stdout",
     "output_type": "stream",
     "text": [
      "\n",
      "{\n",
      "\"text\": \"By: ABP News Bureau | Updated at: 10 Nov 2023 06:36 AM (IST) ABP News Top 10, Morning Bulletin: Start your morning with news from ABP News, read all the major news from around the country and the world together in ABP News Top 10, Night's Major News: Read all the major news from around the country and the world together on ABP News at night: 9 November 2023 | If you have missed important news in the day's hustle, read national-international, business, Bollywood, sports, and gadget news with just one click. Read More ABP News Top 10, Afternoon's Latest News: Read all the major news from around the country and the world together on ABP News in the afternoon: 9 November 2023 | Whether it's major news from home and abroad, the thrill of cricket, Bollywood gossip, or the ups and downs of the market. Get alerts for new gadgets, vehicles, or job information with just one click. Read More NCP Crisis: '...searched for 20,000 such affidavits', Sharad Pawar's faction accuses Ajit group of filing false affidavits, demands action from EC Maharashtra Politics: A hearing took place in the Election Commission on Thursday (9 November) in the Sharad Pawar versus Ajit Pawar case. The lawyer from Sharad's faction stated that many fake affidavits have been filed by Ajit Pawar's group. Read More Pakistan: Air in several cities including Lahore in Pakistan has become toxic, government announces four days of public holiday in view of worsening conditions Lahore Air Pollution: Pakistan's Lahore has announced a four-day public holiday to control air pollution. Doctors have advised people to wear face masks and stay at home. Read More Devendra Fadnavis sang 'Srivalli' with Javed Ali, the fun-filled video goes viral Pushpa The Rise: The fever of Allu Arjun's blockbuster film 'Pushpa The Rise' is still being seen. Meanwhile, the craze has been spotted on Maharashtra's Deputy Chief Minister Devendra Fadnavis. Read More Leo OTT Release: Fans to get a big surprise, Thalapathy Vijay's 'Leo' to release on OTT before 21 November! Leo Ott Release Preponed: Thalapathy Vijay's 'Leo' is now ready to make a splash on OTT. The film's OTT release date had been revealed, but now there is news that the film will be released before the scheduled date. Read More Asian Champions Trophy: India's daughters do wonders, win gold by defeating Japan in the final Asian Champions Trophy: The Indian team had previously defeated Japan by the same margin of 2-1 in the league stage of the tournament and the bronze medal (bronze medal) playoff of the 2023 Asian Games. Read More Irfan Pathan: After Sania Mirza, Irfan Pathan raises voice for Gaza victims, says- 'Children are dying daily there and the world is silent...' Indian Cricket Team: Former Indian cricket all-rounder Irfan Pathan has raised his voice for the innocent children and victims dying daily in Gaza. Sania Mirza had also raised questions for the victims of Gaza. Read More Happy Diwali 2023 Wishes: May Goddess Lakshmi visit your home, may your festival be holy, heartfelt wishes for Diwali, send Diwali wishes to your loved ones and congratulate them Happy Diwali 2023 Wishes: The festival of Diwali falls on the 12th of November in the year 2023. On this occasion, send these special Diwali messages to your loved ones and wish them on this festival. Happy Diwali. Read More Dhanteras 2023: Jewelers expect 10% more sales of gold jewelry on Dhanteras, prices rise does not affect demand! Dhanteras 2023: Since Dhanteras of 2022, the price of gold has risen by 20 percent to about 61,000 rupees per ten grams. Read More Rashmika Mandanna's deepfake video case sees action from Delhi Police, FIR registered Election Commission removes 3 election observers posted in Madhya Pradesh, Chhattisgarh, Mizoram, what are the allegations? Israel Hamas War: 'Israel tanks surround 3 major hospitals in Gaza, thousands forced to flee', claims Hamas Telangana Election 2023: Congress's minority manifesto in Telangana, what are the promises and implications? 'Congratulations...', BJP makes BS Yediyurappa's son the party chief of Karnataka, Congress takes a dig at nepotism Shah Rukh Khan wishes fans for Diwali, shares new posters of Dunki, writes- 'How will Diwali be without such a family...' What will be the impact of ICC's ban on Sri Lanka on the World Cup? Now won't be able to participate in the 2024 T20 World Cup either Watch: 'If you enjoy drinking, then sit at home...', people asking questions about Kailash Vijayvargiya's statement 'Deepfake' a technical marvel whose misuse will put our security at risk UP Politics: 'Babri Masjid was martyred illegally', SP MP Shafiqur Rahman Bark's statement on Yogi cabinet meeting Breaking News in Hindi: Breaking news live, read the main and latest news of 10 November\"\n",
      "}\n",
      "{'prompt_tokens': 4644, 'total_tokens': 5938, 'completion_tokens': 1294}\n",
      "0.08525999999999999\n",
      "{'text': \"Breaking News in Hindi: Live breaking news, read the main and latest news of November 9Subscribe for unlimited article reading Link Copied Stay updated with every news, download Android Hindi News apps, iOS Hindi News apps and Amarujala Hindi News apps on your mobile. Get all India News in Hindi related to live updates of politics, sports, entertainment, technology, and education etc. Stay updated with us for all breaking news from India News and more news in Hindi. Next Article Please wait... Please wait... Delete All Cookies Followed Express your feedback ABP News Top 10, Morning Bulletin: Start your morning with news from ABP News, read all the major news from around the world togetherBy: ABP News Bureau | Updated at: 10 Nov 2023 06:36 AM (IST) ABP News Top 10, Morning Bulletin: Start your morning with news from ABP News, read all the major news from around the country and the world together in ABP News Top 10, Night's Major News: Read all the major news from around the country and the world together on ABP News at night: 9 November 2023 | If you have missed important news in the day's hustle, read national-international, business, Bollywood, sports, and gadget news with just one click. Read More ABP News Top 10, Afternoon's Latest News: Read all the major news from around the country and the world together on ABP News in the afternoon: 9 November 2023 | Whether it's major news from home and abroad, the thrill of cricket, Bollywood gossip, or the ups and downs of the market. Get alerts for new gadgets, vehicles, or job information with just one click. Read More NCP Crisis: '...searched for 20,000 such affidavits', Sharad Pawar's faction accuses Ajit group of filing false affidavits, demands action from EC Maharashtra Politics: A hearing took place in the Election Commission on Thursday (9 November) in the Sharad Pawar versus Ajit Pawar case. The lawyer from Sharad's faction stated that many fake affidavits have been filed by Ajit Pawar's group. Read More Pakistan: Air in several cities including Lahore in Pakistan has become toxic, government announces four days of public holiday in view of worsening conditions Lahore Air Pollution: Pakistan's Lahore has announced a four-day public holiday to control air pollution. Doctors have advised people to wear face masks and stay at home. Read More Devendra Fadnavis sang 'Srivalli' with Javed Ali, the fun-filled video goes viral Pushpa The Rise: The fever of Allu Arjun's blockbuster film 'Pushpa The Rise' is still being seen. Meanwhile, the craze has been spotted on Maharashtra's Deputy Chief Minister Devendra Fadnavis. Read More Leo OTT Release: Fans to get a big surprise, Thalapathy Vijay's 'Leo' to release on OTT before 21 November! Leo Ott Release Preponed: Thalapathy Vijay's 'Leo' is now ready to make a splash on OTT. The film's OTT release date had been revealed, but now there is news that the film will be released before the scheduled date. Read More Asian Champions Trophy: India's daughters do wonders, win gold by defeating Japan in the final Asian Champions Trophy: The Indian team had previously defeated Japan by the same margin of 2-1 in the league stage of the tournament and the bronze medal (bronze medal) playoff of the 2023 Asian Games. Read More Irfan Pathan: After Sania Mirza, Irfan Pathan raises voice for Gaza victims, says- 'Children are dying daily there and the world is silent...' Indian Cricket Team: Former Indian cricket all-rounder Irfan Pathan has raised his voice for the innocent children and victims dying daily in Gaza. Sania Mirza had also raised questions for the victims of Gaza. Read More Happy Diwali 2023 Wishes: May Goddess Lakshmi visit your home, may your festival be holy, heartfelt wishes for Diwali, send Diwali wishes to your loved ones and congratulate them Happy Diwali 2023 Wishes: The festival of Diwali falls on the 12th of November in the year 2023. On this occasion, send these special Diwali messages to your loved ones and wish them on this festival. Happy Diwali. Read More Dhanteras 2023: Jewelers expect 10% more sales of gold jewelry on Dhanteras, prices rise does not affect demand! Dhanteras 2023: Since Dhanteras of 2022, the price of gold has risen by 20 percent to about 61,000 rupees per ten grams. Read More Rashmika Mandanna's deepfake video case sees action from Delhi Police, FIR registered Election Commission removes 3 election observers posted in Madhya Pradesh, Chhattisgarh, Mizoram, what are the allegations? Israel Hamas War: 'Israel tanks surround 3 major hospitals in Gaza, thousands forced to flee', claims Hamas Telangana Election 2023: Congress's minority manifesto in Telangana, what are the promises and implications? 'Congratulations...', BJP makes BS Yediyurappa's son the party chief of Karnataka, Congress takes a dig at nepotism Shah Rukh Khan wishes fans for Diwali, shares new posters of Dunki, writes- 'How will Diwali be without such a family...' What will be the impact of ICC's ban on Sri Lanka on the World Cup? Now won't be able to participate in the 2024 T20 World Cup either Watch: 'If you enjoy drinking, then sit at home...', people asking questions about Kailash Vijayvargiya's statement 'Deepfake' a technical marvel whose misuse will put our security at risk UP Politics: 'Babri Masjid was martyred illegally', SP MP Shafiqur Rahman Bark's statement on Yogi cabinet meeting Breaking News in Hindi: Breaking news live, read the main and latest news of 10 November\"}\n"
     ]
    },
    {
     "name": "stderr",
     "output_type": "stream",
     "text": [
      "\n"
     ]
    }
   ],
   "source": [
    "chunked_text_list = text_path_to_chunk(path=r\"C:\\Users\\DELL\\Documents\\Curate\\curate-v1\\core\\features\\translation\\test_news_hindi_short.txt\", verbose=True)\n",
    "res, tokens = translate_batch_process(input_text=chunked_text_list, language='en')\n",
    "\n",
    "print(tokens)\n",
    "print(calculate_cost_gpt4_turbo(tokens))\n",
    "print(res)"
   ]
  },
  {
   "cell_type": "markdown",
   "metadata": {},
   "source": [
    "Our cost per million characters: $12.5\n",
    "\n",
    "Google cloud cost: $20"
   ]
  },
  {
   "cell_type": "markdown",
   "metadata": {},
   "source": [
    "English to hindi translation is costly, by 3x of hindi to english."
   ]
  }
 ],
 "metadata": {
  "kernelspec": {
   "display_name": "curate-v1",
   "language": "python",
   "name": "python3"
  },
  "language_info": {
   "codemirror_mode": {
    "name": "ipython",
    "version": 3
   },
   "file_extension": ".py",
   "mimetype": "text/x-python",
   "name": "python",
   "nbconvert_exporter": "python",
   "pygments_lexer": "ipython3",
   "version": "3.10.12"
  }
 },
 "nbformat": 4,
 "nbformat_minor": 2
}
