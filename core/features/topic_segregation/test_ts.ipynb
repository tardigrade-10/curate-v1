{
 "cells": [
  {
   "cell_type": "code",
   "execution_count": 1,
   "metadata": {},
   "outputs": [],
   "source": [
    "%load_ext autoreload\n",
    "%autoreload 2\n",
    "\n",
    "import os\n",
    "curpath = os.getcwd()\n",
    "os.chdir(curpath.split(\"core\")[0])"
   ]
  },
  {
   "cell_type": "code",
   "execution_count": 2,
   "metadata": {},
   "outputs": [
    {
     "data": {
      "text/plain": [
       "True"
      ]
     },
     "execution_count": 2,
     "metadata": {},
     "output_type": "execute_result"
    }
   ],
   "source": [
    "import openai\n",
    "import json\n",
    "import time\n",
    "\n",
    "from prompts import SIMPLE_TS_PROMPTS, SIMPLE_TS_WITH_REF_PROMPTS\n",
    "from core.features.topic_segregation.utils import add_dicts, calculate_cost_gpt4_8k\n",
    "\n",
    "from dotenv import load_dotenv\n",
    "load_dotenv()"
   ]
  },
  {
   "cell_type": "markdown",
   "metadata": {},
   "source": [
    "# need to do: sentence level text processing"
   ]
  },
  {
   "cell_type": "code",
   "execution_count": 3,
   "metadata": {},
   "outputs": [],
   "source": [
    "def get_unique_from_raw_text(raw_text, sep = \"\\n\"):\n",
    "\n",
    "    raw_text = raw_text.replace(\"’\", \"'\")\n",
    "    raw_text_list = raw_text.split(sep)\n",
    "    return list(set(raw_text_list))\n",
    "\n",
    "def treat_output_for_json(input):\n",
    "    out = \"{\" + input.split(\"{\")[1].split(\"}\")[0] + \"}\"\n",
    "    # out = out.replace('\\'', '\"')\n",
    "    # out = out.replace('\\\\\"', '\\'')\n",
    "    return out\n",
    "\n",
    "def chunk_raw_text_list(raw_text_list, max_len=3000):\n",
    "\n",
    "    text_list = []\n",
    "    char_len = 0\n",
    "    ind_text_list = []\n",
    "\n",
    "    for text in raw_text_list:\n",
    "\n",
    "        l = len(text)\n",
    "        char_len += l\n",
    "        if char_len > max_len:\n",
    "            text_list.append(ind_text_list)\n",
    "            ind_text_list = []\n",
    "            ind_text_list.append(text)\n",
    "            char_len = 0\n",
    "            char_len += l\n",
    "        else:\n",
    "            ind_text_list.append(text)\n",
    "\n",
    "    text_list.append(ind_text_list)\n",
    "    return text_list"
   ]
  },
  {
   "cell_type": "markdown",
   "metadata": {},
   "source": [
    "### Topics Segregation without reference"
   ]
  },
  {
   "cell_type": "code",
   "execution_count": 4,
   "metadata": {},
   "outputs": [],
   "source": [
    "\n",
    "def generate_topic_segregation(raw_text = None, n = 1, topics = None, complete_seg = True, model_id = \"gpt-4-0613\"):\n",
    "\n",
    "    if raw_text is None:\n",
    "        raise ValueError(\"raw_text must be provided\")\n",
    "\n",
    "    if topics is None:\n",
    "        conversation = [{\"role\": \"system\", \"content\": SIMPLE_TS_PROMPTS}]\n",
    "\n",
    "        user_prompt = f\"\"\"\n",
    "        RAW_TEXT:\n",
    "\n",
    "        //raw//\n",
    "\n",
    "        {raw_text}\n",
    "\n",
    "        //raw//\n",
    "\n",
    "        OUTPUT:\n",
    "        \"\"\"\n",
    "\n",
    "    elif topics is not None:\n",
    "        conversation = [{\"role\": \"system\", \"content\": SIMPLE_TS_WITH_REF_PROMPTS}]\n",
    "\n",
    "        n = len(topics)\n",
    "        reference = {\"number of classes to segregate\": n, \"topics\": topics, \"segregate all provided text\": complete_seg}\n",
    "\n",
    "        user_prompt = f\"\"\"\n",
    "        RAW_TEXT:\n",
    "\n",
    "        //raw//\n",
    "\n",
    "        {raw_text}\n",
    "\n",
    "        //raw//\n",
    "\n",
    "        REFERENCE:\n",
    "        {str(reference)}\n",
    "\n",
    "        OUTPUT:\n",
    "        \"\"\"\n",
    "\n",
    "    user_message = {'role': 'user', \"content\": user_prompt}\n",
    "    conversation.append(user_message)\n",
    "\n",
    "    total_usage = {'prompt_tokens': 0, 'completion_tokens': 0, 'total_tokens': 0}\n",
    "    response = openai.ChatCompletion.create(\n",
    "                                    model= model_id,\n",
    "                                    messages = conversation,\n",
    "                                    temperature = 1\n",
    "                                    )\n",
    "    \n",
    "    total_usage = add_dicts(total_usage, dict(response.usage))\n",
    "\n",
    "    output = response.choices[0].message.content\n",
    "\n",
    "    return {\"output\": output, \"total_usage\": total_usage}\n"
   ]
  },
  {
   "cell_type": "code",
   "execution_count": 16,
   "metadata": {},
   "outputs": [
    {
     "name": "stdout",
     "output_type": "stream",
     "text": [
      "{\n",
      "    \"Cricket\": [\"ODI Cricket World Cup Winners List From 1975 To 2023, Updated\", \"Most Sixes In International Cricket 2023 (Updated)\", \"Syed Mushtaq Ali Trophy 2023 Schedule\"],\n",
      "    \"Indian Government and Policies\": [\"Centre Approves 4% Hike In DA For Central Govt Employees\", \"India Extends Curbs On Sugar Exports To Calm Local Prices\", \"Increase In Minimum Support Prices (MSP) For Rabi Crops In 2024-25\", \"India Likely To Sign Deal With US For 31 MQ-9B Drones By Feb 2024\"],\n",
      "    \"Awards\": [\"National Film Awards 2023 Winners List Updated\"],\n",
      "    \"Aviation\": [\"Air India Express Reveals New Logo, Airplane Designs, To Add 50 Planes In 15 Months\", \"List Of International Airports In India\"],\n",
      "    \"Transit Systems\": [\"India’s First Regional Rapid Transit System (RRTS) To Be Launched In UP\"],\n",
      "    \"Work Culture\": [\"Global Remote Work Index, India Among World’s Worst Countries\"],\n",
      "    \"Associations and Elections\": [\"Dr Meenesh Shah Elected To Board Of International Dairy Federation\"],\n",
      "    \"Military\": [\"Jericho Missile: A’Doomsday’ Weapon\"]\n",
      "}\n",
      "got error\n",
      "{\n",
      "    \"Cricket\": [\"ODI Cricket World Cup Winners List From 1975 To 2023, Updated\", \"Most Sixes In International Cricket 2023 (Updated)\", \"Syed Mushtaq Ali Trophy 2023 Schedule\"],\n",
      "    \"Indian Government and Policies\": [\"Centre Approves 4% Hike In DA For Central Govt Employees\", \"India Extends Curbs On Sugar Exports To Calm Local Prices\", \"Increase In Minimum Support Prices (MSP) For Rabi Crops In 2024-25\", \"India Likely To Sign Deal With US For 31 MQ-9B Drones By Feb 2024\"],\n",
      "    \"Awards\": [\"National Film Awards 2023 Winners List Updated\"],\n",
      "    \"Aviation\": [\"Air India Express Reveals New Logo, Airplane Designs, To Add 50 Planes In 15 Months\", \"List Of International Airports In India\"],\n",
      "    \"Transit Systems\": [\"India’s First Regional Rapid Transit System (RRTS) To Be Launched In UP\"],\n",
      "    \"Work Culture\": [\"Global Remote Work Index, India Among World’s Worst Countries\"],\n",
      "    \"Associations and Elections\": [\"Dr Meenesh Shah Elected To Board Of International Dairy Federation\"],\n",
      "    \"Military\": [\"Jericho Missile: A’Doomsday’ Weapon\"]\n",
      "}\n",
      "{'prompt_tokens': 391, 'total_tokens': 666, 'completion_tokens': 275}\n",
      "{'Cricket': ['ODI Cricket World Cup Winners List From 1975 To 2023, Updated', 'Most Sixes In International Cricket 2023 (Updated)', 'Syed Mushtaq Ali Trophy 2023 Schedule'], 'Indian Government and Policies': ['Centre Approves 4% Hike In DA For Central Govt Employees', 'India Extends Curbs On Sugar Exports To Calm Local Prices', 'Increase In Minimum Support Prices (MSP) For Rabi Crops In 2024-25', 'India Likely To Sign Deal With US For 31 MQ-9B Drones By Feb 2024'], 'Awards': ['National Film Awards 2023 Winners List Updated'], 'Aviation': ['Air India Express Reveals New Logo, Airplane Designs, To Add 50 Planes In 15 Months', 'List Of International Airports In India'], 'Transit Systems': ['India’s First Regional Rapid Transit System (RRTS) To Be Launched In UP'], 'Work Culture': ['Global Remote Work Index, India Among World’s Worst Countries'], 'Associations and Elections': ['Dr Meenesh Shah Elected To Board Of International Dairy Federation'], 'Military': ['Jericho Missile: A’Doomsday’ Weapon']}\n"
     ]
    }
   ],
   "source": [
    "raw_text = \"\"\"\n",
    "ODI Cricket World Cup Winners List From 1975 To 2023, Updated\n",
    "Centre Approves 4% Hike In DA For Central Govt Employees\n",
    "National Film Awards 2023 Winners List Updated\n",
    "India Extends Curbs On Sugar Exports To Calm Local Prices\n",
    "Increase In Minimum Support Prices (MSP) For Rabi Crops In 2024-25\n",
    "Air India Express Reveals New Logo, Airplane Designs, To Add 50 Planes In 15 Months\n",
    "India Likely To Sign Deal With US For 31 MQ-9B Drones By Feb 2024\n",
    "India’s First Regional Rapid Transit System (RRTS) To Be Launched In UP\n",
    "Global Remote Work Index, India Among World’s Worst Countries\n",
    "Most Sixes In International Cricket 2023 (Updated)\n",
    "Dr Meenesh Shah Elected To Board Of International Dairy Federation\n",
    "List Of International Airports In India\n",
    "Jericho Missile: A’Doomsday’ Weapon\n",
    "Syed Mushtaq Ali Trophy 2023 Schedule\n",
    "\"\"\"\n",
    "\n",
    "result = generate_topic_segregation(raw_text=raw_text)\n",
    "\n",
    "try:\n",
    "    json_out = json.loads(result['output'])\n",
    "except:\n",
    "    out = \"{\" + result['output'].split(\"{\")[1].split(\"}\")[0] + \"}\"\n",
    "    json_out = json.loads(out)\n",
    "\n",
    "print(result['output'])\n",
    "print(result['total_usage'])\n",
    "print(json_out)"
   ]
  },
  {
   "cell_type": "markdown",
   "metadata": {},
   "source": [
    "### Topics Segregation with reference"
   ]
  },
  {
   "cell_type": "code",
   "execution_count": 20,
   "metadata": {},
   "outputs": [
    {
     "name": "stdout",
     "output_type": "stream",
     "text": [
      "{\n",
      "    \"Sports\": [\"ODI Cricket World Cup Winners List From 1975 To 2023, Updated\",\n",
      "               \"National Film Awards 2023 Winners List Updated\",\n",
      "               \"Most Sixes In International Cricket 2023 (Updated)\",\n",
      "               \"Syed Mushtaq Ali Trophy 2023 Schedule\"],\n",
      "    \"Defence\": [\"India Likely To Sign Deal With US For 31 MQ-9B Drones By Feb 2024\",\n",
      "                \"Jericho Missile: A’Doomsday’ Weapon\"],\n",
      "    \"Aviation\": [\"Air India Express Reveals New Logo, Airplane Designs, To Add 50 Planes In 15 Months\",\n",
      "                 \"List Of International Airports In India\"]\n",
      "}\n",
      "{'prompt_tokens': 483, 'total_tokens': 630, 'completion_tokens': 147}\n",
      "{'Sports': ['ODI Cricket World Cup Winners List From 1975 To 2023, Updated', 'National Film Awards 2023 Winners List Updated', 'Most Sixes In International Cricket 2023 (Updated)', 'Syed Mushtaq Ali Trophy 2023 Schedule'], 'Defence': ['India Likely To Sign Deal With US For 31 MQ-9B Drones By Feb 2024', 'Jericho Missile: A’Doomsday’ Weapon'], 'Aviation': ['Air India Express Reveals New Logo, Airplane Designs, To Add 50 Planes In 15 Months', 'List Of International Airports In India']}\n"
     ]
    }
   ],
   "source": [
    "raw_text = \"\"\"\n",
    "ODI Cricket World Cup Winners List From 1975 To 2023, Updated\n",
    "Centre Approves 4% Hike In DA For Central Govt Employees\n",
    "National Film Awards 2023 Winners List Updated\n",
    "India Extends Curbs On Sugar Exports To Calm Local Prices\n",
    "Increase In Minimum Support Prices (MSP) For Rabi Crops In 2024-25\n",
    "Air India Express Reveals New Logo, Airplane Designs, To Add 50 Planes In 15 Months\n",
    "India Likely To Sign Deal With US For 31 MQ-9B Drones By Feb 2024\n",
    "India’s First Regional Rapid Transit System (RRTS) To Be Launched In UP\n",
    "Global Remote Work Index, India Among World’s Worst Countries\n",
    "Most Sixes In International Cricket 2023 (Updated)\n",
    "Dr Meenesh Shah Elected To Board Of International Dairy Federation\n",
    "List Of International Airports In India\n",
    "Jericho Missile: A’Doomsday’ Weapon\n",
    "Syed Mushtaq Ali Trophy 2023 Schedule\n",
    "\"\"\"\n",
    "\n",
    "topics = [\"Sports\", \"Defence\", \"Aviation\"]\n",
    "\n",
    "result = generate_topic_segregation(raw_text=raw_text, topics=topics, complete_seg=False)\n",
    "\n",
    "try:\n",
    "    json_out = json.loads(result['output'])\n",
    "except:\n",
    "    out = \"{\" + result['output'].split(\"{\")[1].split(\"}\")[0] + \"}\"\n",
    "    json_out = json.loads(out)\n",
    "\n",
    "print(result['output'])\n",
    "print(result['total_usage'])\n",
    "print(calculate_cost_gpt4_8k(result['total_usage']))\n",
    "print(json_out)"
   ]
  },
  {
   "cell_type": "code",
   "execution_count": 21,
   "metadata": {},
   "outputs": [
    {
     "name": "stdout",
     "output_type": "stream",
     "text": [
      "0.02331\n"
     ]
    }
   ],
   "source": [
    "print(calculate_cost_gpt4_8k(result['total_usage']))"
   ]
  },
  {
   "cell_type": "markdown",
   "metadata": {},
   "source": [
    "### large raw text topic segregation"
   ]
  },
  {
   "cell_type": "code",
   "execution_count": 5,
   "metadata": {},
   "outputs": [],
   "source": [
    "_text = \"\"\"\n",
    "IND vs BAN live: India strike back after solid opening stand\n",
    "Live: Israel deploys hundreds of tanks, soldiers on Gaza border\n",
    "Live: Israel deploys hundreds of tanks, soldiers on Gaza border\n",
    "Why sudden cardiac arrests are killing so many young Indians\n",
    "Why sudden cardiac arrests are killing so many young Indians\n",
    "Experts say a number of factors raging from unhealthy lifestyle to impact on the heart from Covid-19 could be behind the rising incidents of sudden cardiac death or SCD\n",
    "Gaza hospital blast: Can we really know what happened?\n",
    "Gaza hospital blast: Can we really know what happened?\n",
    "After a devastating explosion at a Gaza hospital, Palestine claimed 471 died in the \"Israeli airstrike\". Despite Israeli denials, thousands protested across the Arab and Muslim world, condemning the incident. There are independent probing teams that could potentially resolve the matter by examining forensic evidence. However, creating such teams quickly and ensuring its acceptance by all sides involved, including Israel, the Biden administration, Hamas, presents significant challenges.\n",
    "Satyendar Jain's interim bail extended\n",
    "Satyendar Jain's interim bail extended\n",
    "On this date, the court will consider his plea for regular bail in a money laundering case.\n",
    "Injured Hardik Pandya leaves field during clash vs Bangladesh\n",
    "Injured Hardik Pandya leaves field during clash vs Bangladesh\n",
    "India's all-rounder Hardik Pandya was forced to leave the field due to an ankle injury during their match against Bangladesh in the ODI World Cup. The incident occurred during the ninth over, when Pandya attempted to halt a powerful drive from Bangladesh's opener, Litton Das. However, his right foot slipped, causing him to stumble and take a painful tumble to the ground. Pandya experienced discomfort and received strapping on his injured right ankle.\n",
    "How a shiny China-made airport became a trap for Nepal\n",
    "How a shiny China-made airport became a trap for Nepal\n",
    "China called the project a signature of its cooperation with Nepal. Insiders and documents reveal the pitfalls of China’s infrastructure-at-any-cost model.\n",
    "The most affordable Apple Pencil is here: 11 things to know\n",
    "The most affordable Apple Pencil is here: 11 things to know\n",
    "Photos: Families of Israeli hostages share their stories\n",
    "Photos: Families of Israeli hostages share their stories\n",
    "Israel-Hamas war: Families of Israeli hostages share their loved ones' lives\n",
    "WhatsApp to allow users to use two accounts on one phone soon\n",
    "WhatsApp to allow users to use two accounts on one phone soon\n",
    "Photos: RapidX launch preparations in full swing\n",
    "Photos: RapidX launch preparations in full swing\n",
    "Ghaziabad gears up for the RapidX launch, emphasizing security and arrangements for the PM Narendra Modi's opening speech.\n",
    "Netflix hikes prices, again, in these countries\n",
    "Netflix hikes prices, again, in these countries\n",
    "Israel-Hamas war: US carriers and troops send a signal of force\n",
    "Israel-Hamas war: US carriers and troops send a signal of force\n",
    "As the Israel-Hamas conflict continues to escalate, President Joe Biden has deployed military assets, including aircraft carriers and Marines, to the region. The US aims to warn Iran and its proxies against further involvement in the conflict. The aircraft carriers provide significant striking power with their fighter jets and missile systems, and could potentially assist Israel in defending itself against rocket attacks.\n",
    "'Bumrah should have been given a break against Bangladesh'\n",
    "'Bumrah should have been given a break against Bangladesh'\n",
    "Jasprit Bumrah, who underwent a surgery in New Zealand for a back injury, made a comeback into the team almost two months back after a long injury layoff and needs to be handled carefully as he is a vital cog in Team India's World Cup campaign at home.\n",
    "Will shift to my village to take up farming: Murmu\n",
    "Will shift to my village to take up farming: Murmu\n",
    "President Droupadi Murmu surprised everyone by revealing her plan to shift to her village and take up farming after her tenure ends. She expressed her desire to learn from farmers in Bihar about farming techniques and increasing crop productivity. She also mentioned her connection to Bihar through historical links between Odisha and Bihar. This was her first visit to Bihar, but she claimed to be familiar with the culture and lifestyle through her previous role as the governor of Jharkhand. Murmu is the first person from a tribal community to hold the office of President.\n",
    "11,000-year-old statue of man clutching penis excavated\n",
    "11,000-year-old statue of man clutching penis excavated\n",
    "Archaeologists in Turkey have discovered ancient statues, dating back 11,000 years, that challenge our understanding of pre-agricultural communities. The statues include a life-sized sculpture of a man and a wild boar, shedding light on the ancient society's culture and practices. The sculptures were found at the Gobekli Tepe and Karahan Tepe temple complexes, which are among the oldest known in the world\n",
    "Rajasthan MBBS student jumps off hostel bldg, dies\n",
    "Rajasthan MBBS student jumps off hostel bldg, dies\n",
    "A 21-year-old medical student in Rajasthan died by suicide by jumping from the sixth floor of her college hostel building. The student, Sudhanshi Singh, left a note on her palm before taking the extreme step. She lived alone in the hostel and was seen going towards the bathroom before jumping off the balcony. Her body was taken to the hospital where she was declared brought dead.\n",
    "How losing JUST one hour of sleep can harm your kids\n",
    "How losing JUST one hour of sleep can harm your kids\n",
    "Losing just one hour of sleep can be detrimental to your children's well-being. A recent study in JAMA Network Open found that even in healthy children, a single hour of sleep deprivation had a significant impact. Kids who compromised their sleep quality for a week experienced reduced physical and mental health, struggled at school, and had a diminished quality of life. These findings emphasize the importance of maintaining consistent bedtimes for children to support their overall health and well-being.\n",
    "India vs Bangladesh: Virat Kohli bowls in an ODI afer 6 years\n",
    "India vs Bangladesh: Virat Kohli bowls in an ODI afer 6 years\n",
    "Hardik Pandya pulled up while bowling the 9th over of Bangladesh innings with pain in his left leg, which was then taped by the physio. But the all-rounder couldn't continue and Kohli was called upon to bowl the last three deliveries of the over. The last time Kohli came on to bowl in an ODI was against Sri Lanka in Colombo back in August 2017.\n",
    "\"\"\""
   ]
  },
  {
   "cell_type": "code",
   "execution_count": 6,
   "metadata": {},
   "outputs": [
    {
     "name": "stdout",
     "output_type": "stream",
     "text": [
      "34\n"
     ]
    }
   ],
   "source": [
    "# convert raw_text to list and get unique values\n",
    "\n",
    "unique_text_list = get_unique_from_raw_text(_text, sep=\"\\n\")\n",
    "# print(unique_text_list)\n",
    "print(len(unique_text_list))"
   ]
  },
  {
   "cell_type": "code",
   "execution_count": null,
   "metadata": {},
   "outputs": [],
   "source": [
    "topics = [\"Sports\", \"Defence\", \"Regional:India\"]\n",
    "\n",
    "raw_text = \"\\n\".join(unique_text_list)\n",
    "result = generate_topic_segregation(raw_text=raw_text, topics=topics, complete_seg=False)\n",
    "\n",
    "try:\n",
    "    json_out = json.loads(result['output'])\n",
    "except:\n",
    "    out = \"{\" + result['output'].split(\"{\")[1].split(\"}\")[0] + \"}\"\n",
    "    json_out = json.loads(out)\n",
    "\n",
    "# print(result['output'])\n",
    "print(result['total_usage'])\n",
    "print(calculate_cost_gpt4_8k(result['total_usage']))\n",
    "print(json_out)"
   ]
  },
  {
   "cell_type": "markdown",
   "metadata": {},
   "source": [
    "### processing text by chunking"
   ]
  },
  {
   "cell_type": "code",
   "execution_count": 121,
   "metadata": {},
   "outputs": [
    {
     "name": "stdout",
     "output_type": "stream",
     "text": [
      "2\n",
      "20\n",
      "14\n"
     ]
    }
   ],
   "source": [
    "\n",
    "# chunking the list into sublists with max length of characters in a chunk is 3000\n",
    "chunked_text_list = chunk_raw_text_list(unique_text_list, max_len=3000)\n",
    "\n",
    "# print(chunked_text_list)\n",
    "\n",
    "print(len(chunked_text_list))\n",
    "for i in chunked_text_list:\n",
    "    print(len(i))"
   ]
  },
  {
   "cell_type": "code",
   "execution_count": 123,
   "metadata": {},
   "outputs": [
    {
     "name": "stdout",
     "output_type": "stream",
     "text": [
      "{'prompt_tokens': 1653, 'total_tokens': 2473, 'completion_tokens': 820}\n",
      "Topic: Sports\n",
      "[\"Hardik Pandya pulled up while bowling the 9th over of Bangladesh innings with pain in his left leg, which was then taped by the physio. But the all-rounder couldn't continue and Kohli was called upon to bowl the last three deliveries of the over. The last time Kohli came on to bowl in an ODI was against Sri Lanka in Colombo back in August 2017.\", 'India vs Bangladesh: Virat Kohli bowls in an ODI afer 6 years', \"Jasprit Bumrah, who underwent a surgery in New Zealand for a back injury, made a comeback into the team almost two months back after a long injury layoff and needs to be handled carefully as he is a vital cog in Team India's World Cup campaign at home.\", \"India's all-rounder Hardik Pandya was forced to leave the field due to an ankle injury during their match against Bangladesh in the ODI World Cup. The incident occurred during the ninth over, when Pandya attempted to halt a powerful drive from Bangladesh's opener, Litton Das. However, his right foot slipped, causing him to stumble and take a painful tumble to the ground. Pandya experienced discomfort and received strapping on his injured right ankle.\", 'IND vs BAN live: India strike back after solid opening stand', \"'Bumrah should have been given a break against Bangladesh'\", 'Photos: RapidX launch preparations in full swing']\n",
      "\n",
      "Topic: Defence\n",
      "['Live: Israel deploys hundreds of tanks, soldiers on Gaza border', \"Israel-Hamas war: Families of Israeli hostages share their loved ones' lives\", \"After a devastating explosion at a Gaza hospital, Palestine claimed 471 died in the 'Israeli airstrike'. Despite Israeli denials, thousands protested across the Arab and Muslim world, condemning the incident. There are independent probing teams that could potentially resolve the matter by examining forensic evidence. However, creating such teams quickly and ensuring its acceptance by all sides involved, including Israel, the Biden administration, Hamas, presents significant challenges.\", 'As the Israel-Hamas conflict continues to escalate, President Joe Biden has deployed military assets, including aircraft carriers and Marines, to the region. The US aims to warn Iran and its proxies against further involvement in the conflict. The aircraft carriers provide significant striking power with their fighter jets and missile systems, and could potentially assist Israel in defending itself against rocket attacks.', 'Israel-Hamas war: US carriers and troops send a signal of force']\n",
      "\n",
      "Topic: Regional:India\n",
      "[\"Ghaziabad gears up for the RapidX launch, emphasizing security and arrangements for the PM Narendra Modi's opening speech.\", 'A 21-year-old medical student in Rajasthan died by suicide by jumping from the sixth floor of her college hostel building. The student, Sudhanshi Singh, left a note on her palm before taking the extreme step. She lived alone in the hostel and was seen going towards the bathroom before jumping off the balcony. Her body was taken to the hospital where she was declared brought dead.', 'Rajasthan MBBS student jumps off hostel bldg, dies', 'Will shift to my village to take up farming: Murmu', \"Satyendar Jain's interim bail extended\", 'President Droupadi Murmu surprised everyone by revealing her plan to shift to her village and take up farming after her tenure ends. She expressed her desire to learn from farmers in Bihar about farming techniques and increasing crop productivity. She also mentioned her connection to Bihar through historical links between Odisha and Bihar. This was her first visit to Bihar, but she claimed to be familiar with the culture and lifestyle through her previous role as the governor of Jharkhand. Murmu is the first person from a tribal community to hold the office of President.', 'Why sudden cardiac arrests are killing so many young Indians']\n",
      "\n"
     ]
    }
   ],
   "source": [
    "topics = [\"Sports\", \"Defence\", \"Regional:India\"]\n",
    "final_dict = {topic:[] for topic in topics}\n",
    "total_tokens = {'prompt_tokens': 0, 'completion_tokens': 0, 'total_tokens': 0}\n",
    "\n",
    "for raw_text in chunked_text_list:\n",
    "    raw_text = \"\\n\".join(raw_text)\n",
    "\n",
    "    result = generate_topic_segregation(raw_text=raw_text, topics=topics, complete_seg=False)\n",
    "    output = result['output']\n",
    "    tokens = result['total_usage']\n",
    "\n",
    "    try:\n",
    "        json_out = json.loads(output)\n",
    "    except:\n",
    "        print(\"GOT ERROR IN JSON LOADING\")\n",
    "        out = treat_output_for_json(output)\n",
    "        json_out = json.loads(out)\n",
    "    # print(json_out)\n",
    "    final_dict = add_dicts(final_dict, json_out)\n",
    "    total_tokens = add_dicts(total_tokens, tokens)\n",
    "\n",
    "print(total_tokens)\n",
    "print(calculate_cost_gpt4_8k(total_tokens))\n",
    "for topic in topics:\n",
    "    print(f\"Topic: {topic}\")\n",
    "    print(final_dict[topic])\n",
    "    print()"
   ]
  },
  {
   "cell_type": "code",
   "execution_count": null,
   "metadata": {},
   "outputs": [],
   "source": []
  }
 ],
 "metadata": {
  "kernelspec": {
   "display_name": "curate-v1",
   "language": "python",
   "name": "python3"
  },
  "language_info": {
   "codemirror_mode": {
    "name": "ipython",
    "version": 3
   },
   "file_extension": ".py",
   "mimetype": "text/x-python",
   "name": "python",
   "nbconvert_exporter": "python",
   "pygments_lexer": "ipython3",
   "version": "3.10.12"
  }
 },
 "nbformat": 4,
 "nbformat_minor": 2
}
