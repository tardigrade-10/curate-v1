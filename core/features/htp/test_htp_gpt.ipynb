{
 "cells": [
  {
   "cell_type": "markdown",
   "metadata": {},
   "source": [
    "## Handwritten Text recognition using gpt-4-vision model"
   ]
  },
  {
   "cell_type": "code",
   "execution_count": 32,
   "metadata": {},
   "outputs": [],
   "source": [
    "%load_ext autoreload\n",
    "%autoreload 2\n",
    "\n",
    "import os\n",
    "curpath = os.getcwd()\n",
    "os.chdir(curpath.split(\"core\")[0])"
   ]
  },
  {
   "cell_type": "code",
   "execution_count": 33,
   "metadata": {},
   "outputs": [],
   "source": [
    "import base64\n",
    "import requests\n",
    "import os\n",
    "import json\n",
    "from typing import List, Any, Union\n",
    "from tqdm import tqdm\n",
    "\n",
    "from core.features.utils import calculate_cost_gpt4_turbo, add_dicts, pdf_to_images\n",
    "from prompt import SIMPLE_GPT_BASED_HTR_PROMPT, SIMPLE_GPT_BASED_HTR_FORMATTED_PROMPT\n",
    "from core.features.provider import creator, text_model_defaults, vision_model_defaults\n",
    "\n",
    "from dotenv import load_dotenv\n",
    "load_dotenv()\n",
    "\n",
    "import time"
   ]
  },
  {
   "cell_type": "code",
   "execution_count": 85,
   "metadata": {},
   "outputs": [],
   "source": [
    "\n",
    "# Function to encode the image\n",
    "def encode_image(image_path):\n",
    "    with open(image_path, \"rb\") as image_file:\n",
    "        return base64.b64encode(image_file.read()).decode('utf-8')\n",
    "\n",
    "\n",
    "def encode_and_batch(image_paths, batch_size=4, verbose = False):\n",
    "\n",
    "    encoded = []\n",
    "    encoded_name = []\n",
    "    enc = []\n",
    "    enc_name = []\n",
    "    for image_path in image_paths:\n",
    "        enc_name.append(image_path.split(\"/\")[-1])\n",
    "        enc.append(encode_image(image_path))\n",
    "        if len(enc) >= batch_size:\n",
    "            encoded.append(enc)\n",
    "            encoded_name.append(enc_name)\n",
    "            enc = []\n",
    "            enc_name = []\n",
    "    \n",
    "    if len(enc) > 0:\n",
    "        encoded.append(enc)\n",
    "        encoded_name.append(enc_name)\n",
    "\n",
    "    if verbose:\n",
    "        print(\"Total images:\", len(image_paths))\n",
    "        print(\"Total batches:\", len(encoded))\n",
    "\n",
    "    return encoded, encoded_name"
   ]
  },
  {
   "cell_type": "code",
   "execution_count": 86,
   "metadata": {},
   "outputs": [],
   "source": [
    "def htr_gen(images: List[Any], intel = False):\n",
    "\n",
    "    # logging.info(\"encoded the images\")\n",
    "    total_usage = {'prompt_tokens': 0, 'completion_tokens': 0, 'total_tokens': 0}\n",
    "\n",
    "    conversation = [{\"role\": \"system\", \"content\": SIMPLE_GPT_BASED_HTR_PROMPT}]\n",
    "    # if intel:\n",
    "    #     conversation = [{\"role\": \"system\", \"content\": SIMPLE_GPT_BASED_HTR_FORMATTED_PROMPT}]\n",
    "        \n",
    "    user_message = {\"role\": \"user\", \"content\": [*map(lambda x :{\n",
    "          \"type\": \"image_url\",\n",
    "          \"image_url\": {\n",
    "            \"url\": f\"data:image/jpeg;base64,{x}\"\n",
    "          }\n",
    "        }, images)]}\n",
    "    conversation.append(user_message)\n",
    "\n",
    "    try:\n",
    "        response = creator(\n",
    "                **vision_model_defaults,\n",
    "                messages = conversation\n",
    "                )\n",
    "        \n",
    "        response = response.model_dump()\n",
    "        text = response[\"choices\"][0][\"message\"][\"content\"]\n",
    "        text = \"{\" + text.split(\"{\")[1].split(\"}\")[0] + \"}\"\n",
    "\n",
    "        text = json.loads(text)\n",
    "    except:\n",
    "        # print(response.json())\n",
    "        raise ValueError(\"Error in the response\")\n",
    "\n",
    "    total_usage = add_dicts(total_usage, dict(response[\"usage\"]))\n",
    "\n",
    "    return text, response[\"usage\"]"
   ]
  },
  {
   "cell_type": "code",
   "execution_count": 87,
   "metadata": {},
   "outputs": [
    {
     "name": "stdout",
     "output_type": "stream",
     "text": [
      "Total images: 10\n",
      "Total batches: 4\n"
     ]
    },
    {
     "name": "stderr",
     "output_type": "stream",
     "text": [
      "100%|██████████| 4/4 [01:06<00:00, 16.54s/it]\n"
     ]
    }
   ],
   "source": [
    "\n",
    "def htr_batch_process(image_paths, batch_size: int):\n",
    "    \n",
    "    batches, batch_names = encode_and_batch(image_paths[:10], batch_size=batch_size, verbose=True)\n",
    "\n",
    "    final_text = []\n",
    "    total_tokens = {'prompt_tokens': 0, 'completion_tokens': 0, 'total_tokens': 0}\n",
    "    for batch in tqdm(batches):\n",
    "        text, _tokens = htr_gen(batch)\n",
    "        final_text.append(text[\"text\"])\n",
    "        total_tokens = add_dicts(total_tokens, _tokens)\n",
    "\n",
    "    return batch_names, final_text, total_tokens\n"
   ]
  },
  {
   "cell_type": "code",
   "execution_count": 90,
   "metadata": {},
   "outputs": [
    {
     "name": "stdout",
     "output_type": "stream",
     "text": [
      "[['C:\\\\Users\\\\DELL\\\\Documents\\\\Curate\\\\curate-v1\\\\core\\\\test_data\\\\mmh_english\\\\mmh_image1.jpg', 'C:\\\\Users\\\\DELL\\\\Documents\\\\Curate\\\\curate-v1\\\\core\\\\test_data\\\\mmh_english\\\\mmh_image10.jpg', 'C:\\\\Users\\\\DELL\\\\Documents\\\\Curate\\\\curate-v1\\\\core\\\\test_data\\\\mmh_english\\\\mmh_image11.jpg'], ['C:\\\\Users\\\\DELL\\\\Documents\\\\Curate\\\\curate-v1\\\\core\\\\test_data\\\\mmh_english\\\\mmh_image12.jpg', 'C:\\\\Users\\\\DELL\\\\Documents\\\\Curate\\\\curate-v1\\\\core\\\\test_data\\\\mmh_english\\\\mmh_image13.jpg', 'C:\\\\Users\\\\DELL\\\\Documents\\\\Curate\\\\curate-v1\\\\core\\\\test_data\\\\mmh_english\\\\mmh_image14.jpg'], ['C:\\\\Users\\\\DELL\\\\Documents\\\\Curate\\\\curate-v1\\\\core\\\\test_data\\\\mmh_english\\\\mmh_image15.jpg', 'C:\\\\Users\\\\DELL\\\\Documents\\\\Curate\\\\curate-v1\\\\core\\\\test_data\\\\mmh_english\\\\mmh_image16.jpg', 'C:\\\\Users\\\\DELL\\\\Documents\\\\Curate\\\\curate-v1\\\\core\\\\test_data\\\\mmh_english\\\\mmh_image17.jpg'], ['C:\\\\Users\\\\DELL\\\\Documents\\\\Curate\\\\curate-v1\\\\core\\\\test_data\\\\mmh_english\\\\mmh_image18.jpg']]\n"
     ]
    }
   ],
   "source": [
    "dir_path = r\"C:\\Users\\DELL\\Documents\\Curate\\curate-v1\\core\\test_data\\mmh_english\"\n",
    "image_paths = []\n",
    "for file in os.listdir(dir_path):\n",
    "    image_paths.append(os.path.join(dir_path, file))\n",
    "\n",
    "batch_names, final_text, total_tokens = htr_batch_process(dir_path, batch_size=1)\n",
    "\n",
    "print(batch_names)"
   ]
  },
  {
   "cell_type": "code",
   "execution_count": 92,
   "metadata": {},
   "outputs": [
    {
     "name": "stdout",
     "output_type": "stream",
     "text": [
      "HISTORY\n",
      "ABHISHEK SIR\n",
      "PARAMOUNT\n",
      "Greek Word - Historia\n",
      "Herodotus book, Historica\n",
      "Father of History\n",
      "Sources-\n",
      "1) Archaeological sources\n",
      "2) (Fossils, Monuments, inscriptions, coins, statues)\n",
      "2) Literary Sources\n",
      "   -> Religious (Rigveda, Samveda, etc)\n",
      "   -> Non-religious (Panchatantra, Patanjali, etc)\n",
      "3) Description of foreign travellers\n",
      "* Veena - oldest instrument of India\n",
      "* Tambura - Arab's oldest instrument.\n",
      "\n",
      "1191 - First Battle of Tarain (Ghori & Prithviraj)\n",
      "Kannauj (UP)\n",
      "Gaharwal dynasty\n",
      "ruler\n",
      "Jai chand\n",
      "daughter\n",
      "Sanyogita (Prithviraj kidnapped her & got\n",
      "married with her)\n",
      "\n",
      "1192 - Second Battle of Tarain\n",
      "Ghori defeated Prithviraj Chauhan & killed him,\n",
      "from then Muslim rule was started.\n",
      "1193 - he made Delhi as his capital.\n",
      "\n",
      "1192 -Khwaja Moinuddin Chishti came to India and\n",
      "made it his cottage at Ajmer and promoted\n",
      "Sufi Rule.\n",
      "\n",
      "1194 - Mohd. Ghori attacked Jaichand in Battle of\n",
      "Chandawar.\n",
      "Ghori defeated Jaichand & killed him\n",
      "\n",
      "A slave and son in law of Mohd. Ghauri,\n",
      "Qutubuddin Aibak.\n",
      "Another slave-> Yalduz\n",
      "3) Kubacha\n",
      "4) Bakhtiyar Khilji\n",
      "\n",
      "Bakhtiyar Khilji destroyed Nalanda University in 1204.\n",
      "Kumargupta (founder)\n",
      "in 413 AD\n",
      "oldest university of\n",
      "present India\n",
      "\n",
      "Taxila University - oldest university (presently in Pakistan)\n",
      "\n",
      "Mohd. Ghauri appointed Aibak as his commander-in-chief\n",
      "(Qutubuddin Aibak)\n",
      "He built 2 mosque-\n",
      "1) Quwwatul Islam mosque in Delhi (first mosque)\n",
      "2) Adhai din ka Jhopra in Ajmer\n",
      "\n",
      "Teacher of Qutubuddin Aibak - Qutubuddin Bakhtiyar\n",
      "Kaki\n",
      "He started construction of Qutub Minar in 1199 in\n",
      "the name of his teacher (Kaki)\n",
      "\n",
      "It was completed in 1225 by Iltutmish.\n",
      "\n",
      "Yalduz -> Ghazni\n",
      "Kubacha -> Kabul & Kandhar\n",
      "\n"
     ]
    }
   ],
   "source": [
    "print(final_text[0])"
   ]
  },
  {
   "cell_type": "code",
   "execution_count": 93,
   "metadata": {},
   "outputs": [
    {
     "data": {
      "text/plain": [
       "{'usd': 0.18375, 'inr': 15.3191}"
      ]
     },
     "execution_count": 93,
     "metadata": {},
     "output_type": "execute_result"
    }
   ],
   "source": [
    "calculate_cost_gpt4_turbo(total_tokens)"
   ]
  },
  {
   "cell_type": "code",
   "execution_count": 94,
   "metadata": {},
   "outputs": [
    {
     "data": {
      "text/plain": [
       "{'prompt_tokens': 11394, 'completion_tokens': 2327, 'total_tokens': 13721}"
      ]
     },
     "execution_count": 94,
     "metadata": {},
     "output_type": "execute_result"
    }
   ],
   "source": [
    "total_tokens"
   ]
  },
  {
   "cell_type": "code",
   "execution_count": null,
   "metadata": {},
   "outputs": [],
   "source": []
  }
 ],
 "metadata": {
  "kernelspec": {
   "display_name": "curate-v1",
   "language": "python",
   "name": "python3"
  },
  "language_info": {
   "codemirror_mode": {
    "name": "ipython",
    "version": 3
   },
   "file_extension": ".py",
   "mimetype": "text/x-python",
   "name": "python",
   "nbconvert_exporter": "python",
   "pygments_lexer": "ipython3",
   "version": "3.10.12"
  }
 },
 "nbformat": 4,
 "nbformat_minor": 2
}
