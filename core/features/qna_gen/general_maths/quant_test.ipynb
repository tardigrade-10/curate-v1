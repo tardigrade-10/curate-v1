{
 "cells": [
  {
   "cell_type": "markdown",
   "metadata": {},
   "source": [
    "## QuanA based MCQ Generator"
   ]
  },
  {
   "cell_type": "code",
   "execution_count": 2,
   "metadata": {},
   "outputs": [],
   "source": [
    "%load_ext autoreload\n",
    "%autoreload 2\n",
    "\n",
    "import os\n",
    "curpath = os.getcwd()\n",
    "os.chdir(curpath.split(\"core\")[0])"
   ]
  },
  {
   "cell_type": "code",
   "execution_count": 1,
   "metadata": {},
   "outputs": [
    {
     "ename": "ModuleNotFoundError",
     "evalue": "No module named 'core'",
     "output_type": "error",
     "traceback": [
      "\u001b[1;31m---------------------------------------------------------------------------\u001b[0m",
      "\u001b[1;31mModuleNotFoundError\u001b[0m                       Traceback (most recent call last)",
      "\u001b[1;32mc:\\Users\\DELL\\Documents\\Curate\\curate-v1\\core\\features\\qna_gen\\general_maths\\quant_test.ipynb Cell 3\u001b[0m line \u001b[0;36m<cell line: 7>\u001b[1;34m()\u001b[0m\n\u001b[0;32m      <a href='vscode-notebook-cell:/c%3A/Users/DELL/Documents/Curate/curate-v1/core/features/qna_gen/general_maths/quant_test.ipynb#W2sZmlsZQ%3D%3D?line=3'>4</a>\u001b[0m \u001b[39mimport\u001b[39;00m \u001b[39mtime\u001b[39;00m\n\u001b[0;32m      <a href='vscode-notebook-cell:/c%3A/Users/DELL/Documents/Curate/curate-v1/core/features/qna_gen/general_maths/quant_test.ipynb#W2sZmlsZQ%3D%3D?line=5'>6</a>\u001b[0m \u001b[39mfrom\u001b[39;00m \u001b[39mprompts\u001b[39;00m \u001b[39mimport\u001b[39;00m SIMPLE_QUANT_MCQ_WITH_TE_PROMPT, SIMPLE_QUANT_MCQ_WITH_E_PROMPT, SIMPLE_QUANT_MCQ_WITH_T_PROMPT, CALCULATION_CHECK_PROMPT\n\u001b[1;32m----> <a href='vscode-notebook-cell:/c%3A/Users/DELL/Documents/Curate/curate-v1/core/features/qna_gen/general_maths/quant_test.ipynb#W2sZmlsZQ%3D%3D?line=6'>7</a>\u001b[0m \u001b[39mfrom\u001b[39;00m \u001b[39mcore\u001b[39;00m\u001b[39m.\u001b[39;00m\u001b[39mfeatures\u001b[39;00m\u001b[39m.\u001b[39;00m\u001b[39mqna_gen\u001b[39;00m\u001b[39m.\u001b[39;00m\u001b[39mutils\u001b[39;00m \u001b[39mimport\u001b[39;00m add_dicts, calculate_cost_gpt4_8k\n\u001b[0;32m      <a href='vscode-notebook-cell:/c%3A/Users/DELL/Documents/Curate/curate-v1/core/features/qna_gen/general_maths/quant_test.ipynb#W2sZmlsZQ%3D%3D?line=7'>8</a>\u001b[0m \u001b[39mfrom\u001b[39;00m \u001b[39mcore\u001b[39;00m\u001b[39m.\u001b[39;00m\u001b[39mfeatures\u001b[39;00m\u001b[39m.\u001b[39;00m\u001b[39mqna_gen\u001b[39;00m\u001b[39m.\u001b[39;00m\u001b[39mhelper\u001b[39;00m \u001b[39mimport\u001b[39;00m get_results_from_wolfram_cloud, get_results_from_wolfram_alpha\n\u001b[0;32m     <a href='vscode-notebook-cell:/c%3A/Users/DELL/Documents/Curate/curate-v1/core/features/qna_gen/general_maths/quant_test.ipynb#W2sZmlsZQ%3D%3D?line=9'>10</a>\u001b[0m \u001b[39mfrom\u001b[39;00m \u001b[39mdotenv\u001b[39;00m \u001b[39mimport\u001b[39;00m load_dotenv\n",
      "\u001b[1;31mModuleNotFoundError\u001b[0m: No module named 'core'"
     ]
    }
   ],
   "source": [
    "from openai import OpenAI\n",
    "\n",
    "import json\n",
    "import time\n",
    "\n",
    "from prompts import SIMPLE_QUANT_MCQ_WITH_TE_PROMPT, SIMPLE_QUANT_MCQ_WITH_E_PROMPT, SIMPLE_QUANT_MCQ_WITH_T_PROMPT, CALCULATION_CHECK_PROMPT\n",
    "from core.features.qna_gen.utils import add_dicts, calculate_cost_gpt4_8k\n",
    "from core.features.qna_gen.helper import get_results_from_wolfram_cloud, get_results_from_wolfram_alpha\n",
    "\n",
    "from dotenv import load_dotenv\n",
    "load_dotenv()\n",
    "\n",
    "client = OpenAI()\n",
    "client_create = client.chat.completions.create\n",
    "\n",
    "# hyperparameters\n",
    "MODEL_ID = \"gpt-4-1106-preview\"\n",
    "TEMPERATURE = 0.1\n",
    "RESPONSE_FORMAT = {\"type\": \"json_object\"}"
   ]
  },
  {
   "cell_type": "markdown",
   "metadata": {},
   "source": [
    "### Numerical MCQs"
   ]
  },
  {
   "cell_type": "code",
   "execution_count": 16,
   "metadata": {},
   "outputs": [],
   "source": [
    "\n",
    "def generate_quant_numerical_mcqs(theory=None, n=1, examples = None):\n",
    "\n",
    "    if theory is None and examples is None:\n",
    "        raise Exception(\"Either context or example must be provided\")\n",
    "\n",
    "    elif theory is not None and examples is not None:\n",
    "        conversation = [{\"role\": \"system\", \"content\": SIMPLE_QUANT_MCQ_WITH_TE_PROMPT}]\n",
    "\n",
    "        user_prompt = f\"\"\"\n",
    "        TOPIC_THEORY:\n",
    "        //theory//\n",
    "\n",
    "        {theory}\n",
    "\n",
    "        //theory//\n",
    "    \n",
    "        N: {n}\n",
    "\n",
    "        EXAMPLES:\n",
    "        {str(examples)}\n",
    "\n",
    "        QUESTIONS: \n",
    "        \"\"\"\n",
    "\n",
    "    elif theory is not None and examples is None:\n",
    "        conversation = [{\"role\": \"system\", \"content\": SIMPLE_QUANT_MCQ_WITH_T_PROMPT}]\n",
    "\n",
    "        user_prompt = f\"\"\"\n",
    "        TOPIC_THEORY:\n",
    "        //theory//\n",
    "\n",
    "        {theory}\n",
    "\n",
    "        //theory//\n",
    "    \n",
    "        N: {n}\n",
    "\n",
    "        QUESTIONS: \n",
    "        \"\"\"\n",
    "\n",
    "    elif theory is None and examples is not None:\n",
    "        conversation = [{\"role\": \"system\", \"content\": SIMPLE_QUANT_MCQ_WITH_E_PROMPT}]\n",
    "\n",
    "        user_prompt = f\"\"\"\n",
    "        EXAMPLES:\n",
    "        {str(examples)}\n",
    "    \n",
    "        N: {n}\n",
    "\n",
    "        QUESTIONS: \n",
    "        \"\"\"\n",
    "\n",
    "    user_message = {'role': 'user', \"content\": user_prompt}\n",
    "    conversation.append(user_message)\n",
    "\n",
    "    total_usage = {'prompt_tokens': 0, 'completion_tokens': 0, 'total_tokens': 0}\n",
    "    # response = client.chat.completions.create(\n",
    "    #                                 model= MODEL_ID,\n",
    "    #                                 messages = conversation,\n",
    "    #                                 temperature = TEMPERATURE,\n",
    "    #                                 response_format = RESPONSE_FORMAT \n",
    "    #                                 )\n",
    "\n",
    "    response = client_create(\n",
    "                            model= MODEL_ID,\n",
    "                            messages = conversation,\n",
    "                            temperature = TEMPERATURE,\n",
    "                            response_format = RESPONSE_FORMAT \n",
    "    )\n",
    "    \n",
    "    total_usage = add_dicts(total_usage, dict(response.usage))\n",
    "\n",
    "    output = response.choices[0].message.content\n",
    "\n",
    "    return {\"output\": output, \"total_usage\": total_usage}\n"
   ]
  },
  {
   "cell_type": "code",
   "execution_count": 17,
   "metadata": {},
   "outputs": [
    {
     "name": "stdout",
     "output_type": "stream",
     "text": [
      "\n",
      "        {\n",
      "            \"mcqs\": [\n",
      "                {\n",
      "                    \"question\": \"A car travels 150 km in 3 hours at a constant speed. If the speed is increased by 10 km/h, how long will it take to travel the same distance?\",\n",
      "                    \"choices\": {\"a\": \"2.5 hours\", \"b\": \"2.7 hours\", \"c\": \"3 hours\", \"d\": \"2.4 hours\"},\n",
      "                    \"answer\": {\"b\": \"2.7 hours\"}\n",
      "                },\n",
      "                {\n",
      "                    \"question\": \"If a sum of money doubles in 5 years on simple interest, what is the annual rate of interest?\",\n",
      "                    \"choices\": {\"a\": \"10%\", \"b\": \"20%\", \"c\": \"15%\", \"d\": \"25%\"},\n",
      "                    \"answer\": {\"b\": \"20%\"}\n",
      "                },\n",
      "                {\n",
      "                    \"question\": \"A rectangle has a length that is 3 times its width. If the perimeter of the rectangle is 64 cm, what is the area of the rectangle?\",\n",
      "                    \"choices\": {\"a\": \"192 cm^2\", \"b\": \"144 cm^2\", \"c\": \"96 cm^2\", \"d\": \"108 cm^2\"},\n",
      "                    \"answer\": {\"b\": \"144 cm^2\"}\n",
      "                }\n",
      "            ]\n",
      "        }\n",
      "\n",
      "{'completion_tokens': 275, 'total_tokens': 831, 'prompt_tokens': 556}\n"
     ]
    }
   ],
   "source": [
    "example = {\n",
    "        \"question\": \"A shopkeeper allows 4% discount and gives 1 article free on purchase of 15 article. He earns 35% profit during the transaction. By what percent above the cost price he marked goods?\",\n",
    "        \"choices\": [\"60%\", \"50%\", \"44%\", \"30%\"],\n",
    "        \"answer\": \"50%\"\n",
    "    }\n",
    "\n",
    "example = {\n",
    "        \"question\": \"A candidate scores 25% and fails by 30 marks, while another candidate who scores 50% marks, gets 20 marks more than the minimum required marks to pass the examination. Find the maximum marks for the examination.\",\n",
    "        \"choices\": [\"200\", \"120\", \"300\", \"350\"],\n",
    "        \"answer\": \"200\"\n",
    "    }\n",
    "\n",
    "examples = [{\n",
    "        \"question\": \"There are three inlet taps whose diameters are 1 cm, 3 cm and 5 cm respectively. The rate of flow of the water is directly proportional to the square of the diameter. It takes 7 minutes for the smallest pipe to fill an empty tank. Find the time taken to fill an empty tank when all the three taps are opened.\",\n",
    "        \"choices\": [\"13 sec\", \"15 sec\", \"12 sec\", \"10 sec\"],\n",
    "        \"answer\": \"12 sec\"\n",
    "    },\n",
    "    {\n",
    "        \"question\": \"A candidate scores 25% and fails by 30 marks, while another candidate who scores 50% marks, gets 20 marks more than the minimum required marks to pass the examination. Find the maximum marks for the examination.\",\n",
    "        \"choices\": [\"200\", \"120\", \"300\", \"350\"],\n",
    "        \"answer\": \"200\"\n",
    "    }\n",
    "]\n",
    "\n",
    "# examples = [{\n",
    "#         \"question\": \"There are three inlet taps whose diameters are 1 cm, 3 cm and 5 cm respectively. The rate of flow of the water is directly proportional to the square of the diameter. It takes 7 minutes for the smallest pipe to fill an empty tank. Find the time taken to fill an empty tank when all the three taps are opened.\",\n",
    "#         \"choices\": [\"13 sec\", \"15 sec\", \"12 sec\", \"10 sec\"],\n",
    "#         \"answer\": \"12 sec\"\n",
    "#     }\n",
    "# ]\n",
    "\n",
    "output = generate_quant_numerical_mcqs(\n",
    "                        # context = context,\n",
    "                        n = 3,\n",
    "                        examples = examples\n",
    "                        )\n",
    "\n",
    "print(output['output'])\n",
    "print(output['total_usage'])"
   ]
  },
  {
   "cell_type": "code",
   "execution_count": 5,
   "metadata": {},
   "outputs": [
    {
     "data": {
      "text/plain": [
       "{'completion_tokens': 314, 'total_tokens': 978, 'prompt_tokens': 664}"
      ]
     },
     "execution_count": 5,
     "metadata": {},
     "output_type": "execute_result"
    }
   ],
   "source": [
    "{'completion_tokens': 314, 'total_tokens': 978, 'prompt_tokens': 664}"
   ]
  },
  {
   "cell_type": "code",
   "execution_count": 6,
   "metadata": {},
   "outputs": [
    {
     "data": {
      "text/plain": [
       "'{\\n    \"mcqs\": [\\n        {\\n            \"question\": \"A car traveling at a speed of 80 km/h uses 10 liters of fuel per hour. The car\\'s fuel consumption is directly proportional to its speed. How much fuel would the car use in an hour if it was traveling at a speed of 120 km/h?\",\\n            \"choices\": {\"a\": \"12 liters\", \"b\": \"15 liters\", \"c\": \"18 liters\", \"d\": \"20 liters\"},\\n            \"answer\": {\"b\": \"15 liters\"}\\n        },\\n        {\\n            \"question\": \"In a class test of 50 marks, John scored 60% and he surpassed Sam by 5 marks. Sam scored 50% marks. What are the minimum passing marks in the test?\",\\n            \"choices\": {\"a\": \"20\", \"b\": \"25\", \"c\": \"30\", \"d\": \"35\"},\\n            \"answer\": {\"a\": \"20\"}\\n        },\\n        {\\n            \"question\": \"There are two outlets taps whose diameters are 2 cm and 4 cm respectively. The rate of flow of the water is directly proportional to the square of the diameter. It takes 6 minutes for the smallest pipe to empty a full tank. Find the time taken to empty a full tank when both the outlet taps are opened.\",\\n            \"choices\": {\"a\": \"8 minutes\", \"b\": \"5 minutes\", \"c\": \"4 minutes\", \"d\": \"3 minutes\"},\\n            \"answer\": {\"d\": \"3 minutes\"}\\n        }\\n    ]\\n}'"
      ]
     },
     "execution_count": 6,
     "metadata": {},
     "output_type": "execute_result"
    }
   ],
   "source": [
    "output['output']"
   ]
  },
  {
   "cell_type": "code",
   "execution_count": 12,
   "metadata": {},
   "outputs": [],
   "source": [
    "json_ques = json.loads(output['output'])\n",
    "\n",
    "# str(list(json_ques.values())[0][0]).replace(\"'\", '\"')"
   ]
  },
  {
   "cell_type": "code",
   "execution_count": 13,
   "metadata": {},
   "outputs": [
    {
     "data": {
      "text/plain": [
       "{'mcqs': [{'question': 'A car travels 150 km in 3 hours at a constant speed. If the speed is increased by 10 km/h, how long will it take to travel the same distance?',\n",
       "   'choices': {'a': '2.5 hours',\n",
       "    'b': '2.7 hours',\n",
       "    'c': '2.4 hours',\n",
       "    'd': '2.8 hours'},\n",
       "   'answer': {'b': '2.7 hours'}},\n",
       "  {'question': 'If a sum of money doubles in 8 years at simple interest, what is the annual rate of interest?',\n",
       "   'choices': {'a': '12.5%', 'b': '10%', 'c': '8%', 'd': '6.25%'},\n",
       "   'answer': {'a': '12.5%'}},\n",
       "  {'question': 'A rectangle has a length that is 3 times its width. If the perimeter of the rectangle is 64 cm, what is the area of the rectangle?',\n",
       "   'choices': {'a': '144 cm^2',\n",
       "    'b': '96 cm^2',\n",
       "    'c': '108 cm^2',\n",
       "    'd': '128 cm^2'},\n",
       "   'answer': {'a': '144 cm^2'}}]}"
      ]
     },
     "execution_count": 13,
     "metadata": {},
     "output_type": "execute_result"
    }
   ],
   "source": [
    "json_ques"
   ]
  },
  {
   "cell_type": "markdown",
   "metadata": {},
   "source": [
    "### Numerical MCQs"
   ]
  },
  {
   "cell_type": "code",
   "execution_count": 19,
   "metadata": {},
   "outputs": [],
   "source": [
    "FUNCTIONS = [\n",
    "    {\n",
    "      \"name\": \"get_results_from_wolfram_alpha\",\n",
    "      \"description\": \"\"\"This function uses wolfram alpha endpoint that Understands natural language queries about entities in chemistry, physics, geography, history, art, astronomy, and more.\\n- Performs mathematical calculations, date and unit conversions, formula solving, etc.\\n- Convert inputs to simplified keyword queries whenever possible (e.g. convert \\\"how many people live in France\\\" to \\\"France population\\\").\\n- Use ONLY single-letter variable names, with or without integer subscript (e.g., n, n1, n_1).\\n- Use named physical constants (e.g., 'speed of light') without numerical substitution.\\n- Include a space between compound units (e.g., \\\"Ω m\\\" for \\\"ohm*meter\\\").\\n- To solve for a variable in an equation with units, consider solving a corresponding equation without units; exclude counting units (e.g., books), include genuine units (e.g., kg).\"\"\",\n",
    "      \"parameters\": {\n",
    "        \"type\": \"object\",\n",
    "        \"properties\": {\n",
    "          \"queries\": {\n",
    "            \"type\": \"string\",\n",
    "            \"description\": \"\"\"curated natural language queries for wolfram alpha\n",
    "            for example: \"distance from earth to mars; current population of new delhi\".\"\"\"\n",
    "          }\n",
    "        }\n",
    "      },\n",
    "        \"required\": [\"queries\"]\n",
    "    },\n",
    "    {\n",
    "      \"name\": \"get_results_from_wolfram_cloud\",\n",
    "      \"description\": \"\"\"Use this function for problems solvable with Wolfram Language code.\"\"\",\n",
    "      \"parameters\": {\n",
    "        \"type\": \"object\",\n",
    "        \"properties\": {\n",
    "          \"queries\": {\n",
    "            \"type\": \"string\",\n",
    "            \"description\": \"\"\"the input wolfram language query for mathematical calculations in string. ONLY proper wolfram language queries are supported.\n",
    "            Format for Query:-\n",
    "            \"a = Solve[aCoeff1*aVar == Var1 - Offset1 && aCoeff2*aVar == Var1 + Offset2, {aVar, Var1}][[1, 1, 2]]\".\n",
    "            \"\"\"\n",
    "          }\n",
    "        }\n",
    "      },\n",
    "        \"required\": [\"queries\"]\n",
    "    },\n",
    "] \n",
    "\n",
    "# Syntax & Code: Ensure syntactically correct Wolfram Language code. Remove comments and unnecessary formatting.\n",
    "#       Functionality: Support complex calculations, data analysis, plotting, and data retrieval.\n",
    "#       Entity Usage:\n",
    "#       Before using Entity or similar, validate identifiers with Interpreter.\n",
    "#       Prefer direct entity usage over typeData functions.\n",
    "#       Code Composition:\n",
    "#       Batch data retrieval when possible.\n",
    "#       Organize data with Association.\n",
    "#       Optimize for performance; minimize external calls.\n",
    "#       Use camel case for variable names (e.g., variableName).\n",
    "#       Enclose all strings in double quotes.\n",
    "#       Handle unevaluated symbols with EntityValue.\n",
    "#       Use Evaluate for complex expressions.\n",
    "#       Response Formatting: All responses should be in Wolfram Language. Ensure clarity and accuracy.\n",
    "\n",
    "# Example query: \"x1 = Solve[0.30*x == PassingGrade - 50 && 0.70*x == PassingGrade + 20, {x, PassingGrade}][[1, 1, 2]]; y1 = Solve[0.20*y == RequiredCount - 40 && 0.60*y == RequiredCount + 30, {y, RequiredCount}][[1, 1, 2]]; z1 = Solve[0.35*z == RequiredScore - 65 && 0.75*z == RequiredScore + 35, {z, RequiredScore}][[1, 1, 2]]; {x1, y1, z1}\""
   ]
  },
  {
   "cell_type": "code",
   "execution_count": 23,
   "metadata": {},
   "outputs": [
    {
     "name": "stdout",
     "output_type": "stream",
     "text": [
      "\n",
      "AFTER FUNCTION {'completion_tokens': 29, 'total_tokens': 497, 'prompt_tokens': 468}\n",
      "CALLING FUNCTION\n",
      "QUERIES originalSpeed = 150/3; newSpeed = originalSpeed + 10; newTime = 150/newSpeed;\n",
      "good queries originalSpeed = 150/3; newSpeed = originalSpeed + 10; newTime = 150/newSpeed;\n",
      "RESULT FROM FUNCTION None\n",
      "{'completion_tokens': 316, 'total_tokens': 1174, 'prompt_tokens': 858}\n",
      "\n",
      "AFTER FUNCTION {'completion_tokens': 28, 'total_tokens': 474, 'prompt_tokens': 446}\n",
      "CALLING FUNCTION\n",
      "QUERIES Solve[P*(1 + r*8) == 2*P, r][[1, 2]]\n",
      "good queries Solve[P*(1 + r*8) == 2*P, r][[1, 2]]\n"
     ]
    },
    {
     "name": "stderr",
     "output_type": "stream",
     "text": [
      "                              1\n",
      "Part::partw : Part 2 of {r -> -} does not exist.\n",
      "                              8\n"
     ]
    },
    {
     "name": "stdout",
     "output_type": "stream",
     "text": [
      "RESULT FROM FUNCTION Part[((Rule[Global`r, Rational[1, 8]],),), 1, 2]\n",
      "{'completion_tokens': 187, 'total_tokens': 1022, 'prompt_tokens': 835}\n",
      "\n",
      "AFTER FUNCTION {'completion_tokens': 28, 'total_tokens': 491, 'prompt_tokens': 463}\n",
      "CALLING FUNCTION\n",
      "QUERIES Solve[l == 3*w && 2*l + 2*w == 64, {l, w}]\n",
      "good queries Solve[l == 3*w && 2*l + 2*w == 64, {l, w}]\n",
      "RESULT FROM FUNCTION ((Rule[Global`l, 24], Rule[Global`w, 8]),)\n",
      "{'completion_tokens': 219, 'total_tokens': 1085, 'prompt_tokens': 866}\n",
      "['It seems there was an issue retrieving results from the external function. However, I can still perform the calculation manually.\\n\\nThe original speed of the car is \\\\( \\\\frac{150 \\\\text{ km}}{3 \\\\text{ hours}} = 50 \\\\text{ km/h} \\\\).\\n\\nIf the speed is increased by \\\\( 10 \\\\text{ km/h} \\\\), the new speed is \\\\( 50 \\\\text{ km/h} + 10 \\\\text{ km/h} = 60 \\\\text{ km/h} \\\\).\\n\\nTo travel the same distance of 150 km at the new speed:\\n\\n\\\\( \\\\text{Time} = \\\\frac{\\\\text{Distance}}{\\\\text{Speed}} = \\\\frac{150 \\\\text{ km}}{60 \\\\text{ km/h}} = 2.5 \\\\text{ hours} \\\\).\\n\\nTherefore, the correct answer is 2.5 hours.\\n\\nHere is the corrected output:\\n\\n```json\\n{\\n\"question\": \"A car travels 150 km in 3 hours at a constant speed. If the speed is increased by 10 km/h, how long will it take to travel the same distance?\",\\n\"choices\": {\"a\": \"2.5 hours\", \"b\": \"2.7 hours\", \"c\": \"2.4 hours\", \"d\": \"2.8 hours\"},\\n\"answer\": {\"a\": \"2.5 hours\"}\\n}\\n```', 'INPUT: \\n\\n```json\\n{\\n\"question\": \"If a sum of money doubles in 8 years at simple interest, what is the annual rate of interest?\",\\n\"choices\": {\"a\": \"12.5%\", \"b\": \"10%\", \"c\": \"8%\", \"d\": \"6.25%\"},\\n\"answer\": {\"d\": \"12.5%\"}\\n}\\n```\\n\\nOUTPUT: \\n\\n```json\\n{\\n\"question\": \"If a sum of money doubles in 8 years at simple interest, what is the annual rate of interest?\",\\n\"choices\": {\"a\": \"12.5%\", \"b\": \"10%\", \"c\": \"8%\", \"d\": \"6.25%\"},\\n\"answer\": {\"a\": \"12.5%\"}\\n}\\n```', 'INPUT:\\n\\n```json\\n{\\n\"question\": \"A rectangle has a length that is 3 times its width. If the perimeter of the rectangle is 64 cm, what is the area of the rectangle?\",\\n\"choices\": {\"a\": \"144 cm^2\", \"b\": \"96 cm^2\", \"c\": \"108 cm^2\", \"d\": \"128 cm^2\"},\\n\"answer\": {\"a\": \"144 cm^2\"}\\n}\\n```\\n\\nOUTPUT:\\n\\n```json\\n{\\n\"question\": \"A rectangle has a length that is 3 times its width. If the perimeter of the rectangle is 64 cm, what is the area of the rectangle?\",\\n\"choices\": {\"a\": \"192 cm^2\", \"b\": \"96 cm^2\", \"c\": \"108 cm^2\", \"d\": \"128 cm^2\"},\\n\"answer\": {\"a\": \"192 cm^2\"}\\n}\\n```']\n"
     ]
    }
   ],
   "source": [
    "# calculation check and improvements\n",
    "\n",
    "def calculation_checking(input):\n",
    "\n",
    "    total_usage = {'prompt_tokens': 0, 'completion_tokens': 0, 'total_tokens': 0}\n",
    "    \n",
    "    input_prompt = f\"\"\"\n",
    "\n",
    "    INPUT: \n",
    "\n",
    "    {input}\n",
    "\n",
    "    OUTPUT: \n",
    "\n",
    "    \"\"\" \n",
    "    \n",
    "    system_message = {\"role\": \"system\", \"content\": CALCULATION_CHECK_PROMPT}\n",
    "    conversation = [system_message]\n",
    "    input_message = {'role': 'user', 'content': input_prompt}\n",
    "    conversation.append(input_message)\n",
    "\n",
    "    response = client_create(\n",
    "                            model= MODEL_ID,\n",
    "                            messages = conversation,\n",
    "                            tools = [{\"type\": \"function\", \"function\": FUNCTIONS[1]}],\n",
    "                            tool_choice = {\"type\": \"function\", \"function\": {\"name\": \"get_results_from_wolfram_cloud\"}},\n",
    "                            temperature = TEMPERATURE\n",
    "                        )\n",
    "\n",
    "    total_usage = add_dicts(total_usage, dict(response.usage))\n",
    "    print()\n",
    "    print(\"AFTER FUNCTION\", total_usage)\n",
    "    print(\"calling function\".upper())\n",
    "    response_message = response.choices[0].message\n",
    "    tool_calls = response_message.tool_calls[0]\n",
    "    conversation.append(response_message)\n",
    "\n",
    "    # print(response)\n",
    "\n",
    "    # if function_call[\"name\"] == \"get_results_from_wolfram_cloud\":\n",
    "    queries = json.loads(tool_calls.function.arguments).get(\"queries\")\n",
    "    print(\"QUERIES\", queries)\n",
    "\n",
    "    try:\n",
    "        print(\"good queries\", queries)\n",
    "        result = get_results_from_wolfram_cloud(queries)\n",
    "    except:\n",
    "        raise Exception(\"error from wolfram\")\n",
    "\n",
    "# else:\n",
    "#     raise \"some error in function name\"\n",
    "\n",
    "    print(\"result from function\".upper(), str(result))\n",
    "    conversation.append({\"tool_call_id\": tool_calls.id, 'role': 'tool', \"name\": tool_calls.function.name, \"content\": str(result)})\n",
    "\n",
    "    response = client_create(\n",
    "                            model= MODEL_ID,\n",
    "                            messages = conversation,\n",
    "                            # tools = [{\"type\": \"function\", \"function\": FUNCTIONS[1]}],\n",
    "                            # tool_choice = {\"type\": \"function\", \"function\": {\"name\": \"get_results_from_wolfram_cloud\"}},\n",
    "                            temperature = TEMPERATURE\n",
    "                        )\n",
    "\n",
    "    # print(response)\n",
    "\n",
    "    # conversation.append(response.choices[0].message)\n",
    "    total_usage = add_dicts(total_usage, dict(response.usage))\n",
    "    print(total_usage)\n",
    "    # return response, conversation\n",
    "    \n",
    "    # response, conversation = response_with_function(response, conversation)\n",
    "    output = response.choices[0].message.content\n",
    "\n",
    "    return {\"output\": output, \"total_usage\": total_usage}\n",
    "\n",
    "# input = output['output']\n",
    "\n",
    "correct_ques = []\n",
    "total_usage = {'prompt_tokens': 0, 'completion_tokens': 0, 'total_tokens': 0}\n",
    "for ques in list(json_ques.values())[0]:\n",
    "    ques = str(ques).replace(\"'\", '\"')\n",
    "    result = calculation_checking(ques)\n",
    "    total_usage = add_dicts(total_usage, result[\"total_usage\"])\n",
    "    correct_ques.append(result[\"output\"])\n",
    "\n",
    "print(correct_ques)"
   ]
  },
  {
   "cell_type": "code",
   "execution_count": 10,
   "metadata": {},
   "outputs": [
    {
     "name": "stdout",
     "output_type": "stream",
     "text": [
      "\n",
      "    {\"question\": \"A car traveling at a speed of 80 km/h uses 10 liters of fuel per hour. The car\"s fuel consumption is directly proportional to its speed. How much fuel would the car use in an hour if it was traveling at a speed of 120 km/h?\", \"choices\": {\"a\": \"12 liters\", \"b\": \"15 liters\", \"c\": \"18 liters\", \"d\": \"20 liters\"}, \"answer\": {\"b\": \"15 liters\"}}\n"
     ]
    }
   ],
   "source": [
    "print(correct_ques[0])"
   ]
  },
  {
   "cell_type": "code",
   "execution_count": 11,
   "metadata": {},
   "outputs": [
    {
     "ename": "JSONDecodeError",
     "evalue": "Expecting ',' delimiter: line 2 column 98 (char 98)",
     "output_type": "error",
     "traceback": [
      "\u001b[1;31m---------------------------------------------------------------------------\u001b[0m",
      "\u001b[1;31mJSONDecodeError\u001b[0m                           Traceback (most recent call last)",
      "\u001b[1;32mc:\\Users\\DELL\\Documents\\Curate\\curate-v1\\core\\features\\qna_gen\\general_maths\\quant_test.ipynb Cell 14\u001b[0m line \u001b[0;36m<cell line: 1>\u001b[1;34m()\u001b[0m\n\u001b[1;32m----> <a href='vscode-notebook-cell:/c%3A/Users/DELL/Documents/Curate/curate-v1/core/features/qna_gen/general_maths/quant_test.ipynb#X16sZmlsZQ%3D%3D?line=0'>1</a>\u001b[0m json\u001b[39m.\u001b[39;49mloads(correct_ques[\u001b[39m0\u001b[39;49m])\n",
      "File \u001b[1;32mc:\\Users\\DELL\\anaconda3\\envs\\curate-v1\\lib\\json\\__init__.py:346\u001b[0m, in \u001b[0;36mloads\u001b[1;34m(s, cls, object_hook, parse_float, parse_int, parse_constant, object_pairs_hook, **kw)\u001b[0m\n\u001b[0;32m    341\u001b[0m     s \u001b[39m=\u001b[39m s\u001b[39m.\u001b[39mdecode(detect_encoding(s), \u001b[39m'\u001b[39m\u001b[39msurrogatepass\u001b[39m\u001b[39m'\u001b[39m)\n\u001b[0;32m    343\u001b[0m \u001b[39mif\u001b[39;00m (\u001b[39mcls\u001b[39m \u001b[39mis\u001b[39;00m \u001b[39mNone\u001b[39;00m \u001b[39mand\u001b[39;00m object_hook \u001b[39mis\u001b[39;00m \u001b[39mNone\u001b[39;00m \u001b[39mand\u001b[39;00m\n\u001b[0;32m    344\u001b[0m         parse_int \u001b[39mis\u001b[39;00m \u001b[39mNone\u001b[39;00m \u001b[39mand\u001b[39;00m parse_float \u001b[39mis\u001b[39;00m \u001b[39mNone\u001b[39;00m \u001b[39mand\u001b[39;00m\n\u001b[0;32m    345\u001b[0m         parse_constant \u001b[39mis\u001b[39;00m \u001b[39mNone\u001b[39;00m \u001b[39mand\u001b[39;00m object_pairs_hook \u001b[39mis\u001b[39;00m \u001b[39mNone\u001b[39;00m \u001b[39mand\u001b[39;00m \u001b[39mnot\u001b[39;00m kw):\n\u001b[1;32m--> 346\u001b[0m     \u001b[39mreturn\u001b[39;00m _default_decoder\u001b[39m.\u001b[39;49mdecode(s)\n\u001b[0;32m    347\u001b[0m \u001b[39mif\u001b[39;00m \u001b[39mcls\u001b[39m \u001b[39mis\u001b[39;00m \u001b[39mNone\u001b[39;00m:\n\u001b[0;32m    348\u001b[0m     \u001b[39mcls\u001b[39m \u001b[39m=\u001b[39m JSONDecoder\n",
      "File \u001b[1;32mc:\\Users\\DELL\\anaconda3\\envs\\curate-v1\\lib\\json\\decoder.py:337\u001b[0m, in \u001b[0;36mJSONDecoder.decode\u001b[1;34m(self, s, _w)\u001b[0m\n\u001b[0;32m    332\u001b[0m \u001b[39mdef\u001b[39;00m \u001b[39mdecode\u001b[39m(\u001b[39mself\u001b[39m, s, _w\u001b[39m=\u001b[39mWHITESPACE\u001b[39m.\u001b[39mmatch):\n\u001b[0;32m    333\u001b[0m     \u001b[39m\"\"\"Return the Python representation of ``s`` (a ``str`` instance\u001b[39;00m\n\u001b[0;32m    334\u001b[0m \u001b[39m    containing a JSON document).\u001b[39;00m\n\u001b[0;32m    335\u001b[0m \n\u001b[0;32m    336\u001b[0m \u001b[39m    \"\"\"\u001b[39;00m\n\u001b[1;32m--> 337\u001b[0m     obj, end \u001b[39m=\u001b[39m \u001b[39mself\u001b[39;49m\u001b[39m.\u001b[39;49mraw_decode(s, idx\u001b[39m=\u001b[39;49m_w(s, \u001b[39m0\u001b[39;49m)\u001b[39m.\u001b[39;49mend())\n\u001b[0;32m    338\u001b[0m     end \u001b[39m=\u001b[39m _w(s, end)\u001b[39m.\u001b[39mend()\n\u001b[0;32m    339\u001b[0m     \u001b[39mif\u001b[39;00m end \u001b[39m!=\u001b[39m \u001b[39mlen\u001b[39m(s):\n",
      "File \u001b[1;32mc:\\Users\\DELL\\anaconda3\\envs\\curate-v1\\lib\\json\\decoder.py:353\u001b[0m, in \u001b[0;36mJSONDecoder.raw_decode\u001b[1;34m(self, s, idx)\u001b[0m\n\u001b[0;32m    344\u001b[0m \u001b[39m\"\"\"Decode a JSON document from ``s`` (a ``str`` beginning with\u001b[39;00m\n\u001b[0;32m    345\u001b[0m \u001b[39ma JSON document) and return a 2-tuple of the Python\u001b[39;00m\n\u001b[0;32m    346\u001b[0m \u001b[39mrepresentation and the index in ``s`` where the document ended.\u001b[39;00m\n\u001b[1;32m   (...)\u001b[0m\n\u001b[0;32m    350\u001b[0m \n\u001b[0;32m    351\u001b[0m \u001b[39m\"\"\"\u001b[39;00m\n\u001b[0;32m    352\u001b[0m \u001b[39mtry\u001b[39;00m:\n\u001b[1;32m--> 353\u001b[0m     obj, end \u001b[39m=\u001b[39m \u001b[39mself\u001b[39;49m\u001b[39m.\u001b[39;49mscan_once(s, idx)\n\u001b[0;32m    354\u001b[0m \u001b[39mexcept\u001b[39;00m \u001b[39mStopIteration\u001b[39;00m \u001b[39mas\u001b[39;00m err:\n\u001b[0;32m    355\u001b[0m     \u001b[39mraise\u001b[39;00m JSONDecodeError(\u001b[39m\"\u001b[39m\u001b[39mExpecting value\u001b[39m\u001b[39m\"\u001b[39m, s, err\u001b[39m.\u001b[39mvalue) \u001b[39mfrom\u001b[39;00m \u001b[39mNone\u001b[39m\n",
      "\u001b[1;31mJSONDecodeError\u001b[0m: Expecting ',' delimiter: line 2 column 98 (char 98)"
     ]
    }
   ],
   "source": [
    "json.loads(correct_ques[0])"
   ]
  },
  {
   "cell_type": "code",
   "execution_count": null,
   "metadata": {},
   "outputs": [
    {
     "name": "stdout",
     "output_type": "stream",
     "text": [
      "{'question': 'A farmer harvested 150 bushels of corn from 15 acres of his farm. If the yield of corn is directly proportional to the number of acres, how many bushels will he harvest from 30 acres?', 'choices': {'a': '100 bushels', 'b': '200 bushels', 'c': '300 bushels', 'd': '400 bushels'}, 'answer': {'c': '300 bushels'}}\n",
      "{'question': 'In a Mathematics test, Tom scored 40% and missed by 20 marks to pass the test. Another student, Jack, who scored 50% marks, got 15 marks more than the minimum required marks to pass the examination. What is the maximum marks for the examination?', 'choices': {'a': '250', 'b': '175', 'c': '350', 'd': '400'}, 'answer': {'c': '350'}}\n",
      "{'question': 'The travel time of a train is inversely proportional to its speed. If a train can cover a distance in 2 hours at 60 km/hr, how long will it take at 90 km/hr?', 'choices': {'a': '1.33 hours', 'b': '2.33 hours', 'c': '3.33 hours', 'd': '4.33 hours'}, 'answer': {'a': '1.33 hours'}}\n"
     ]
    }
   ],
   "source": [
    "# ques with gpt-4-8k\n",
    "for ques in correct_ques:\n",
    "    jsonq = json.loads(ques)\n",
    "    print(jsonq)"
   ]
  },
  {
   "cell_type": "code",
   "execution_count": null,
   "metadata": {},
   "outputs": [
    {
     "data": {
      "text/plain": [
       "{'completion_tokens': 403, 'total_tokens': 4778, 'prompt_tokens': 4375}"
      ]
     },
     "execution_count": 83,
     "metadata": {},
     "output_type": "execute_result"
    }
   ],
   "source": [
    "total_usage"
   ]
  },
  {
   "cell_type": "code",
   "execution_count": null,
   "metadata": {},
   "outputs": [
    {
     "data": {
      "text/plain": [
       "0.15543"
      ]
     },
     "execution_count": 84,
     "metadata": {},
     "output_type": "execute_result"
    }
   ],
   "source": [
    "calculate_cost_gpt4_8k(total_usage)"
   ]
  },
  {
   "cell_type": "code",
   "execution_count": null,
   "metadata": {},
   "outputs": [
    {
     "data": {
      "text/plain": [
       "15.914329200000001"
      ]
     },
     "execution_count": 85,
     "metadata": {},
     "output_type": "execute_result"
    }
   ],
   "source": [
    "re = {'completion_tokens': 321, 'total_tokens': 877, 'prompt_tokens': 556}\n",
    "total_tokens = add_dicts(re, total_usage)\n",
    "calculate_cost_gpt4_8k(total_tokens) * 83.16"
   ]
  },
  {
   "cell_type": "markdown",
   "metadata": {},
   "source": [
    "#### 18 rupees with gpt-4-8k"
   ]
  },
  {
   "cell_type": "code",
   "execution_count": null,
   "metadata": {},
   "outputs": [
    {
     "data": {
      "text/plain": [
       "{'completion_tokens': 547, 'total_tokens': 6410, 'prompt_tokens': 5863}"
      ]
     },
     "execution_count": 23,
     "metadata": {},
     "output_type": "execute_result"
    }
   ],
   "source": [
    "total_usage"
   ]
  },
  {
   "cell_type": "code",
   "execution_count": null,
   "metadata": {},
   "outputs": [
    {
     "data": {
      "text/plain": [
       "0.20870999999999998"
      ]
     },
     "execution_count": 24,
     "metadata": {},
     "output_type": "execute_result"
    }
   ],
   "source": [
    "calculate_cost_gpt4_8k(total_usage)"
   ]
  },
  {
   "cell_type": "code",
   "execution_count": null,
   "metadata": {},
   "outputs": [],
   "source": [
    "# AFTER FUNCTION {'completion_tokens': 70, 'total_tokens': 1163, 'prompt_tokens': 1093}\n",
    "# CALLING FUNCTION\n",
    "# QUERIES d1 = 2; d2 = 4; d3 = 6; t1 = 5; t2 = t1 * (d1^2) / ((d1^2) + (d2^2) + (d3^2)); t2\n",
    "# good queries d1 = 2; d2 = 4; d3 = 6; t1 = 5; t2 = t1 * (d1^2) / ((d1^2) + (d2^2) + (d3^2)); t2\n",
    "# RESULT FROM FUNCTION Rational[5, 14]\n",
    "# {'completion_tokens': 196, 'total_tokens': 2473, 'prompt_tokens': 2277}\n",
    "# AFTER FUNCTION {'completion_tokens': 48, 'total_tokens': 1109, 'prompt_tokens': 1061}\n",
    "# CALLING FUNCTION\n",
    "# QUERIES a = Solve[0.3*x == y - 40 && 0.6*x == y + 10, {x, y}][[1, 1, 2]]\n",
    "# good queries a = Solve[0.3*x == y - 40 && 0.6*x == y + 10, {x, y}][[1, 1, 2]]\n",
    "# RESULT FROM FUNCTION 166.66666666666669\n",
    "# {'completion_tokens': 132, 'total_tokens': 2322, 'prompt_tokens': 2190}\n",
    "# AFTER FUNCTION {'completion_tokens': 80, 'total_tokens': 1176, 'prompt_tokens': 1096}\n",
    "# CALLING FUNCTION\n",
    "# QUERIES t1 = 8; d1 = 2; d2 = 4; d3 = 6; d4 = 8; t = t1 / ((d2^2/d1^2) + (d3^2/d1^2) + (d4^2/d1^2) + 1); t\n",
    "# good queries t1 = 8; d1 = 2; d2 = 4; d3 = 6; d4 = 8; t = t1 / ((d2^2/d1^2) + (d3^2/d1^2) + (d4^2/d1^2) + 1); t\n",
    "# RESULT FROM FUNCTION Rational[4, 15]\n",
    "# {'completion_tokens': 210, 'total_tokens': 2503, 'prompt_tokens': 2293}\n",
    "# [\"{'question': 'The rate of flow of a pipe is directly proportional to the square of the diameter. If it takes 5 minutes for a pipe with a diameter of 2 cm to fill an empty tank, approximately how long would it take to fill the tank if all pipes of diameters 2 cm, 4 cm, and 6 cm are opened?', 'choices': {'a': '2 minutes', 'b': '1 minute', 'c': 'Approximately 0.36 minutes', 'd': '4 minutes'}, 'answer': {'c': 'Approximately 0.36 minutes'}}\", \"{'question': 'A student scores 30% and fails by 40 marks, while another student who scores 60% gets 10 marks more than the minimum required to pass. How many maximum marks are there for the examination?', 'choices': {'a': '250', 'b': '200', 'c': '300', 'd': '167'}, 'answer': {'d': '167'}}\", \"{'question': 'There are four inlet taps with diameters 2 cm, 4 cm, 6 cm, and 8 cm. The rate of flow of water is directly proportional to the square of the diameter. How long does it take to fill an empty tank when all four taps are opened, if it takes 8 minutes for the smallest pipe to fill the tank?', 'choices': {'a': '2 minutes', 'b': '4 minutes', 'c': '6 minutes', 'd': '8 minutes', 'e': '4/15 minutes'}, 'answer': {'e': '4/15 minutes'}}\"]"
   ]
  },
  {
   "cell_type": "code",
   "execution_count": null,
   "metadata": {},
   "outputs": [
    {
     "data": {
      "text/plain": [
       "{'completion_tokens': 538, 'total_tokens': 7298, 'prompt_tokens': 6760}"
      ]
     },
     "execution_count": 19,
     "metadata": {},
     "output_type": "execute_result"
    }
   ],
   "source": [
    "total_usage"
   ]
  },
  {
   "cell_type": "code",
   "execution_count": null,
   "metadata": {},
   "outputs": [
    {
     "data": {
      "text/plain": [
       "0.23480999999999996"
      ]
     },
     "execution_count": 17,
     "metadata": {},
     "output_type": "execute_result"
    }
   ],
   "source": [
    "\n",
    "calculate_cost_gpt4_8k(total_usage)\n",
    "    "
   ]
  },
  {
   "cell_type": "code",
   "execution_count": null,
   "metadata": {},
   "outputs": [
    {
     "data": {
      "text/plain": [
       "0.040920000000000005"
      ]
     },
     "execution_count": 15,
     "metadata": {},
     "output_type": "execute_result"
    }
   ],
   "source": []
  },
  {
   "cell_type": "code",
   "execution_count": null,
   "metadata": {},
   "outputs": [],
   "source": [
    "# def get_results_from_wolfram_cloud(query):\n",
    "#     from wolframclient.evaluation import WolframCloudSession, SecuredAuthenticationKey\n",
    "#     from wolframclient.language import wl, wlexpr\n",
    "\n",
    "#     key = SecuredAuthenticationKey(\n",
    "#         os.environ.get('WOLFRAM_CLOUD_KEY1'),\n",
    "#         os.environ.get('WOLFRAM_CLOUD_KEY2')\n",
    "#     )\n",
    "\n",
    "#     session = WolframCloudSession(credentials=key)\n",
    "\n",
    "#     session.start()\n",
    "#     result = session.evaluate(wlexpr(query))\n",
    "\n",
    "#     return result\n"
   ]
  }
 ],
 "metadata": {
  "kernelspec": {
   "display_name": "curate-v1",
   "language": "python",
   "name": "python3"
  },
  "language_info": {
   "codemirror_mode": {
    "name": "ipython",
    "version": 3
   },
   "file_extension": ".py",
   "mimetype": "text/x-python",
   "name": "python",
   "nbconvert_exporter": "python",
   "pygments_lexer": "ipython3",
   "version": "3.10.12"
  },
  "orig_nbformat": 4
 },
 "nbformat": 4,
 "nbformat_minor": 2
}
