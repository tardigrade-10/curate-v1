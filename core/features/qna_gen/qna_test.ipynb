{
 "cells": [
  {
   "cell_type": "markdown",
   "metadata": {},
   "source": [
    "##### this notebooks has the sample code for the qna generation functions and calculations checks with optimized code."
   ]
  },
  {
   "cell_type": "code",
   "execution_count": 41,
   "metadata": {},
   "outputs": [
    {
     "name": "stdout",
     "output_type": "stream",
     "text": [
      "The autoreload extension is already loaded. To reload it, use:\n",
      "  %reload_ext autoreload\n"
     ]
    }
   ],
   "source": [
    "%load_ext autoreload\n",
    "%autoreload 2"
   ]
  },
  {
   "cell_type": "code",
   "execution_count": 42,
   "metadata": {},
   "outputs": [],
   "source": [
    "import os\n",
    "curpath = os.getcwd()\n",
    "os.chdir(curpath.split(\"core\")[0])"
   ]
  },
  {
   "cell_type": "code",
   "execution_count": 68,
   "metadata": {},
   "outputs": [
    {
     "data": {
      "text/plain": [
       "True"
      ]
     },
     "execution_count": 68,
     "metadata": {},
     "output_type": "execute_result"
    }
   ],
   "source": [
    "import openai\n",
    "import json\n",
    "\n",
    "from prompts import SIMPLE_NUMERICAL_MCQ_PROMPT, SIMPLE_TEXTUAL_TEXT_MCQ_PROMPT, SIMPLE_CONCEPTUAL_TEXT_MCQ_PROMPT, CALCULATION_CHECK_PROMPT\n",
    "from helper import function_definitions, get_results_from_wolfram_cloud\n",
    "from core.features.utils import add_dicts, calculate_cost_gpt4_omni\n",
    "from core.features.provider import creator, text_creator_defaults\n",
    "\n",
    "\n",
    "from dotenv import load_dotenv\n",
    "load_dotenv()"
   ]
  },
  {
   "cell_type": "markdown",
   "metadata": {},
   "source": [
    "### Functions"
   ]
  },
  {
   "cell_type": "code",
   "execution_count": 69,
   "metadata": {},
   "outputs": [
    {
     "data": {
      "text/plain": [
       "[{'name': 'get_results_from_wolfram_cloud',\n",
       "  'description': 'Use this function for problems solvable with Wolfram Language code.',\n",
       "  'parameters': {'type': 'object',\n",
       "   'properties': {'query': {'type': 'string',\n",
       "     'description': 'the input wolfram language query for mathematical calculations in string. ONLY proper wolfram language queries are supported. Format for Query: \"a = Solve[aCoeff1*aVar == Var1 - Offset1 && aCoeff2*aVar == Var1 + Offset2, {aVar, Var1}][[1, 1, 2]]\".'}}},\n",
       "  'required': ['query']}]"
      ]
     },
     "execution_count": 69,
     "metadata": {},
     "output_type": "execute_result"
    }
   ],
   "source": [
    "functions = [function_definitions[\"get_results_from_wolfram_cloud\"]] \n",
    "\n",
    "functions"
   ]
  },
  {
   "cell_type": "markdown",
   "metadata": {},
   "source": [
    "### Conceptual Text MCQ Generation function"
   ]
  },
  {
   "cell_type": "code",
   "execution_count": 8,
   "metadata": {},
   "outputs": [],
   "source": [
    "### theory will be the context text for conceptual questions. context will be used for textual/assessment type questions.\n",
    "\n",
    "def generate_conceptual_text_mcqs(theory=None, n=1, examples = None):\n",
    "\n",
    "    conversation = [{\"role\": \"system\", \"content\": SIMPLE_CONCEPTUAL_TEXT_MCQ_PROMPT}]\n",
    "\n",
    "    if theory is None:\n",
    "        raise ValueError(\"No theory provided\")\n",
    "\n",
    "    user_prompt = f\"\"\"\n",
    "    TOPIC_THEORY:\n",
    "    //theory//\n",
    "\n",
    "    {theory}\n",
    "\n",
    "    //theory//\n",
    "   \n",
    "    N: {n}\n",
    "\n",
    "    EXAMPLE:\n",
    "    {examples if examples else \"Not Provided\"}\n",
    "\n",
    "    QUESTIONS: \n",
    "    \"\"\"\n",
    "\n",
    "    user_message = {'role': 'user', \"content\": user_prompt}\n",
    "    conversation.append(user_message)\n",
    "    \n",
    "    total_usage = {'prompt_tokens': 0, 'completion_tokens': 0, 'total_tokens': 0}\n",
    "    response = creator(**text_creator_defaults,\n",
    "                    messages = conversation,\n",
    "                    )\n",
    "    \n",
    "    total_usage = add_dicts(total_usage, dict(response.usage))\n",
    "    output = response.choices[0].message.content\n",
    "    \n",
    "    return {\"output\": output, \"total_usage\": total_usage}"
   ]
  },
  {
   "cell_type": "code",
   "execution_count": 9,
   "metadata": {},
   "outputs": [
    {
     "name": "stdout",
     "output_type": "stream",
     "text": [
      "\n",
      "    {\n",
      "        \"mcqs\": [\n",
      "            {\n",
      "                \"question\": \"Which of the following is a state function in thermodynamics?\",\n",
      "                \"choices\": {\n",
      "                    \"a\": \"Heat\",\n",
      "                    \"b\": \"Work\",\n",
      "                    \"c\": \"Enthalpy\",\n",
      "                    \"d\": \"Heat exchange\"\n",
      "                },\n",
      "                \"answer\": {\"c\": \"Enthalpy\"}\n",
      "            },\n",
      "            {\n",
      "                \"question\": \"According to the first law of thermodynamics, if 100 J of heat is added to a system and the system does 60 J of work, what is the change in internal energy of the system?\",\n",
      "                \"choices\": {\n",
      "                    \"a\": \"40 J\",\n",
      "                    \"b\": \"160 J\",\n",
      "                    \"c\": \"100 J\",\n",
      "                    \"d\": \"60 J\"\n",
      "                },\n",
      "                \"answer\": {\"a\": \"40 J\"}\n",
      "            },\n",
      "            {\n",
      "                \"question\": \"What type of thermodynamic process occurs when there is no heat exchange between a system and its surroundings?\",\n",
      "                \"choices\": {\n",
      "                    \"a\": \"Isothermal Process\",\n",
      "                    \"b\": \"Adiabatic Process\",\n",
      "                    \"c\": \"Isobaric Process\",\n",
      "                    \"d\": \"Isochoric Process\"\n",
      "                },\n",
      "                \"answer\": {\"b\": \"Adiabatic Process\"}\n",
      "            }\n",
      "        ]\n",
      "    }\n"
     ]
    }
   ],
   "source": [
    "theory = \"\"\"\n",
    "Thermodynamics\n",
    "\n",
    "Definitions:\n",
    "1. System: A part of the universe under study.\n",
    "2. Surroundings: Everything other than the system.\n",
    "3. Thermodynamic State: The description of a system in terms of properties like pressure, volume, temperature, etc.\n",
    "4. State Functions: Properties that depend only on the state of the system, not the path. Examples: U (Internal energy), H (Enthalpy), S (Entropy), and G (Gibbs free energy).\n",
    "5. Path Functions: Depend on the path taken during a change, like heat (q) and work (w).\n",
    "6. First Law of Thermodynamics: ΔU = q + w, where ΔU is the change in internal energy, q is heat, and w is work.\n",
    "7. Isothermal Process: Process in which temperature remains constant.\n",
    "8. Adiabatic Process: No heat exchange with surroundings. \n",
    "\n",
    "\"\"\"\n",
    "\n",
    "examples = {\n",
    "        \"question\": \"Which of the following statements is true regarding thermodynamics?\",\n",
    "        \"choices\": {\"a\": \"The surroundings refer to the part of the universe under study.\", \"b\": \"State Functions depend on the path taken during a change.\", \"c\": \"In an adiabatic process, there is no heat exchange with the surroundings.\", \"d\": \"The First Law of Thermodynamics is represented by the equation ΔU = q - w.\"},\n",
    "        \"answer\": {\"c\": \"In an adiabatic process, there is no heat exchange with the surroundings\"}\n",
    "    }\n",
    "\n",
    "output = generate_conceptual_text_mcqs(\n",
    "                        theory = theory,\n",
    "                        n = 3\n",
    "                        # examples = examples,\n",
    "                        )\n",
    "\n",
    "print(output['output'])"
   ]
  },
  {
   "cell_type": "code",
   "execution_count": 12,
   "metadata": {},
   "outputs": [
    {
     "name": "stdout",
     "output_type": "stream",
     "text": [
      "{'total_tokens': 876, 'completion_tokens': 274, 'prompt_tokens': 602}\n",
      "0.01424\n"
     ]
    }
   ],
   "source": [
    "print(output['total_usage'])\n",
    "\n",
    "print(calculate_cost_gpt4_omni(output['total_usage']))"
   ]
  },
  {
   "cell_type": "markdown",
   "metadata": {},
   "source": [
    "### Textual Text MCQ Generation function"
   ]
  },
  {
   "cell_type": "code",
   "execution_count": 17,
   "metadata": {},
   "outputs": [],
   "source": [
    "\n",
    "# context will be the context text for textual questions. context will be used for textual/assessment type questions.\n",
    "def generate_textual_text_mcqs(context=None, n=1, examples = None):\n",
    "\n",
    "    if theory is None:\n",
    "        raise ValueError(\"context must be provided\")\n",
    "    \n",
    "\n",
    "    conversation = [{\"role\": \"system\", \"content\": SIMPLE_TEXTUAL_TEXT_MCQ_PROMPT}]\n",
    "\n",
    "    user_prompt = f\"\"\"\n",
    "    CONTEXT_TEXT:\n",
    "    //context//\n",
    "\n",
    "    {context}\n",
    "\n",
    "    //context//\n",
    "\n",
    "    N: {n}\n",
    "\n",
    "    EXAMPLES:\n",
    "    {str(examples) if examples else \"Not Provided\"}\n",
    "\n",
    "    QUESTIONS: \n",
    "    \"\"\"\n",
    "\n",
    "    user_message = {'role': 'user', \"content\": user_prompt}\n",
    "    conversation.append(user_message)\n",
    "\n",
    "    total_usage = {'prompt_tokens': 0, 'completion_tokens': 0, 'total_tokens': 0}\n",
    "    response = creator(**text_creator_defaults,\n",
    "                        messages = conversation,\n",
    "                    )\n",
    "    \n",
    "    total_usage = add_dicts(total_usage, dict(response.usage))\n",
    "\n",
    "    output = response.choices[0].message.content\n",
    "\n",
    "    return {\"output\": output, \"total_usage\": total_usage}\n"
   ]
  },
  {
   "cell_type": "code",
   "execution_count": 18,
   "metadata": {},
   "outputs": [
    {
     "name": "stdout",
     "output_type": "stream",
     "text": [
      "\n",
      "    {\n",
      "        \"mcqs\": [\n",
      "            {\n",
      "                \"question\": \"What is the primary concern raised by the passage regarding United States companies seeking import relief?\",\n",
      "                \"choices\": {\n",
      "                    \"a\": \"The process is too complicated and expensive.\",\n",
      "                    \"b\": \"It has been largely ineffective in protecting domestic industries.\",\n",
      "                    \"c\": \"It has benefited more companies than it has harmed.\",\n",
      "                    \"d\": \"The laws are outdated and need to be revised.\"\n",
      "                },\n",
      "                \"answer\": {\"b\": \"It has been largely ineffective in protecting domestic industries.\"}\n",
      "            },\n",
      "            {\n",
      "                \"question\": \"According to the passage, what is a potential consequence of internationalization for United States-owned companies?\",\n",
      "                \"choices\": {\n",
      "                    \"a\": \"It simplifies their marketing strategies.\",\n",
      "                    \"b\": \"It can lead to them being targeted by the same import relief laws meant to protect them.\",\n",
      "                    \"c\": \"It ensures better protection from unfair competition.\",\n",
      "                    \"d\": \"It reduces the complexity of their production processes.\"\n",
      "                },\n",
      "                \"answer\": {\"b\": \"It can lead to them being targeted by the same import relief laws meant to protect them.\"}\n",
      "            },\n",
      "            {\n",
      "                \"question\": \"What ironic situation is described in the passage regarding the use of import relief laws?\",\n",
      "                \"choices\": {\n",
      "                    \"a\": \"A United States company was penalized for receiving foreign subsidies.\",\n",
      "                    \"b\": \"A foreign conglomerate's U.S. subsidiary sought relief against a U.S. company's foreign subsidiary.\",\n",
      "                    \"c\": \"A United States company successfully protected its domestic market.\",\n",
      "                    \"d\": \"Foreign companies were found guilty of dumping products in the United States.\"\n",
      "                },\n",
      "                \"answer\": {\"b\": \"A foreign conglomerate's U.S. subsidiary sought relief against a U.S. company's foreign subsidiary.\"}\n",
      "            }\n",
      "        ]\n",
      "    }\n",
      "{'total_tokens': 1251, 'completion_tokens': 385, 'prompt_tokens': 866}\n"
     ]
    }
   ],
   "source": [
    "context = \"\"\"Many United States companies have, unfortunately, made the search for legal protection from import competition into a major line of work. Since 1980 the United States International Trade Commission (ITC) has received about 280 complaints alleging damage from imports that benefit foreign governments’ subsidies. Another 340 charge that foreign companies “dumped” their products in the United States at “less than fair value.” Even when no unfair practices are alleged, the simple claim that an industry has been injured by imports is sufficient grounds to seek relief.\n",
    "\n",
    "Contrary to the general impression, this quest for import relief has hurt more companies than it has helped. As corporations begin to function globally, they develop an intricate web of marketing, production, and research relationships, The complexity of these relationships makes it unlikely that a system of import relief laws will meet the strategic needs of all the units under the same parent company.\n",
    "\n",
    "Internationalization increases the danger that foreign companies will use import relief laws against the very companies the laws were designed to protect. Suppose a United States-owned company establishes an overseas plant to manufacture a product while its competitor makes the same product in the United States. If the competitor can prove injury from the imports—and that the United States company received a subsidy from a foreign government to build its plant abroad—the United States company’s products will be uncompetitive in the United States, since they would be subject to duties.\n",
    "\n",
    "Perhaps the most brazen case occurred when the ITC investigated allegations that Canadian companies were injuring the United States salt industry by dumping rock salt, used to de-ice roads. The bizarre aspect of the complaint was that a foreign conglomerate with United States operations was crying for help against a United States company with foreign operations. The “United States” company claiming the injury was a subsidiary of a Dutch conglomerate. In contrast, the “Canadian” companies included a subsidiary of a Chicago firm that was the second-largest domestic producer of rock salt.\"\"\"\n",
    "\n",
    "examples = {\n",
    "        \"question\": \"Which of the following options is most similar in meaning to the word: “Intricate” mentioned in the article?\",\n",
    "        \"choices\": {\"a\": \"Twisted\", \"b\": \"Straightforward\", \"c\": \"Simple\", \"d\": \"Advance\"},\n",
    "        \"answer\": {\"a\": \"Twisted\"}\n",
    "    }\n",
    "\n",
    "result = generate_textual_text_mcqs(context, n = 3, examples = examples)\n",
    "\n",
    "print(result[\"output\"])\n",
    "print(result[\"total_usage\"])"
   ]
  },
  {
   "cell_type": "code",
   "execution_count": 19,
   "metadata": {},
   "outputs": [
    {
     "name": "stdout",
     "output_type": "stream",
     "text": [
      "{'total_tokens': 1251, 'completion_tokens': 385, 'prompt_tokens': 866}\n",
      "0.020210000000000002\n"
     ]
    }
   ],
   "source": [
    "print(result[\"total_usage\"])\n",
    "print(calculate_cost_gpt4_omni(result[\"total_usage\"]))"
   ]
  },
  {
   "cell_type": "markdown",
   "metadata": {},
   "source": [
    "### Numerical MCQ Generation function"
   ]
  },
  {
   "cell_type": "code",
   "execution_count": 72,
   "metadata": {},
   "outputs": [],
   "source": [
    "\n",
    "def generate_numerical_mcqs(theory=None, n=1, examples = None):\n",
    "\n",
    "    if theory is None:\n",
    "        raise ValueError(\"Theory must be provided\")\n",
    "\n",
    "    conversation = [{\"role\": \"system\", \"content\": SIMPLE_NUMERICAL_MCQ_PROMPT}]\n",
    "\n",
    "    user_prompt = f\"\"\"\n",
    "    TOPIC_THEORY:\n",
    "    //theory//\n",
    "\n",
    "    {theory}\n",
    "\n",
    "    //theory//\n",
    "\n",
    "    N: {n}\n",
    "\n",
    "    EXAMPLES:\n",
    "    {str(examples) if examples else \"Not Provided\"}\n",
    "\n",
    "    QUESTIONS: \n",
    "    \"\"\"\n",
    "\n",
    "    user_message = {'role': 'user', \"content\": user_prompt}\n",
    "    conversation.append(user_message)\n",
    "\n",
    "    total_usage = {'prompt_tokens': 0, 'completion_tokens': 0, 'total_tokens': 0}\n",
    "    response = creator(**text_creator_defaults,\n",
    "                        messages = conversation,\n",
    "                        )\n",
    "    \n",
    "    total_usage = add_dicts(total_usage, dict(response.usage))\n",
    "\n",
    "    output = response.choices[0].message.content\n",
    "\n",
    "    return {\"output\": output, \"total_usage\": total_usage}\n"
   ]
  },
  {
   "cell_type": "code",
   "execution_count": 73,
   "metadata": {},
   "outputs": [],
   "source": [
    "theory = \"\"\"\n",
    "Work Done in Various Processes:\n",
    "a. Isothermal Process (constant temperature):\n",
    "W = P(V2 - V1) * ln(V2 / V1)\n",
    "b. Adiabatic Process (no heat exchange):\n",
    "W = (P2V2 - P1V1) / (1 - γ), where γ is the adiabatic index\n",
    "c. Isobaric Process (constant pressure):\n",
    "W = P(V2 - V1)\"\"\"\n",
    "\n",
    "examples = {\n",
    "        \"question\": \"\"\"Consider three processes: isothermal, adiabatic, and isobaric. For a certain gas, the following data is given:\n",
    "\n",
    "Initial volume, V1 = 2 m^3\n",
    "Final volume, V2 = 4 m^3\n",
    "Initial pressure, P1 = 2 atm\n",
    "Final pressure, P2 = 3 atm\n",
    "Adiabatic index, γ = 1.4\n",
    "Calculate the work done during the adiabatic process.\"\"\",\n",
    "        \"choices\": {\"a\": \"-1.5 atm.m^3\", \"b\": \"-2.0 atm.m^3\", \"c\": \"-2.5 atm.m^3\", \"d\": \"-20.0 atm.m^3\"},\n",
    "        \"answer\": {\"d\": \"-20.0 atm.m^3\"}\n",
    "    }\n",
    "\n",
    "result = generate_numerical_mcqs(theory = theory, n = 3, examples = examples)"
   ]
  },
  {
   "cell_type": "code",
   "execution_count": 74,
   "metadata": {},
   "outputs": [
    {
     "name": "stdout",
     "output_type": "stream",
     "text": [
      "{\n",
      "    \"mcqs\": [\n",
      "        {\n",
      "            \"question\": \"A gas undergoes an isothermal expansion at a constant temperature. The initial and final volumes are 1.5 m^3 and 3 m^3 respectively, and the constant pressure throughout the process is 1 atm. Calculate the work done during this process.\",\n",
      "            \"choices\": {\"a\": \"1.04 atm.m^3\", \"b\": \"2.08 atm.m^3\", \"c\": \"3.12 atm.m^3\", \"d\": \"4.16 atm.m^3\"},\n",
      "            \"answer\": {\"a\": \"1.04 atm.m^3\"}\n",
      "        },\n",
      "        {\n",
      "            \"question\": \"During an adiabatic compression, the volume of a gas changes from 5 m^3 to 2 m^3. The initial pressure is 1 atm, the final pressure is 3 atm, and the adiabatic index is 1.5. Calculate the work done in this process.\",\n",
      "            \"choices\": {\"a\": \"1.2 atm.m^3\", \"b\": \"2.4 atm.m^3\", \"c\": \"3.6 atm.m^3\", \"d\": \"4.8 atm.m^3\"},\n",
      "            \"answer\": {\"c\": \"3.6 atm.m^3\"}\n",
      "        },\n",
      "        {\n",
      "            \"question\": \"A gas is held at a constant pressure of 2 atm while its volume is increased from 2 m^3 to 4 m^3. Calculate the work done during this isobaric process.\",\n",
      "            \"choices\": {\"a\": \"2 atm.m^3\", \"b\": \"4 atm.m^3\", \"c\": \"6 atm.m^3\", \"d\": \"8 atm.m^3\"},\n",
      "            \"answer\": {\"b\": \"4 atm.m^3\"}\n",
      "        }\n",
      "    ]\n",
      "}\n",
      "{'total_tokens': 1050, 'completion_tokens': 390, 'prompt_tokens': 660}\n"
     ]
    }
   ],
   "source": [
    "print(result[\"output\"])\n",
    "print(result['total_usage'])\n",
    "\n",
    "json_ques = json.loads(result['output'])"
   ]
  },
  {
   "cell_type": "code",
   "execution_count": 76,
   "metadata": {},
   "outputs": [
    {
     "name": "stdout",
     "output_type": "stream",
     "text": [
      "0.0183\n"
     ]
    }
   ],
   "source": [
    "c1 = calculate_cost_gpt4_omni(result['total_usage'])\n",
    "print(calculate_cost_gpt4_omni(result['total_usage']))"
   ]
  },
  {
   "cell_type": "code",
   "execution_count": 77,
   "metadata": {},
   "outputs": [
    {
     "data": {
      "text/plain": [
       "[{'question': 'A gas undergoes an isothermal expansion at a constant temperature. The initial and final volumes are 1.5 m^3 and 3 m^3 respectively, and the constant pressure throughout the process is 1 atm. Calculate the work done during this process.',\n",
       "  'choices': {'a': '1.04 atm.m^3',\n",
       "   'b': '2.08 atm.m^3',\n",
       "   'c': '3.12 atm.m^3',\n",
       "   'd': '4.16 atm.m^3'},\n",
       "  'answer': {'a': '1.04 atm.m^3'}},\n",
       " {'question': 'During an adiabatic compression, the volume of a gas changes from 5 m^3 to 2 m^3. The initial pressure is 1 atm, the final pressure is 3 atm, and the adiabatic index is 1.5. Calculate the work done in this process.',\n",
       "  'choices': {'a': '1.2 atm.m^3',\n",
       "   'b': '2.4 atm.m^3',\n",
       "   'c': '3.6 atm.m^3',\n",
       "   'd': '4.8 atm.m^3'},\n",
       "  'answer': {'c': '3.6 atm.m^3'}},\n",
       " {'question': 'A gas is held at a constant pressure of 2 atm while its volume is increased from 2 m^3 to 4 m^3. Calculate the work done during this isobaric process.',\n",
       "  'choices': {'a': '2 atm.m^3',\n",
       "   'b': '4 atm.m^3',\n",
       "   'c': '6 atm.m^3',\n",
       "   'd': '8 atm.m^3'},\n",
       "  'answer': {'b': '4 atm.m^3'}}]"
      ]
     },
     "execution_count": 77,
     "metadata": {},
     "output_type": "execute_result"
    }
   ],
   "source": [
    "json_ques['mcqs']"
   ]
  },
  {
   "cell_type": "markdown",
   "metadata": {},
   "source": [
    "#### calculation check for numerical mcqs"
   ]
  },
  {
   "cell_type": "code",
   "execution_count": 78,
   "metadata": {},
   "outputs": [
    {
     "name": "stdout",
     "output_type": "stream",
     "text": [
      "{\n",
      "\"question\": \"A gas undergoes an isothermal expansion at a constant temperature. The initial and final volumes are 1.5 m^3 and 3 m^3 respectively, and the constant pressure throughout the process is 1 atm. Calculate the work done during this process.\",\n",
      "\"choices\": {\"a\": \"1.5 atm.m^3\", \"b\": \"2.08 atm.m^3\", \"c\": \"3.12 atm.m^3\", \"d\": \"4.16 atm.m^3\"},\n",
      "\"answer\": {\"a\": \"1.5 atm.m^3\"}\n",
      "}\n",
      "\n",
      "    {\n",
      "        \"question\": \"During an adiabatic compression, the volume of a gas changes from 5 m^3 to 2 m^3. The initial pressure is 1 atm, the final pressure is 3 atm, and the adiabatic index is 1.5. Calculate the work done in this process.\",\n",
      "        \"choices\": {\"a\": \"1.2 atm.m^3\", \"b\": \"2.0 atm.m^3\", \"c\": \"3.6 atm.m^3\", \"d\": \"4.8 atm.m^3\"},\n",
      "        \"answer\": {\"b\": \"2.0 atm.m^3\"}\n",
      "    }\n",
      "\n",
      "    {\n",
      "    \"question\": \"A gas is held at a constant pressure of 2 atm while its volume is increased from 2 m^3 to 4 m^3. Calculate the work done during this isobaric process.\",\n",
      "    \"choices\": {\"a\": \"2 atm.m^3\", \"b\": \"4 atm.m^3\", \"c\": \"6 atm.m^3\", \"d\": \"8 atm.m^3\"},\n",
      "    \"answer\": {\"d\": \"8 atm.m^3\"}\n",
      "    }\n",
      "\n"
     ]
    }
   ],
   "source": [
    "# calculation check and improvements\n",
    "\n",
    "def calculation_checking(input):\n",
    "\n",
    "    conversation = [{\"role\": \"system\", \"content\": CALCULATION_CHECK_PROMPT}]\n",
    "    input_prompt = f\"\"\"\n",
    "\n",
    "    INPUT: \n",
    "\n",
    "    {input}\n",
    "\n",
    "    OUTPUT: \n",
    "\n",
    "    \"\"\" \n",
    "\n",
    "    input_message = {'role': 'user', 'content': input_prompt}\n",
    "    conversation.append(input_message)\n",
    "\n",
    "    total_usage = {'prompt_tokens': 0, 'completion_tokens': 0, 'total_tokens': 0}\n",
    "    response = creator(model = text_creator_defaults[\"model\"],\n",
    "                        messages = conversation,\n",
    "                        tools = [{\"type\": \"function\", \"function\": function_definitions[\"get_results_from_wolfram_cloud\"]}],\n",
    "                        tool_choice = \"auto\",\n",
    "                        temperature = text_creator_defaults[\"temperature\"]\n",
    "                    )\n",
    "\n",
    "    total_usage = add_dicts(total_usage, dict(response.usage))\n",
    "    response = response.model_dump()\n",
    "    response_message = response[\"choices\"][0][\"message\"]\n",
    "    tool_calls = response_message['tool_calls']\n",
    "\n",
    "    if tool_calls:\n",
    "        # Step 3: call the function\n",
    "        # Note: the JSON response may not always be valid; be sure to handle errors\n",
    "        available_functions = {\n",
    "            \"get_results_from_wolfram_cloud\": get_results_from_wolfram_cloud,\n",
    "        }  # only one function in this example, but you can have multiple\n",
    "        del response_message[\"function_call\"]\n",
    "        conversation.append(response_message)  # extend conversation with assistant's reply\n",
    "        # Step 4: send the info for each function call and function response to the model\n",
    "        for tool_call in tool_calls:\n",
    "            function_name = tool_call[\"function\"][\"name\"]\n",
    "            function_to_call = available_functions[function_name]\n",
    "            function_args = json.loads(tool_call[\"function\"][\"arguments\"])\n",
    "            function_response = function_to_call(\n",
    "                query=function_args.get(\"query\"),\n",
    "            )\n",
    "            conversation.append(\n",
    "                {\n",
    "                    \"tool_call_id\": tool_call[\"id\"],\n",
    "                    \"role\": \"tool\",\n",
    "                    \"name\": function_name,\n",
    "                    \"content\": str(function_response),\n",
    "                }\n",
    "            )\n",
    "\n",
    "    # print(conversation)\n",
    "    response = creator(**text_creator_defaults,\n",
    "                        messages = conversation,\n",
    "    )\n",
    "\n",
    "    total_usage = add_dicts(total_usage, dict(response.usage))\n",
    "    response = response.model_dump()\n",
    "    output = response[\"choices\"][0][\"message\"][\"content\"]\n",
    "    return {\"output\": output, \"total_usage\": total_usage}\n",
    "\n",
    "correct_ques = []\n",
    "total_usage = {'prompt_tokens': 0, 'completion_tokens': 0, 'total_tokens': 0}\n",
    "for ques in json_ques['mcqs']:\n",
    "    # ques = str(ques).replace(\"'\", '\"')\n",
    "    result = calculation_checking(ques)\n",
    "    total_usage = add_dicts(total_usage, result[\"total_usage\"])\n",
    "    correct_ques.append(result[\"output\"])\n",
    "    print(result[\"output\"])\n",
    "    "
   ]
  },
  {
   "cell_type": "code",
   "execution_count": 80,
   "metadata": {},
   "outputs": [
    {
     "name": "stdout",
     "output_type": "stream",
     "text": [
      "{'total_tokens': 3470, 'completion_tokens': 638, 'prompt_tokens': 2832}\n",
      "0.04746\n",
      "0.06576\n"
     ]
    }
   ],
   "source": [
    "print(total_usage)\n",
    "c2 = calculate_cost_gpt4_omni(total_usage)\n",
    "print(c2)\n",
    "print(c1 + c2)\n"
   ]
  },
  {
   "cell_type": "markdown",
   "metadata": {},
   "source": [
    "$0.065 (INR 5.4) is the cost of generating and checking the calculation of three mcqs"
   ]
  },
  {
   "cell_type": "code",
   "execution_count": null,
   "metadata": {},
   "outputs": [],
   "source": []
  }
 ],
 "metadata": {
  "kernelspec": {
   "display_name": "curate-v1",
   "language": "python",
   "name": "python3"
  },
  "language_info": {
   "codemirror_mode": {
    "name": "ipython",
    "version": 3
   },
   "file_extension": ".py",
   "mimetype": "text/x-python",
   "name": "python",
   "nbconvert_exporter": "python",
   "pygments_lexer": "ipython3",
   "version": "3.10.12"
  },
  "orig_nbformat": 4
 },
 "nbformat": 4,
 "nbformat_minor": 2
}
