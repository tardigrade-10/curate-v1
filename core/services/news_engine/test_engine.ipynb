{
 "cells": [
  {
   "cell_type": "code",
   "execution_count": 1,
   "metadata": {},
   "outputs": [],
   "source": [
    "%load_ext autoreload\n",
    "%autoreload 2\n",
    "\n",
    "import os\n",
    "curpath = os.getcwd()\n",
    "os.chdir(curpath.split(\"core\")[0])"
   ]
  },
  {
   "cell_type": "code",
   "execution_count": 3,
   "metadata": {},
   "outputs": [
    {
     "data": {
      "text/plain": [
       "True"
      ]
     },
     "execution_count": 3,
     "metadata": {},
     "output_type": "execute_result"
    }
   ],
   "source": [
    "import openai\n",
    "import json\n",
    "import time\n",
    "from typing import List, Dict, Any, Tuple, Union\n",
    "import urllib3\n",
    "from xml.dom.minidom import parseString\n",
    "\n",
    "# from prompts import SIMPLE_TS_PROMPTS, SIMPLE_TS_WITH_REF_PROMPTS\n",
    "# from core.services.topic_segregation.utils import add_dicts, calculate_cost_gpt4_8k\n",
    "\n",
    "from dotenv import load_dotenv\n",
    "load_dotenv()"
   ]
  },
  {
   "cell_type": "code",
   "execution_count": 4,
   "metadata": {},
   "outputs": [],
   "source": [
    "def get_google_news_results(term:str, count: int):\n",
    "    http = urllib3.PoolManager()\n",
    "    results = []\n",
    "    response = http.request('GET', 'http://news.google.com/news?q=%s&output=rss' % term)\n",
    "    obj = parseString(response.data.decode('utf-8'))\n",
    "    items = obj.getElementsByTagName('item')  # Get each item\n",
    "    for item in items[:count]:\n",
    "        title, link = '', ''\n",
    "        for node in item.childNodes:\n",
    "            if node.nodeName == 'title':\n",
    "                title = node.childNodes[0].data\n",
    "            elif node.nodeName == 'link':\n",
    "                link = node.childNodes[0].data\n",
    "        results.append((title, link))\n",
    "    return results"
   ]
  },
  {
   "cell_type": "code",
   "execution_count": 7,
   "metadata": {},
   "outputs": [],
   "source": [
    "results = get_google_news_results('coronavirus', 10)\n",
    "titles = []\n",
    "links = []\n",
    "for title, link in results:\n",
    "    titles.append(title)\n",
    "    links.append(link)"
   ]
  },
  {
   "cell_type": "code",
   "execution_count": null,
   "metadata": {},
   "outputs": [],
   "source": [
    "http = urllib3.PoolManager()\n",
    "results = []\n",
    "response = http.request('GET', \"\")\n",
    "obj = parseString(response.data.decode('utf-8'))\n",
    "items = obj.getElementsByTagName('item')  # Get each item"
   ]
  },
  {
   "cell_type": "code",
   "execution_count": 11,
   "metadata": {},
   "outputs": [
    {
     "data": {
      "text/plain": [
       "'https://news.google.com/rss/articles/CBMiMmh0dHBzOi8vd3d3Lm5hdHVyZS5jb20vYXJ0aWNsZXMvczQxNTY0LTAyMy0wMTUwNS050gEA?oc=5'"
      ]
     },
     "execution_count": 11,
     "metadata": {},
     "output_type": "execute_result"
    }
   ],
   "source": [
    "links[0]"
   ]
  },
  {
   "cell_type": "code",
   "execution_count": 12,
   "metadata": {},
   "outputs": [
    {
     "data": {
      "text/plain": [
       "'Immune imprinting and next-generation coronavirus vaccines - Nature.com'"
      ]
     },
     "execution_count": 12,
     "metadata": {},
     "output_type": "execute_result"
    }
   ],
   "source": [
    "titles[0]"
   ]
  },
  {
   "cell_type": "code",
   "execution_count": null,
   "metadata": {},
   "outputs": [],
   "source": []
  }
 ],
 "metadata": {
  "kernelspec": {
   "display_name": "curate-v1",
   "language": "python",
   "name": "python3"
  },
  "language_info": {
   "codemirror_mode": {
    "name": "ipython",
    "version": 3
   },
   "file_extension": ".py",
   "mimetype": "text/x-python",
   "name": "python",
   "nbconvert_exporter": "python",
   "pygments_lexer": "ipython3",
   "version": "3.10.12"
  }
 },
 "nbformat": 4,
 "nbformat_minor": 2
}
