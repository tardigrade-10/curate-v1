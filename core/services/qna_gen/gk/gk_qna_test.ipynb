{
 "cells": [
  {
   "cell_type": "markdown",
   "metadata": {},
   "source": [
    "## GK based MCQ Generator"
   ]
  },
  {
   "cell_type": "code",
   "execution_count": 24,
   "metadata": {},
   "outputs": [
    {
     "name": "stdout",
     "output_type": "stream",
     "text": [
      "The autoreload extension is already loaded. To reload it, use:\n",
      "  %reload_ext autoreload\n"
     ]
    }
   ],
   "source": [
    "%load_ext autoreload\n",
    "%autoreload 2"
   ]
  },
  {
   "cell_type": "code",
   "execution_count": 25,
   "metadata": {},
   "outputs": [],
   "source": [
    "import os\n",
    "curpath = os.getcwd()\n",
    "os.chdir(curpath.split(\"core\")[0])"
   ]
  },
  {
   "cell_type": "code",
   "execution_count": 26,
   "metadata": {},
   "outputs": [
    {
     "data": {
      "text/plain": [
       "True"
      ]
     },
     "execution_count": 26,
     "metadata": {},
     "output_type": "execute_result"
    }
   ],
   "source": [
    "import openai\n",
    "import json\n",
    "import time\n",
    "\n",
    "from prompts import SIMPLE_GK_TEXT_MCQ_PROMPT\n",
    "from core.services.qna_gen.utils import add_dicts\n",
    "\n",
    "from dotenv import load_dotenv\n",
    "load_dotenv()"
   ]
  },
  {
   "cell_type": "markdown",
   "metadata": {},
   "source": [
    "### Text MCQs"
   ]
  },
  {
   "cell_type": "code",
   "execution_count": 4,
   "metadata": {},
   "outputs": [],
   "source": [
    "context = \"\"\"\n",
    "INDIA\n",
    "National Conference-Congress alliance sweeps Kargil election with 22 of 26 seats; BJP wins two.\n",
    "The Chief of the Air Staff unveiled a new Ensign for the force, as it marked its 91st anniversary.\n",
    "The Army has completed the fourth tranche of Emergency Procurements (EP).\n",
    "The Indian Space Research Organisation (ISRO) has performed a trajectory correction manoeuvre on the Aditya-L1 spacecraft.\n",
    "22 people drowned during Jivitputrika festival in Bihar.\n",
    "President of India Droupadi Murmu inaugurated an International Research Conference on ‘From research to impact: Towards Just and Resilient Agri-Food Systems’.\n",
    "The 10th ” India-Sweden Innovation Day” Meet was held in Sweden.\n",
    "National Current Good Manufacturing Practice Day (cGMP Day) is to be celebrated on 10 October.\n",
    "Balasore train accident: Bhubaneswar Municipal Corporation to scientifically dispose 28 unclaimed bodies.\n",
    "ECONOMY & CORPORATE\n",
    "Automotive retail in September 2023 showcased a robust 20 percent double-digit year on year growth.\n",
    "Over 3 million demat accounts opened in Sept for second consecutive month.\n",
    "WORLD\n",
    "Israeli air strikes attacks Gaza killing more than 370 people, including 20 children.\n",
    "World Post Day is celebrated each year on 9 October.\n",
    "Bahrain, Iraq, Kuwait, Oman, Saudi Arabia and UAE reaffirmed their commitment to voluntary adjustments” to oil production.\n",
    "President Joe Biden ordered U.S. ships and warplanes to move closer to Israel in a show of support.\n",
    "SPORTS\n",
    "19th Asian Games concludes in Hangzhou, China while India is ranked at fourth place.\n",
    "For the first time in 60 years, India has won 107 medals in Asian Games, including 28 gold.\n",
    "\"\"\""
   ]
  },
  {
   "cell_type": "code",
   "execution_count": 27,
   "metadata": {},
   "outputs": [],
   "source": [
    "\n",
    "def generate_text_mcqs(context, n=1, example = None, model_id = \"gpt-4-0613\"):\n",
    "\n",
    "    system_message = {\"role\": \"system\", \"content\": SIMPLE_GK_TEXT_MCQ_PROMPT}\n",
    "    conversation = [system_message]\n",
    "\n",
    "    global total_usage\n",
    "    total_usage = {'prompt_tokens': 0, 'completion_tokens': 0, 'total_tokens': 0}\n",
    "\n",
    "    user_prompt = f\"\"\"\n",
    "    CONTEXT_TEXT:\n",
    "    //context//\n",
    "\n",
    "    {context}\n",
    "\n",
    "    //context//\n",
    "   \n",
    "    N: {n}\n",
    "\n",
    "    EXAMPLE:\n",
    "    {example if example else \"NA\"}\n",
    "\n",
    "    QUESTIONS: \n",
    "    \"\"\"\n",
    "\n",
    "    user_message = {'role': 'user', \"content\": user_prompt}\n",
    "    conversation.append(user_message)\n",
    "\n",
    "    response = openai.ChatCompletion.create(\n",
    "                                    model= model_id,\n",
    "                                    messages = conversation,\n",
    "                                    temperature = 1\n",
    "                                    )\n",
    "    \n",
    "    total_usage = add_dicts(total_usage, dict(response.usage))\n",
    "\n",
    "    output = response.choices[0].message.content\n",
    "\n",
    "    return {\"output\": output, \"total_usage\": total_usage}\n",
    "\n",
    "\n"
   ]
  },
  {
   "cell_type": "code",
   "execution_count": null,
   "metadata": {},
   "outputs": [],
   "source": [
    "example = {\n",
    "        \"question\": \"Which of the following statements is true regarding thermodynamics?\",\n",
    "        \"choices\": [\"The surroundings refer to the part of the universe under study.\", \"State Functions depend on the path taken during a change.\", \"In an adiabatic process, there is no heat exchange with the surroundings.\", \"The First Law of Thermodynamics is represented by the equation ΔU = q - w.\"],\n",
    "        \"answer\": \"In an adiabatic process, there is no heat exchange with the surroundings.\"\n",
    "    }\n",
    "\n",
    "# output = generate_text_mcqs(\n",
    "#                         context = context,\n",
    "#                         n = 5,\n",
    "#                         # example = example,\n",
    "#                         )\n",
    "\n",
    "# print(output[0])\n",
    "# print(output[1])"
   ]
  },
  {
   "cell_type": "code",
   "execution_count": 28,
   "metadata": {},
   "outputs": [],
   "source": [
    "path = r\"C:\\Users\\DELL\\Documents\\Curate\\curate-v1\\core\\services\\qna_gen\\gk\\test_data.txt\"\n",
    "\n",
    "with open(path, 'rb') as f:\n",
    "    text = f.read().decode('utf-8')\n",
    "\n",
    "text = text.replace('\\r', '')\n",
    "splitted_text = text.split('\\n\\n\\n')\n",
    "\n",
    "# text"
   ]
  },
  {
   "cell_type": "code",
   "execution_count": null,
   "metadata": {},
   "outputs": [],
   "source": [
    "# batch qna gen\n",
    "\n",
    "questions = []\n",
    "left = []\n",
    "\n",
    "for context_split in splitted_text:\n",
    "\n",
    "    result = generate_text_mcqs(\n",
    "                        context = context_split,\n",
    "                        n = 3,\n",
    "                    )\n",
    "    print(result)\n",
    "\n",
    "    try:\n",
    "        json_ques = json.loads(result['output'])\n",
    "        questions.extend(json_ques['mcqs'])\n",
    "        print(json_ques['mcqs'])\n",
    "        print()\n",
    "\n",
    "    except:\n",
    "        left.append(context_split)\n",
    "\n",
    "        \n"
   ]
  },
  {
   "cell_type": "markdown",
   "metadata": {},
   "source": [
    "### Numerical MCQs"
   ]
  },
  {
   "cell_type": "code",
   "execution_count": 13,
   "metadata": {},
   "outputs": [],
   "source": [
    "functions = [\n",
    "    {\n",
    "      \"name\": \"get_results_from_wolfram\",\n",
    "      \"description\": \"This function will return a list of accurate calculation results for the mathematical queries\",\n",
    "      \"parameters\": {\n",
    "        \"type\": \"object\",\n",
    "        \"properties\": {\n",
    "          \"queries\": {\n",
    "            \"type\": \"string\",\n",
    "            \"description\": \"\"\"the list of mathematical expressions for example - \"['2^2 + 3', 'ln(5) + 2*4']\". ONLY mathematical expressions are supported.\"\"\"\n",
    "          }\n",
    "        }\n",
    "      },\n",
    "        \"required\": [\"queries\"]\n",
    "    }\n",
    "] "
   ]
  },
  {
   "cell_type": "code",
   "execution_count": null,
   "metadata": {},
   "outputs": [],
   "source": []
  }
 ],
 "metadata": {
  "kernelspec": {
   "display_name": "curate-v1",
   "language": "python",
   "name": "python3"
  },
  "language_info": {
   "codemirror_mode": {
    "name": "ipython",
    "version": 3
   },
   "file_extension": ".py",
   "mimetype": "text/x-python",
   "name": "python",
   "nbconvert_exporter": "python",
   "pygments_lexer": "ipython3",
   "version": "3.10.12"
  },
  "orig_nbformat": 4
 },
 "nbformat": 4,
 "nbformat_minor": 2
}
