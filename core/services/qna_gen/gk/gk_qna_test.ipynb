{
 "cells": [
  {
   "cell_type": "markdown",
   "metadata": {},
   "source": [
    "## GK based MCQ Generator"
   ]
  },
  {
   "cell_type": "code",
   "execution_count": 1,
   "metadata": {},
   "outputs": [],
   "source": [
    "%load_ext autoreload\n",
    "%autoreload 2"
   ]
  },
  {
   "cell_type": "code",
   "execution_count": 2,
   "metadata": {},
   "outputs": [],
   "source": [
    "import os\n",
    "curpath = os.getcwd()\n",
    "os.chdir(curpath.split(\"core\")[0])"
   ]
  },
  {
   "cell_type": "code",
   "execution_count": 3,
   "metadata": {},
   "outputs": [
    {
     "data": {
      "text/plain": [
       "True"
      ]
     },
     "execution_count": 3,
     "metadata": {},
     "output_type": "execute_result"
    }
   ],
   "source": [
    "import openai\n",
    "import json\n",
    "import time\n",
    "\n",
    "from prompts import SIMPLE_GK_TEXT_MCQ_PROMPT\n",
    "from core.services.qna_gen.utils import add_dicts\n",
    "\n",
    "from dotenv import load_dotenv\n",
    "load_dotenv()"
   ]
  },
  {
   "cell_type": "markdown",
   "metadata": {},
   "source": [
    "### Text MCQs"
   ]
  },
  {
   "cell_type": "code",
   "execution_count": 4,
   "metadata": {},
   "outputs": [],
   "source": [
    "context = \"\"\"\n",
    "INDIA\n",
    "National Conference-Congress alliance sweeps Kargil election with 22 of 26 seats; BJP wins two.\n",
    "The Chief of the Air Staff unveiled a new Ensign for the force, as it marked its 91st anniversary.\n",
    "The Army has completed the fourth tranche of Emergency Procurements (EP).\n",
    "The Indian Space Research Organisation (ISRO) has performed a trajectory correction manoeuvre on the Aditya-L1 spacecraft.\n",
    "22 people drowned during Jivitputrika festival in Bihar.\n",
    "President of India Droupadi Murmu inaugurated an International Research Conference on ‘From research to impact: Towards Just and Resilient Agri-Food Systems’.\n",
    "The 10th ” India-Sweden Innovation Day” Meet was held in Sweden.\n",
    "National Current Good Manufacturing Practice Day (cGMP Day) is to be celebrated on 10 October.\n",
    "Balasore train accident: Bhubaneswar Municipal Corporation to scientifically dispose 28 unclaimed bodies.\n",
    "ECONOMY & CORPORATE\n",
    "Automotive retail in September 2023 showcased a robust 20 percent double-digit year on year growth.\n",
    "Over 3 million demat accounts opened in Sept for second consecutive month.\n",
    "WORLD\n",
    "Israeli air strikes attacks Gaza killing more than 370 people, including 20 children.\n",
    "World Post Day is celebrated each year on 9 October.\n",
    "Bahrain, Iraq, Kuwait, Oman, Saudi Arabia and UAE reaffirmed their commitment to voluntary adjustments” to oil production.\n",
    "President Joe Biden ordered U.S. ships and warplanes to move closer to Israel in a show of support.\n",
    "SPORTS\n",
    "19th Asian Games concludes in Hangzhou, China while India is ranked at fourth place.\n",
    "For the first time in 60 years, India has won 107 medals in Asian Games, including 28 gold.\n",
    "\"\"\""
   ]
  },
  {
   "cell_type": "code",
   "execution_count": 5,
   "metadata": {},
   "outputs": [],
   "source": [
    "\n",
    "def generate_text_mcqs(context, n=1, example = None, model_id = \"gpt-4-0613\"):\n",
    "\n",
    "    system_message = {\"role\": \"system\", \"content\": SIMPLE_GK_TEXT_MCQ_PROMPT}\n",
    "    conversation = [system_message]\n",
    "\n",
    "    global total_usage\n",
    "    total_usage = {'prompt_tokens': 0, 'completion_tokens': 0, 'total_tokens': 0}\n",
    "\n",
    "    user_prompt = f\"\"\"\n",
    "    CONTEXT_TEXT:\n",
    "    //context//\n",
    "\n",
    "    {context}\n",
    "\n",
    "    //context//\n",
    "   \n",
    "    N: {n}\n",
    "\n",
    "    EXAMPLE:\n",
    "    {example if example else \"NA\"}\n",
    "\n",
    "    QUESTIONS: \n",
    "    \"\"\"\n",
    "\n",
    "    user_message = {'role': 'user', \"content\": user_prompt}\n",
    "    conversation.append(user_message)\n",
    "\n",
    "    response = openai.ChatCompletion.create(\n",
    "                                    model= model_id,\n",
    "                                    messages = conversation,\n",
    "                                    temperature = 1\n",
    "                                    )\n",
    "    \n",
    "    total_usage = add_dicts(total_usage, dict(response.usage))\n",
    "\n",
    "    output = response.choices[0].message.content\n",
    "\n",
    "    return {\"output\": output, \"total_usage\": total_usage}\n",
    "\n",
    "\n"
   ]
  },
  {
   "cell_type": "code",
   "execution_count": 6,
   "metadata": {},
   "outputs": [],
   "source": [
    "example = {\n",
    "        \"question\": \"Which of the following statements is true regarding thermodynamics?\",\n",
    "        \"choices\": [\"The surroundings refer to the part of the universe under study.\", \"State Functions depend on the path taken during a change.\", \"In an adiabatic process, there is no heat exchange with the surroundings.\", \"The First Law of Thermodynamics is represented by the equation ΔU = q - w.\"],\n",
    "        \"answer\": \"In an adiabatic process, there is no heat exchange with the surroundings.\"\n",
    "    }\n",
    "\n",
    "# output = generate_text_mcqs(\n",
    "#                         context = context,\n",
    "#                         n = 5,\n",
    "#                         # example = example,\n",
    "#                         )\n",
    "\n",
    "# print(output[0])\n",
    "# print(output[1])"
   ]
  },
  {
   "cell_type": "code",
   "execution_count": 7,
   "metadata": {},
   "outputs": [],
   "source": [
    "path = r\"C:\\Users\\DELL\\Documents\\Curate\\curate-v1\\core\\services\\qna_gen\\gk\\test_data.txt\"\n",
    "\n",
    "with open(path, 'rb') as f:\n",
    "    text = f.read().decode('utf-8')\n",
    "\n",
    "text = text.replace('\\r', '')\n",
    "splitted_text = text.split('\\n\\n\\n')\n",
    "\n",
    "# text"
   ]
  },
  {
   "cell_type": "code",
   "execution_count": 8,
   "metadata": {},
   "outputs": [
    {
     "name": "stdout",
     "output_type": "stream",
     "text": [
      "{'output': '\\n{\\n    \"mcqs\": [\\n        {\\n        \"question\": \"What was the purpose of the socio-economic survey conducted by the Chhattisgarh\\'s Chief Minister?\",\\n        \"choices\": [\"To assess the state\\'s economic condition.\", \"To identify families living in fragile houses.\", \"To examine the impact of the Pradhan Mantri Awas Yojana.\", \"To conduct a decennial census in Chhattisgarh.\"],\\n        \"answer\": \"To identify families living in fragile houses.\"\\n        },\\n        {\\n        \"question\": \"What was the reason for the delayed start of the Pradhan Mantri Awas Yojana?\",\\n        \"choices\": [\"Chhattisgarh government\\'s inability to contribute its share of the funds.\", \"Unforeseen pandemic conditions.\", \"Lack of support from the Central Government.\", \"Delay in the socio-economic survey of the state.\"],\\n        \"answer\": \"Chhattisgarh government\\'s inability to contribute its share of the funds.\"\\n        },\\n        {\\n        \"question\": \"Why did the Central Government withdraw Chhattisgarh from the Pradhan Mantri Awas Yojana-Rural (PMAY-G)?\",\\n        \"choices\": [\"Due to the state\\'s inability to meet its financial commitment.\", \"Because of lack of housing need in the state.\", \"Because of the state\\'s decision to implement its own housing scheme.\", \"Due to conflicts between the state and the Central Government.\"],\\n        \"answer\": \"Due to the state\\'s inability to meet its financial commitment.\"\\n        }\\n    ]\\n}', 'total_usage': {'prompt_tokens': 947, 'total_tokens': 1269, 'completion_tokens': 322}}\n",
      "[{'question': \"What was the purpose of the socio-economic survey conducted by the Chhattisgarh's Chief Minister?\", 'choices': [\"To assess the state's economic condition.\", 'To identify families living in fragile houses.', 'To examine the impact of the Pradhan Mantri Awas Yojana.', 'To conduct a decennial census in Chhattisgarh.'], 'answer': 'To identify families living in fragile houses.'}, {'question': 'What was the reason for the delayed start of the Pradhan Mantri Awas Yojana?', 'choices': [\"Chhattisgarh government's inability to contribute its share of the funds.\", 'Unforeseen pandemic conditions.', 'Lack of support from the Central Government.', 'Delay in the socio-economic survey of the state.'], 'answer': \"Chhattisgarh government's inability to contribute its share of the funds.\"}, {'question': 'Why did the Central Government withdraw Chhattisgarh from the Pradhan Mantri Awas Yojana-Rural (PMAY-G)?', 'choices': [\"Due to the state's inability to meet its financial commitment.\", 'Because of lack of housing need in the state.', \"Because of the state's decision to implement its own housing scheme.\", 'Due to conflicts between the state and the Central Government.'], 'answer': \"Due to the state's inability to meet its financial commitment.\"}]\n",
      "\n",
      "{'output': '\\n{\\n    \"mcqs\": [\\n        {\\n            \"question\": \"Which department announced the launch of the unified registration portal?\",\\n            \"choices\": [\\n                \"Department of Agriculture\",\\n                \"Department of Drinking Water and Sanitation\",\\n                \"Department of Biotechnology\",\\n                \"Department of Organic Farming\"\\n            ],\\n            \"answer\": \"Department of Drinking Water and Sanitation\"\\n        },\\n        {\\n            \"question\": \"What is the financial assistance provided under MDA for the sale of FOM, LFOM, and PROM?\",\\n            \"choices\": [\\n                \"Rs 1000 per MT\",\\n                \"Rs 1200 per MT\",\\n                \"Rs 1500 per MT\",\\n                \"Rs 2000 per MT\"\\n            ],\\n            \"answer\": \"Rs 1500 per MT\"\\n        },\\n        {\\n            \"question\": \"What is the main purpose of the GOBARdhan initiative?\",\\n            \"choices\": [\\n                \"To regulate the use of plastic\",\\n                \"To transform biodegradable and organic waste sources into high-value resources\",\\n                \"To encourage the use of non-renewable sources of energy\",\\n                \"To promote the use of synthetic fertilizers\"\\n            ],\\n            \"answer\": \"To transform biodegradable and organic waste sources into high-value resources\"\\n        }\\n    ]\\n}', 'total_usage': {'prompt_tokens': 828, 'total_tokens': 1095, 'completion_tokens': 267}}\n",
      "[{'question': 'Which department announced the launch of the unified registration portal?', 'choices': ['Department of Agriculture', 'Department of Drinking Water and Sanitation', 'Department of Biotechnology', 'Department of Organic Farming'], 'answer': 'Department of Drinking Water and Sanitation'}, {'question': 'What is the financial assistance provided under MDA for the sale of FOM, LFOM, and PROM?', 'choices': ['Rs 1000 per MT', 'Rs 1200 per MT', 'Rs 1500 per MT', 'Rs 2000 per MT'], 'answer': 'Rs 1500 per MT'}, {'question': 'What is the main purpose of the GOBARdhan initiative?', 'choices': ['To regulate the use of plastic', 'To transform biodegradable and organic waste sources into high-value resources', 'To encourage the use of non-renewable sources of energy', 'To promote the use of synthetic fertilizers'], 'answer': 'To transform biodegradable and organic waste sources into high-value resources'}]\n",
      "\n",
      "{'output': '{\\n    \"mcqs\": [\\n        {\\n        \"question\": \"Who developed the AI chatbot for the PM-KISAN Scheme?\",\\n        \"choices\": [\"Microsoft\", \"EkStep Foundation and Bhashini\", \"Amazon\", \"Google\"],\\n        \"answer\": \"EkStep Foundation and Bhashini\"\\n        },\\n        {\\n        \"question\": \"What is the primary objective of the AI chatbot in the PM-KISAN scheme?\",\\n        \"choices\": [\"Assist farmers with scheme-related information\", \"Sell products to the farmers\", \"Collect data from the farmers\", \"Provide entertainment to the farmers\"],\\n        \"answer\": \"Assist farmers with scheme-related information\"\\n        }, \\n        {\\n        \"question\": \"In how many official languages of India is AI chatbot expected to be available?\",\\n        \"choices\": [\"10 official languages\", \"5 official languages\", \"22 official languages\", \"30 official languages\"],\\n        \"answer\": \"22 official languages\"\\n        }\\n    ]\\n}', 'total_usage': {'prompt_tokens': 713, 'total_tokens': 914, 'completion_tokens': 201}}\n",
      "[{'question': 'Who developed the AI chatbot for the PM-KISAN Scheme?', 'choices': ['Microsoft', 'EkStep Foundation and Bhashini', 'Amazon', 'Google'], 'answer': 'EkStep Foundation and Bhashini'}, {'question': 'What is the primary objective of the AI chatbot in the PM-KISAN scheme?', 'choices': ['Assist farmers with scheme-related information', 'Sell products to the farmers', 'Collect data from the farmers', 'Provide entertainment to the farmers'], 'answer': 'Assist farmers with scheme-related information'}, {'question': 'In how many official languages of India is AI chatbot expected to be available?', 'choices': ['10 official languages', '5 official languages', '22 official languages', '30 official languages'], 'answer': '22 official languages'}]\n",
      "\n"
     ]
    },
    {
     "ename": "KeyboardInterrupt",
     "evalue": "",
     "output_type": "error",
     "traceback": [
      "\u001b[1;31m---------------------------------------------------------------------------\u001b[0m",
      "\u001b[1;31mKeyboardInterrupt\u001b[0m                         Traceback (most recent call last)",
      "\u001b[1;32mc:\\Users\\DELL\\Documents\\Curate\\curate-v1\\core\\services\\qna_gen\\gk\\gk_qna_test.ipynb Cell 10\u001b[0m line \u001b[0;36m<cell line: 6>\u001b[1;34m()\u001b[0m\n\u001b[0;32m      <a href='vscode-notebook-cell:/c%3A/Users/DELL/Documents/Curate/curate-v1/core/services/qna_gen/gk/gk_qna_test.ipynb#X12sZmlsZQ%3D%3D?line=3'>4</a>\u001b[0m left \u001b[39m=\u001b[39m []\n\u001b[0;32m      <a href='vscode-notebook-cell:/c%3A/Users/DELL/Documents/Curate/curate-v1/core/services/qna_gen/gk/gk_qna_test.ipynb#X12sZmlsZQ%3D%3D?line=5'>6</a>\u001b[0m \u001b[39mfor\u001b[39;00m context_split \u001b[39min\u001b[39;00m splitted_text:\n\u001b[1;32m----> <a href='vscode-notebook-cell:/c%3A/Users/DELL/Documents/Curate/curate-v1/core/services/qna_gen/gk/gk_qna_test.ipynb#X12sZmlsZQ%3D%3D?line=7'>8</a>\u001b[0m     result \u001b[39m=\u001b[39m generate_text_mcqs(\n\u001b[0;32m      <a href='vscode-notebook-cell:/c%3A/Users/DELL/Documents/Curate/curate-v1/core/services/qna_gen/gk/gk_qna_test.ipynb#X12sZmlsZQ%3D%3D?line=8'>9</a>\u001b[0m                         context \u001b[39m=\u001b[39;49m context_split,\n\u001b[0;32m     <a href='vscode-notebook-cell:/c%3A/Users/DELL/Documents/Curate/curate-v1/core/services/qna_gen/gk/gk_qna_test.ipynb#X12sZmlsZQ%3D%3D?line=9'>10</a>\u001b[0m                         n \u001b[39m=\u001b[39;49m \u001b[39m3\u001b[39;49m,\n\u001b[0;32m     <a href='vscode-notebook-cell:/c%3A/Users/DELL/Documents/Curate/curate-v1/core/services/qna_gen/gk/gk_qna_test.ipynb#X12sZmlsZQ%3D%3D?line=10'>11</a>\u001b[0m                     )\n\u001b[0;32m     <a href='vscode-notebook-cell:/c%3A/Users/DELL/Documents/Curate/curate-v1/core/services/qna_gen/gk/gk_qna_test.ipynb#X12sZmlsZQ%3D%3D?line=11'>12</a>\u001b[0m     \u001b[39mprint\u001b[39m(result)\n\u001b[0;32m     <a href='vscode-notebook-cell:/c%3A/Users/DELL/Documents/Curate/curate-v1/core/services/qna_gen/gk/gk_qna_test.ipynb#X12sZmlsZQ%3D%3D?line=13'>14</a>\u001b[0m     \u001b[39mtry\u001b[39;00m:\n",
      "\u001b[1;32mc:\\Users\\DELL\\Documents\\Curate\\curate-v1\\core\\services\\qna_gen\\gk\\gk_qna_test.ipynb Cell 10\u001b[0m line \u001b[0;36mgenerate_text_mcqs\u001b[1;34m(context, n, example, model_id)\u001b[0m\n\u001b[0;32m     <a href='vscode-notebook-cell:/c%3A/Users/DELL/Documents/Curate/curate-v1/core/services/qna_gen/gk/gk_qna_test.ipynb#X12sZmlsZQ%3D%3D?line=24'>25</a>\u001b[0m user_message \u001b[39m=\u001b[39m {\u001b[39m'\u001b[39m\u001b[39mrole\u001b[39m\u001b[39m'\u001b[39m: \u001b[39m'\u001b[39m\u001b[39muser\u001b[39m\u001b[39m'\u001b[39m, \u001b[39m\"\u001b[39m\u001b[39mcontent\u001b[39m\u001b[39m\"\u001b[39m: user_prompt}\n\u001b[0;32m     <a href='vscode-notebook-cell:/c%3A/Users/DELL/Documents/Curate/curate-v1/core/services/qna_gen/gk/gk_qna_test.ipynb#X12sZmlsZQ%3D%3D?line=25'>26</a>\u001b[0m conversation\u001b[39m.\u001b[39mappend(user_message)\n\u001b[1;32m---> <a href='vscode-notebook-cell:/c%3A/Users/DELL/Documents/Curate/curate-v1/core/services/qna_gen/gk/gk_qna_test.ipynb#X12sZmlsZQ%3D%3D?line=27'>28</a>\u001b[0m response \u001b[39m=\u001b[39m openai\u001b[39m.\u001b[39;49mChatCompletion\u001b[39m.\u001b[39;49mcreate(\n\u001b[0;32m     <a href='vscode-notebook-cell:/c%3A/Users/DELL/Documents/Curate/curate-v1/core/services/qna_gen/gk/gk_qna_test.ipynb#X12sZmlsZQ%3D%3D?line=28'>29</a>\u001b[0m                                 model\u001b[39m=\u001b[39;49m model_id,\n\u001b[0;32m     <a href='vscode-notebook-cell:/c%3A/Users/DELL/Documents/Curate/curate-v1/core/services/qna_gen/gk/gk_qna_test.ipynb#X12sZmlsZQ%3D%3D?line=29'>30</a>\u001b[0m                                 messages \u001b[39m=\u001b[39;49m conversation,\n\u001b[0;32m     <a href='vscode-notebook-cell:/c%3A/Users/DELL/Documents/Curate/curate-v1/core/services/qna_gen/gk/gk_qna_test.ipynb#X12sZmlsZQ%3D%3D?line=30'>31</a>\u001b[0m                                 temperature \u001b[39m=\u001b[39;49m \u001b[39m1\u001b[39;49m\n\u001b[0;32m     <a href='vscode-notebook-cell:/c%3A/Users/DELL/Documents/Curate/curate-v1/core/services/qna_gen/gk/gk_qna_test.ipynb#X12sZmlsZQ%3D%3D?line=31'>32</a>\u001b[0m                                 )\n\u001b[0;32m     <a href='vscode-notebook-cell:/c%3A/Users/DELL/Documents/Curate/curate-v1/core/services/qna_gen/gk/gk_qna_test.ipynb#X12sZmlsZQ%3D%3D?line=33'>34</a>\u001b[0m total_usage \u001b[39m=\u001b[39m add_dicts(total_usage, \u001b[39mdict\u001b[39m(response\u001b[39m.\u001b[39musage))\n\u001b[0;32m     <a href='vscode-notebook-cell:/c%3A/Users/DELL/Documents/Curate/curate-v1/core/services/qna_gen/gk/gk_qna_test.ipynb#X12sZmlsZQ%3D%3D?line=35'>36</a>\u001b[0m output \u001b[39m=\u001b[39m response\u001b[39m.\u001b[39mchoices[\u001b[39m0\u001b[39m]\u001b[39m.\u001b[39mmessage\u001b[39m.\u001b[39mcontent\n",
      "File \u001b[1;32mc:\\Users\\DELL\\anaconda3\\envs\\curate-v1\\lib\\site-packages\\openai\\api_resources\\chat_completion.py:25\u001b[0m, in \u001b[0;36mChatCompletion.create\u001b[1;34m(cls, *args, **kwargs)\u001b[0m\n\u001b[0;32m     23\u001b[0m \u001b[39mwhile\u001b[39;00m \u001b[39mTrue\u001b[39;00m:\n\u001b[0;32m     24\u001b[0m     \u001b[39mtry\u001b[39;00m:\n\u001b[1;32m---> 25\u001b[0m         \u001b[39mreturn\u001b[39;00m \u001b[39msuper\u001b[39m()\u001b[39m.\u001b[39mcreate(\u001b[39m*\u001b[39margs, \u001b[39m*\u001b[39m\u001b[39m*\u001b[39mkwargs)\n\u001b[0;32m     26\u001b[0m     \u001b[39mexcept\u001b[39;00m TryAgain \u001b[39mas\u001b[39;00m e:\n\u001b[0;32m     27\u001b[0m         \u001b[39mif\u001b[39;00m timeout \u001b[39mis\u001b[39;00m \u001b[39mnot\u001b[39;00m \u001b[39mNone\u001b[39;00m \u001b[39mand\u001b[39;00m time\u001b[39m.\u001b[39mtime() \u001b[39m>\u001b[39m start \u001b[39m+\u001b[39m timeout:\n",
      "File \u001b[1;32mc:\\Users\\DELL\\anaconda3\\envs\\curate-v1\\lib\\site-packages\\openai\\api_resources\\abstract\\engine_api_resource.py:153\u001b[0m, in \u001b[0;36mEngineAPIResource.create\u001b[1;34m(cls, api_key, api_base, api_type, request_id, api_version, organization, **params)\u001b[0m\n\u001b[0;32m    127\u001b[0m \u001b[39m@classmethod\u001b[39m\n\u001b[0;32m    128\u001b[0m \u001b[39mdef\u001b[39;00m \u001b[39mcreate\u001b[39m(\n\u001b[0;32m    129\u001b[0m     \u001b[39mcls\u001b[39m,\n\u001b[1;32m   (...)\u001b[0m\n\u001b[0;32m    136\u001b[0m     \u001b[39m*\u001b[39m\u001b[39m*\u001b[39mparams,\n\u001b[0;32m    137\u001b[0m ):\n\u001b[0;32m    138\u001b[0m     (\n\u001b[0;32m    139\u001b[0m         deployment_id,\n\u001b[0;32m    140\u001b[0m         engine,\n\u001b[1;32m   (...)\u001b[0m\n\u001b[0;32m    150\u001b[0m         api_key, api_base, api_type, api_version, organization, \u001b[39m*\u001b[39m\u001b[39m*\u001b[39mparams\n\u001b[0;32m    151\u001b[0m     )\n\u001b[1;32m--> 153\u001b[0m     response, _, api_key \u001b[39m=\u001b[39m requestor\u001b[39m.\u001b[39;49mrequest(\n\u001b[0;32m    154\u001b[0m         \u001b[39m\"\u001b[39;49m\u001b[39mpost\u001b[39;49m\u001b[39m\"\u001b[39;49m,\n\u001b[0;32m    155\u001b[0m         url,\n\u001b[0;32m    156\u001b[0m         params\u001b[39m=\u001b[39;49mparams,\n\u001b[0;32m    157\u001b[0m         headers\u001b[39m=\u001b[39;49mheaders,\n\u001b[0;32m    158\u001b[0m         stream\u001b[39m=\u001b[39;49mstream,\n\u001b[0;32m    159\u001b[0m         request_id\u001b[39m=\u001b[39;49mrequest_id,\n\u001b[0;32m    160\u001b[0m         request_timeout\u001b[39m=\u001b[39;49mrequest_timeout,\n\u001b[0;32m    161\u001b[0m     )\n\u001b[0;32m    163\u001b[0m     \u001b[39mif\u001b[39;00m stream:\n\u001b[0;32m    164\u001b[0m         \u001b[39m# must be an iterator\u001b[39;00m\n\u001b[0;32m    165\u001b[0m         \u001b[39massert\u001b[39;00m \u001b[39mnot\u001b[39;00m \u001b[39misinstance\u001b[39m(response, OpenAIResponse)\n",
      "File \u001b[1;32mc:\\Users\\DELL\\anaconda3\\envs\\curate-v1\\lib\\site-packages\\openai\\api_requestor.py:288\u001b[0m, in \u001b[0;36mAPIRequestor.request\u001b[1;34m(self, method, url, params, headers, files, stream, request_id, request_timeout)\u001b[0m\n\u001b[0;32m    277\u001b[0m \u001b[39mdef\u001b[39;00m \u001b[39mrequest\u001b[39m(\n\u001b[0;32m    278\u001b[0m     \u001b[39mself\u001b[39m,\n\u001b[0;32m    279\u001b[0m     method,\n\u001b[1;32m   (...)\u001b[0m\n\u001b[0;32m    286\u001b[0m     request_timeout: Optional[Union[\u001b[39mfloat\u001b[39m, Tuple[\u001b[39mfloat\u001b[39m, \u001b[39mfloat\u001b[39m]]] \u001b[39m=\u001b[39m \u001b[39mNone\u001b[39;00m,\n\u001b[0;32m    287\u001b[0m ) \u001b[39m-\u001b[39m\u001b[39m>\u001b[39m Tuple[Union[OpenAIResponse, Iterator[OpenAIResponse]], \u001b[39mbool\u001b[39m, \u001b[39mstr\u001b[39m]:\n\u001b[1;32m--> 288\u001b[0m     result \u001b[39m=\u001b[39m \u001b[39mself\u001b[39;49m\u001b[39m.\u001b[39;49mrequest_raw(\n\u001b[0;32m    289\u001b[0m         method\u001b[39m.\u001b[39;49mlower(),\n\u001b[0;32m    290\u001b[0m         url,\n\u001b[0;32m    291\u001b[0m         params\u001b[39m=\u001b[39;49mparams,\n\u001b[0;32m    292\u001b[0m         supplied_headers\u001b[39m=\u001b[39;49mheaders,\n\u001b[0;32m    293\u001b[0m         files\u001b[39m=\u001b[39;49mfiles,\n\u001b[0;32m    294\u001b[0m         stream\u001b[39m=\u001b[39;49mstream,\n\u001b[0;32m    295\u001b[0m         request_id\u001b[39m=\u001b[39;49mrequest_id,\n\u001b[0;32m    296\u001b[0m         request_timeout\u001b[39m=\u001b[39;49mrequest_timeout,\n\u001b[0;32m    297\u001b[0m     )\n\u001b[0;32m    298\u001b[0m     resp, got_stream \u001b[39m=\u001b[39m \u001b[39mself\u001b[39m\u001b[39m.\u001b[39m_interpret_response(result, stream)\n\u001b[0;32m    299\u001b[0m     \u001b[39mreturn\u001b[39;00m resp, got_stream, \u001b[39mself\u001b[39m\u001b[39m.\u001b[39mapi_key\n",
      "File \u001b[1;32mc:\\Users\\DELL\\anaconda3\\envs\\curate-v1\\lib\\site-packages\\openai\\api_requestor.py:596\u001b[0m, in \u001b[0;36mAPIRequestor.request_raw\u001b[1;34m(self, method, url, params, supplied_headers, files, stream, request_id, request_timeout)\u001b[0m\n\u001b[0;32m    594\u001b[0m     _thread_context\u001b[39m.\u001b[39msession_create_time \u001b[39m=\u001b[39m time\u001b[39m.\u001b[39mtime()\n\u001b[0;32m    595\u001b[0m \u001b[39mtry\u001b[39;00m:\n\u001b[1;32m--> 596\u001b[0m     result \u001b[39m=\u001b[39m _thread_context\u001b[39m.\u001b[39;49msession\u001b[39m.\u001b[39;49mrequest(\n\u001b[0;32m    597\u001b[0m         method,\n\u001b[0;32m    598\u001b[0m         abs_url,\n\u001b[0;32m    599\u001b[0m         headers\u001b[39m=\u001b[39;49mheaders,\n\u001b[0;32m    600\u001b[0m         data\u001b[39m=\u001b[39;49mdata,\n\u001b[0;32m    601\u001b[0m         files\u001b[39m=\u001b[39;49mfiles,\n\u001b[0;32m    602\u001b[0m         stream\u001b[39m=\u001b[39;49mstream,\n\u001b[0;32m    603\u001b[0m         timeout\u001b[39m=\u001b[39;49mrequest_timeout \u001b[39mif\u001b[39;49;00m request_timeout \u001b[39melse\u001b[39;49;00m TIMEOUT_SECS,\n\u001b[0;32m    604\u001b[0m         proxies\u001b[39m=\u001b[39;49m_thread_context\u001b[39m.\u001b[39;49msession\u001b[39m.\u001b[39;49mproxies,\n\u001b[0;32m    605\u001b[0m     )\n\u001b[0;32m    606\u001b[0m \u001b[39mexcept\u001b[39;00m requests\u001b[39m.\u001b[39mexceptions\u001b[39m.\u001b[39mTimeout \u001b[39mas\u001b[39;00m e:\n\u001b[0;32m    607\u001b[0m     \u001b[39mraise\u001b[39;00m error\u001b[39m.\u001b[39mTimeout(\u001b[39m\"\u001b[39m\u001b[39mRequest timed out: \u001b[39m\u001b[39m{}\u001b[39;00m\u001b[39m\"\u001b[39m\u001b[39m.\u001b[39mformat(e)) \u001b[39mfrom\u001b[39;00m \u001b[39me\u001b[39;00m\n",
      "File \u001b[1;32mc:\\Users\\DELL\\anaconda3\\envs\\curate-v1\\lib\\site-packages\\requests\\sessions.py:589\u001b[0m, in \u001b[0;36mSession.request\u001b[1;34m(self, method, url, params, data, headers, cookies, files, auth, timeout, allow_redirects, proxies, hooks, stream, verify, cert, json)\u001b[0m\n\u001b[0;32m    584\u001b[0m send_kwargs \u001b[39m=\u001b[39m {\n\u001b[0;32m    585\u001b[0m     \u001b[39m\"\u001b[39m\u001b[39mtimeout\u001b[39m\u001b[39m\"\u001b[39m: timeout,\n\u001b[0;32m    586\u001b[0m     \u001b[39m\"\u001b[39m\u001b[39mallow_redirects\u001b[39m\u001b[39m\"\u001b[39m: allow_redirects,\n\u001b[0;32m    587\u001b[0m }\n\u001b[0;32m    588\u001b[0m send_kwargs\u001b[39m.\u001b[39mupdate(settings)\n\u001b[1;32m--> 589\u001b[0m resp \u001b[39m=\u001b[39m \u001b[39mself\u001b[39m\u001b[39m.\u001b[39msend(prep, \u001b[39m*\u001b[39m\u001b[39m*\u001b[39msend_kwargs)\n\u001b[0;32m    591\u001b[0m \u001b[39mreturn\u001b[39;00m resp\n",
      "File \u001b[1;32mc:\\Users\\DELL\\anaconda3\\envs\\curate-v1\\lib\\site-packages\\requests\\sessions.py:703\u001b[0m, in \u001b[0;36mSession.send\u001b[1;34m(self, request, **kwargs)\u001b[0m\n\u001b[0;32m    700\u001b[0m start \u001b[39m=\u001b[39m preferred_clock()\n\u001b[0;32m    702\u001b[0m \u001b[39m# Send the request\u001b[39;00m\n\u001b[1;32m--> 703\u001b[0m r \u001b[39m=\u001b[39m adapter\u001b[39m.\u001b[39msend(request, \u001b[39m*\u001b[39m\u001b[39m*\u001b[39mkwargs)\n\u001b[0;32m    705\u001b[0m \u001b[39m# Total elapsed time of the request (approximately)\u001b[39;00m\n\u001b[0;32m    706\u001b[0m elapsed \u001b[39m=\u001b[39m preferred_clock() \u001b[39m-\u001b[39m start\n",
      "File \u001b[1;32mc:\\Users\\DELL\\anaconda3\\envs\\curate-v1\\lib\\site-packages\\requests\\adapters.py:486\u001b[0m, in \u001b[0;36mHTTPAdapter.send\u001b[1;34m(self, request, stream, timeout, verify, cert, proxies)\u001b[0m\n\u001b[0;32m    483\u001b[0m     timeout \u001b[39m=\u001b[39m TimeoutSauce(connect\u001b[39m=\u001b[39mtimeout, read\u001b[39m=\u001b[39mtimeout)\n\u001b[0;32m    485\u001b[0m \u001b[39mtry\u001b[39;00m:\n\u001b[1;32m--> 486\u001b[0m     resp \u001b[39m=\u001b[39m conn\u001b[39m.\u001b[39;49murlopen(\n\u001b[0;32m    487\u001b[0m         method\u001b[39m=\u001b[39;49mrequest\u001b[39m.\u001b[39;49mmethod,\n\u001b[0;32m    488\u001b[0m         url\u001b[39m=\u001b[39;49murl,\n\u001b[0;32m    489\u001b[0m         body\u001b[39m=\u001b[39;49mrequest\u001b[39m.\u001b[39;49mbody,\n\u001b[0;32m    490\u001b[0m         headers\u001b[39m=\u001b[39;49mrequest\u001b[39m.\u001b[39;49mheaders,\n\u001b[0;32m    491\u001b[0m         redirect\u001b[39m=\u001b[39;49m\u001b[39mFalse\u001b[39;49;00m,\n\u001b[0;32m    492\u001b[0m         assert_same_host\u001b[39m=\u001b[39;49m\u001b[39mFalse\u001b[39;49;00m,\n\u001b[0;32m    493\u001b[0m         preload_content\u001b[39m=\u001b[39;49m\u001b[39mFalse\u001b[39;49;00m,\n\u001b[0;32m    494\u001b[0m         decode_content\u001b[39m=\u001b[39;49m\u001b[39mFalse\u001b[39;49;00m,\n\u001b[0;32m    495\u001b[0m         retries\u001b[39m=\u001b[39;49m\u001b[39mself\u001b[39;49m\u001b[39m.\u001b[39;49mmax_retries,\n\u001b[0;32m    496\u001b[0m         timeout\u001b[39m=\u001b[39;49mtimeout,\n\u001b[0;32m    497\u001b[0m         chunked\u001b[39m=\u001b[39;49mchunked,\n\u001b[0;32m    498\u001b[0m     )\n\u001b[0;32m    500\u001b[0m \u001b[39mexcept\u001b[39;00m (ProtocolError, \u001b[39mOSError\u001b[39;00m) \u001b[39mas\u001b[39;00m err:\n\u001b[0;32m    501\u001b[0m     \u001b[39mraise\u001b[39;00m \u001b[39mConnectionError\u001b[39;00m(err, request\u001b[39m=\u001b[39mrequest)\n",
      "File \u001b[1;32mc:\\Users\\DELL\\anaconda3\\envs\\curate-v1\\lib\\site-packages\\urllib3\\connectionpool.py:714\u001b[0m, in \u001b[0;36mHTTPConnectionPool.urlopen\u001b[1;34m(self, method, url, body, headers, retries, redirect, assert_same_host, timeout, pool_timeout, release_conn, chunked, body_pos, **response_kw)\u001b[0m\n\u001b[0;32m    711\u001b[0m     \u001b[39mself\u001b[39m\u001b[39m.\u001b[39m_prepare_proxy(conn)\n\u001b[0;32m    713\u001b[0m \u001b[39m# Make the request on the httplib connection object.\u001b[39;00m\n\u001b[1;32m--> 714\u001b[0m httplib_response \u001b[39m=\u001b[39m \u001b[39mself\u001b[39;49m\u001b[39m.\u001b[39;49m_make_request(\n\u001b[0;32m    715\u001b[0m     conn,\n\u001b[0;32m    716\u001b[0m     method,\n\u001b[0;32m    717\u001b[0m     url,\n\u001b[0;32m    718\u001b[0m     timeout\u001b[39m=\u001b[39;49mtimeout_obj,\n\u001b[0;32m    719\u001b[0m     body\u001b[39m=\u001b[39;49mbody,\n\u001b[0;32m    720\u001b[0m     headers\u001b[39m=\u001b[39;49mheaders,\n\u001b[0;32m    721\u001b[0m     chunked\u001b[39m=\u001b[39;49mchunked,\n\u001b[0;32m    722\u001b[0m )\n\u001b[0;32m    724\u001b[0m \u001b[39m# If we're going to release the connection in ``finally:``, then\u001b[39;00m\n\u001b[0;32m    725\u001b[0m \u001b[39m# the response doesn't need to know about the connection. Otherwise\u001b[39;00m\n\u001b[0;32m    726\u001b[0m \u001b[39m# it will also try to release it and we'll have a double-release\u001b[39;00m\n\u001b[0;32m    727\u001b[0m \u001b[39m# mess.\u001b[39;00m\n\u001b[0;32m    728\u001b[0m response_conn \u001b[39m=\u001b[39m conn \u001b[39mif\u001b[39;00m \u001b[39mnot\u001b[39;00m release_conn \u001b[39melse\u001b[39;00m \u001b[39mNone\u001b[39;00m\n",
      "File \u001b[1;32mc:\\Users\\DELL\\anaconda3\\envs\\curate-v1\\lib\\site-packages\\urllib3\\connectionpool.py:466\u001b[0m, in \u001b[0;36mHTTPConnectionPool._make_request\u001b[1;34m(self, conn, method, url, timeout, chunked, **httplib_request_kw)\u001b[0m\n\u001b[0;32m    461\u001b[0m             httplib_response \u001b[39m=\u001b[39m conn\u001b[39m.\u001b[39mgetresponse()\n\u001b[0;32m    462\u001b[0m         \u001b[39mexcept\u001b[39;00m \u001b[39mBaseException\u001b[39;00m \u001b[39mas\u001b[39;00m e:\n\u001b[0;32m    463\u001b[0m             \u001b[39m# Remove the TypeError from the exception chain in\u001b[39;00m\n\u001b[0;32m    464\u001b[0m             \u001b[39m# Python 3 (including for exceptions like SystemExit).\u001b[39;00m\n\u001b[0;32m    465\u001b[0m             \u001b[39m# Otherwise it looks like a bug in the code.\u001b[39;00m\n\u001b[1;32m--> 466\u001b[0m             six\u001b[39m.\u001b[39;49mraise_from(e, \u001b[39mNone\u001b[39;49;00m)\n\u001b[0;32m    467\u001b[0m \u001b[39mexcept\u001b[39;00m (SocketTimeout, BaseSSLError, SocketError) \u001b[39mas\u001b[39;00m e:\n\u001b[0;32m    468\u001b[0m     \u001b[39mself\u001b[39m\u001b[39m.\u001b[39m_raise_timeout(err\u001b[39m=\u001b[39me, url\u001b[39m=\u001b[39murl, timeout_value\u001b[39m=\u001b[39mread_timeout)\n",
      "File \u001b[1;32m<string>:3\u001b[0m, in \u001b[0;36mraise_from\u001b[1;34m(value, from_value)\u001b[0m\n",
      "File \u001b[1;32mc:\\Users\\DELL\\anaconda3\\envs\\curate-v1\\lib\\site-packages\\urllib3\\connectionpool.py:461\u001b[0m, in \u001b[0;36mHTTPConnectionPool._make_request\u001b[1;34m(self, conn, method, url, timeout, chunked, **httplib_request_kw)\u001b[0m\n\u001b[0;32m    458\u001b[0m \u001b[39mexcept\u001b[39;00m \u001b[39mTypeError\u001b[39;00m:\n\u001b[0;32m    459\u001b[0m     \u001b[39m# Python 3\u001b[39;00m\n\u001b[0;32m    460\u001b[0m     \u001b[39mtry\u001b[39;00m:\n\u001b[1;32m--> 461\u001b[0m         httplib_response \u001b[39m=\u001b[39m conn\u001b[39m.\u001b[39;49mgetresponse()\n\u001b[0;32m    462\u001b[0m     \u001b[39mexcept\u001b[39;00m \u001b[39mBaseException\u001b[39;00m \u001b[39mas\u001b[39;00m e:\n\u001b[0;32m    463\u001b[0m         \u001b[39m# Remove the TypeError from the exception chain in\u001b[39;00m\n\u001b[0;32m    464\u001b[0m         \u001b[39m# Python 3 (including for exceptions like SystemExit).\u001b[39;00m\n\u001b[0;32m    465\u001b[0m         \u001b[39m# Otherwise it looks like a bug in the code.\u001b[39;00m\n\u001b[0;32m    466\u001b[0m         six\u001b[39m.\u001b[39mraise_from(e, \u001b[39mNone\u001b[39;00m)\n",
      "File \u001b[1;32mc:\\Users\\DELL\\anaconda3\\envs\\curate-v1\\lib\\http\\client.py:1375\u001b[0m, in \u001b[0;36mHTTPConnection.getresponse\u001b[1;34m(self)\u001b[0m\n\u001b[0;32m   1373\u001b[0m \u001b[39mtry\u001b[39;00m:\n\u001b[0;32m   1374\u001b[0m     \u001b[39mtry\u001b[39;00m:\n\u001b[1;32m-> 1375\u001b[0m         response\u001b[39m.\u001b[39;49mbegin()\n\u001b[0;32m   1376\u001b[0m     \u001b[39mexcept\u001b[39;00m \u001b[39mConnectionError\u001b[39;00m:\n\u001b[0;32m   1377\u001b[0m         \u001b[39mself\u001b[39m\u001b[39m.\u001b[39mclose()\n",
      "File \u001b[1;32mc:\\Users\\DELL\\anaconda3\\envs\\curate-v1\\lib\\http\\client.py:318\u001b[0m, in \u001b[0;36mHTTPResponse.begin\u001b[1;34m(self)\u001b[0m\n\u001b[0;32m    316\u001b[0m \u001b[39m# read until we get a non-100 response\u001b[39;00m\n\u001b[0;32m    317\u001b[0m \u001b[39mwhile\u001b[39;00m \u001b[39mTrue\u001b[39;00m:\n\u001b[1;32m--> 318\u001b[0m     version, status, reason \u001b[39m=\u001b[39m \u001b[39mself\u001b[39;49m\u001b[39m.\u001b[39;49m_read_status()\n\u001b[0;32m    319\u001b[0m     \u001b[39mif\u001b[39;00m status \u001b[39m!=\u001b[39m CONTINUE:\n\u001b[0;32m    320\u001b[0m         \u001b[39mbreak\u001b[39;00m\n",
      "File \u001b[1;32mc:\\Users\\DELL\\anaconda3\\envs\\curate-v1\\lib\\http\\client.py:279\u001b[0m, in \u001b[0;36mHTTPResponse._read_status\u001b[1;34m(self)\u001b[0m\n\u001b[0;32m    278\u001b[0m \u001b[39mdef\u001b[39;00m \u001b[39m_read_status\u001b[39m(\u001b[39mself\u001b[39m):\n\u001b[1;32m--> 279\u001b[0m     line \u001b[39m=\u001b[39m \u001b[39mstr\u001b[39m(\u001b[39mself\u001b[39;49m\u001b[39m.\u001b[39;49mfp\u001b[39m.\u001b[39;49mreadline(_MAXLINE \u001b[39m+\u001b[39;49m \u001b[39m1\u001b[39;49m), \u001b[39m\"\u001b[39m\u001b[39miso-8859-1\u001b[39m\u001b[39m\"\u001b[39m)\n\u001b[0;32m    280\u001b[0m     \u001b[39mif\u001b[39;00m \u001b[39mlen\u001b[39m(line) \u001b[39m>\u001b[39m _MAXLINE:\n\u001b[0;32m    281\u001b[0m         \u001b[39mraise\u001b[39;00m LineTooLong(\u001b[39m\"\u001b[39m\u001b[39mstatus line\u001b[39m\u001b[39m\"\u001b[39m)\n",
      "File \u001b[1;32mc:\\Users\\DELL\\anaconda3\\envs\\curate-v1\\lib\\socket.py:705\u001b[0m, in \u001b[0;36mSocketIO.readinto\u001b[1;34m(self, b)\u001b[0m\n\u001b[0;32m    703\u001b[0m \u001b[39mwhile\u001b[39;00m \u001b[39mTrue\u001b[39;00m:\n\u001b[0;32m    704\u001b[0m     \u001b[39mtry\u001b[39;00m:\n\u001b[1;32m--> 705\u001b[0m         \u001b[39mreturn\u001b[39;00m \u001b[39mself\u001b[39;49m\u001b[39m.\u001b[39;49m_sock\u001b[39m.\u001b[39;49mrecv_into(b)\n\u001b[0;32m    706\u001b[0m     \u001b[39mexcept\u001b[39;00m timeout:\n\u001b[0;32m    707\u001b[0m         \u001b[39mself\u001b[39m\u001b[39m.\u001b[39m_timeout_occurred \u001b[39m=\u001b[39m \u001b[39mTrue\u001b[39;00m\n",
      "File \u001b[1;32mc:\\Users\\DELL\\anaconda3\\envs\\curate-v1\\lib\\ssl.py:1274\u001b[0m, in \u001b[0;36mSSLSocket.recv_into\u001b[1;34m(self, buffer, nbytes, flags)\u001b[0m\n\u001b[0;32m   1270\u001b[0m     \u001b[39mif\u001b[39;00m flags \u001b[39m!=\u001b[39m \u001b[39m0\u001b[39m:\n\u001b[0;32m   1271\u001b[0m         \u001b[39mraise\u001b[39;00m \u001b[39mValueError\u001b[39;00m(\n\u001b[0;32m   1272\u001b[0m           \u001b[39m\"\u001b[39m\u001b[39mnon-zero flags not allowed in calls to recv_into() on \u001b[39m\u001b[39m%s\u001b[39;00m\u001b[39m\"\u001b[39m \u001b[39m%\u001b[39m\n\u001b[0;32m   1273\u001b[0m           \u001b[39mself\u001b[39m\u001b[39m.\u001b[39m\u001b[39m__class__\u001b[39m)\n\u001b[1;32m-> 1274\u001b[0m     \u001b[39mreturn\u001b[39;00m \u001b[39mself\u001b[39;49m\u001b[39m.\u001b[39;49mread(nbytes, buffer)\n\u001b[0;32m   1275\u001b[0m \u001b[39melse\u001b[39;00m:\n\u001b[0;32m   1276\u001b[0m     \u001b[39mreturn\u001b[39;00m \u001b[39msuper\u001b[39m()\u001b[39m.\u001b[39mrecv_into(buffer, nbytes, flags)\n",
      "File \u001b[1;32mc:\\Users\\DELL\\anaconda3\\envs\\curate-v1\\lib\\ssl.py:1130\u001b[0m, in \u001b[0;36mSSLSocket.read\u001b[1;34m(self, len, buffer)\u001b[0m\n\u001b[0;32m   1128\u001b[0m \u001b[39mtry\u001b[39;00m:\n\u001b[0;32m   1129\u001b[0m     \u001b[39mif\u001b[39;00m buffer \u001b[39mis\u001b[39;00m \u001b[39mnot\u001b[39;00m \u001b[39mNone\u001b[39;00m:\n\u001b[1;32m-> 1130\u001b[0m         \u001b[39mreturn\u001b[39;00m \u001b[39mself\u001b[39;49m\u001b[39m.\u001b[39;49m_sslobj\u001b[39m.\u001b[39;49mread(\u001b[39mlen\u001b[39;49m, buffer)\n\u001b[0;32m   1131\u001b[0m     \u001b[39melse\u001b[39;00m:\n\u001b[0;32m   1132\u001b[0m         \u001b[39mreturn\u001b[39;00m \u001b[39mself\u001b[39m\u001b[39m.\u001b[39m_sslobj\u001b[39m.\u001b[39mread(\u001b[39mlen\u001b[39m)\n",
      "\u001b[1;31mKeyboardInterrupt\u001b[0m: "
     ]
    }
   ],
   "source": [
    "# batch qna gen\n",
    "\n",
    "questions = []\n",
    "left = []\n",
    "\n",
    "for context_split in splitted_text:\n",
    "\n",
    "    result = generate_text_mcqs(\n",
    "                        context = context_split,\n",
    "                        n = 3,\n",
    "                    )\n",
    "    print(result)\n",
    "\n",
    "    try:\n",
    "        json_ques = json.loads(result['output'])\n",
    "        questions.extend(json_ques['mcqs'])\n",
    "        print(json_ques['mcqs'])\n",
    "        print()\n",
    "\n",
    "    except:\n",
    "        left.append(context_split)\n",
    "\n",
    "        \n"
   ]
  },
  {
   "cell_type": "markdown",
   "metadata": {},
   "source": [
    "### Numerical MCQs"
   ]
  },
  {
   "cell_type": "code",
   "execution_count": null,
   "metadata": {},
   "outputs": [],
   "source": [
    "functions = [\n",
    "    {\n",
    "      \"name\": \"get_results_from_wolfram\",\n",
    "      \"description\": \"This function will return a list of accurate calculation results for the mathematical queries\",\n",
    "      \"parameters\": {\n",
    "        \"type\": \"object\",\n",
    "        \"properties\": {\n",
    "          \"queries\": {\n",
    "            \"type\": \"string\",\n",
    "            \"description\": \"\"\"the list of mathematical expressions for example - \"['2^2 + 3', 'ln(5) + 2*4']\". ONLY mathematical expressions are supported.\"\"\"\n",
    "          }\n",
    "        }\n",
    "      },\n",
    "        \"required\": [\"queries\"]\n",
    "    }\n",
    "] "
   ]
  },
  {
   "cell_type": "code",
   "execution_count": null,
   "metadata": {},
   "outputs": [],
   "source": []
  }
 ],
 "metadata": {
  "kernelspec": {
   "display_name": "curate-v1",
   "language": "python",
   "name": "python3"
  },
  "language_info": {
   "codemirror_mode": {
    "name": "ipython",
    "version": 3
   },
   "file_extension": ".py",
   "mimetype": "text/x-python",
   "name": "python",
   "nbconvert_exporter": "python",
   "pygments_lexer": "ipython3",
   "version": "3.10.12"
  },
  "orig_nbformat": 4
 },
 "nbformat": 4,
 "nbformat_minor": 2
}
