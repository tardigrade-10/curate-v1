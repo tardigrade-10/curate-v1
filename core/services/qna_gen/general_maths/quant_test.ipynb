{
 "cells": [
  {
   "cell_type": "markdown",
   "metadata": {},
   "source": [
    "## QuanA based MCQ Generator"
   ]
  },
  {
   "cell_type": "code",
   "execution_count": 51,
   "metadata": {},
   "outputs": [
    {
     "name": "stdout",
     "output_type": "stream",
     "text": [
      "The autoreload extension is already loaded. To reload it, use:\n",
      "  %reload_ext autoreload\n"
     ]
    }
   ],
   "source": [
    "%load_ext autoreload\n",
    "%autoreload 2\n",
    "\n",
    "import os\n",
    "curpath = os.getcwd()\n",
    "os.chdir(curpath.split(\"core\")[0])"
   ]
  },
  {
   "cell_type": "code",
   "execution_count": 1,
   "metadata": {},
   "outputs": [
    {
     "ename": "ModuleNotFoundError",
     "evalue": "No module named 'core'",
     "output_type": "error",
     "traceback": [
      "\u001b[1;31m---------------------------------------------------------------------------\u001b[0m",
      "\u001b[1;31mModuleNotFoundError\u001b[0m                       Traceback (most recent call last)",
      "\u001b[1;32mc:\\Users\\DELL\\Documents\\Curate\\curate-v1\\core\\services\\qna_gen\\general_maths\\quant_test.ipynb Cell 4\u001b[0m line \u001b[0;36m<cell line: 6>\u001b[1;34m()\u001b[0m\n\u001b[0;32m      <a href='vscode-notebook-cell:/c%3A/Users/DELL/Documents/Curate/curate-v1/core/services/qna_gen/general_maths/quant_test.ipynb#W3sZmlsZQ%3D%3D?line=2'>3</a>\u001b[0m \u001b[39mimport\u001b[39;00m \u001b[39mtime\u001b[39;00m\n\u001b[0;32m      <a href='vscode-notebook-cell:/c%3A/Users/DELL/Documents/Curate/curate-v1/core/services/qna_gen/general_maths/quant_test.ipynb#W3sZmlsZQ%3D%3D?line=4'>5</a>\u001b[0m \u001b[39mfrom\u001b[39;00m \u001b[39mprompts\u001b[39;00m \u001b[39mimport\u001b[39;00m SIMPLE_QUANT_MCQ_WITH_TE_PROMPT, SIMPLE_QUANT_MCQ_WITH_E_PROMPT, SIMPLE_QUANT_MCQ_WITH_T_PROMPT, CALCULATION_CHECK_PROMPT\n\u001b[1;32m----> <a href='vscode-notebook-cell:/c%3A/Users/DELL/Documents/Curate/curate-v1/core/services/qna_gen/general_maths/quant_test.ipynb#W3sZmlsZQ%3D%3D?line=5'>6</a>\u001b[0m \u001b[39mfrom\u001b[39;00m \u001b[39mcore\u001b[39;00m\u001b[39m.\u001b[39;00m\u001b[39mservices\u001b[39;00m\u001b[39m.\u001b[39;00m\u001b[39mqna_gen\u001b[39;00m\u001b[39m.\u001b[39;00m\u001b[39mutils\u001b[39;00m \u001b[39mimport\u001b[39;00m add_dicts, calculate_cost_gpt4_8k\n\u001b[0;32m      <a href='vscode-notebook-cell:/c%3A/Users/DELL/Documents/Curate/curate-v1/core/services/qna_gen/general_maths/quant_test.ipynb#W3sZmlsZQ%3D%3D?line=6'>7</a>\u001b[0m \u001b[39mfrom\u001b[39;00m \u001b[39mcore\u001b[39;00m\u001b[39m.\u001b[39;00m\u001b[39mservices\u001b[39;00m\u001b[39m.\u001b[39;00m\u001b[39mqna_gen\u001b[39;00m\u001b[39m.\u001b[39;00m\u001b[39mhelper\u001b[39;00m \u001b[39mimport\u001b[39;00m get_results_from_wolfram_cloud, get_results_from_wolfram_alpha\n\u001b[0;32m      <a href='vscode-notebook-cell:/c%3A/Users/DELL/Documents/Curate/curate-v1/core/services/qna_gen/general_maths/quant_test.ipynb#W3sZmlsZQ%3D%3D?line=8'>9</a>\u001b[0m \u001b[39mfrom\u001b[39;00m \u001b[39mdotenv\u001b[39;00m \u001b[39mimport\u001b[39;00m load_dotenv\n",
      "\u001b[1;31mModuleNotFoundError\u001b[0m: No module named 'core'"
     ]
    }
   ],
   "source": [
    "import openai\n",
    "import json\n",
    "import time\n",
    "\n",
    "from prompts import SIMPLE_QUANT_MCQ_WITH_TE_PROMPT, SIMPLE_QUANT_MCQ_WITH_E_PROMPT, SIMPLE_QUANT_MCQ_WITH_T_PROMPT, CALCULATION_CHECK_PROMPT\n",
    "from core.services.qna_gen.utils import add_dicts, calculate_cost_gpt4_8k\n",
    "from core.services.qna_gen.helper import get_results_from_wolfram_cloud, get_results_from_wolfram_alpha\n",
    "\n",
    "from dotenv import load_dotenv\n",
    "load_dotenv()"
   ]
  },
  {
   "cell_type": "markdown",
   "metadata": {},
   "source": [
    "### Numerical MCQs"
   ]
  },
  {
   "cell_type": "code",
   "execution_count": 77,
   "metadata": {},
   "outputs": [],
   "source": [
    "\n",
    "def generate_quant_numerical_mcqs(theory=None, n=1, examples = None, model_id = \"gpt-4-0613\"):\n",
    "\n",
    "    if theory is None and examples is None:\n",
    "        raise Exception(\"Either context or example must be provided\")\n",
    "\n",
    "    elif theory is not None and examples is not None:\n",
    "        conversation = [{\"role\": \"system\", \"content\": SIMPLE_QUANT_MCQ_WITH_TE_PROMPT}]\n",
    "\n",
    "        user_prompt = f\"\"\"\n",
    "        TOPIC_THEORY:\n",
    "        //theory//\n",
    "\n",
    "        {theory}\n",
    "\n",
    "        //theory//\n",
    "    \n",
    "        N: {n}\n",
    "\n",
    "        EXAMPLES:\n",
    "        {str(examples)}\n",
    "\n",
    "        QUESTIONS: \n",
    "        \"\"\"\n",
    "\n",
    "    elif theory is not None and examples is None:\n",
    "        conversation = [{\"role\": \"system\", \"content\": SIMPLE_QUANT_MCQ_WITH_T_PROMPT}]\n",
    "\n",
    "        user_prompt = f\"\"\"\n",
    "        TOPIC_THEORY:\n",
    "        //theory//\n",
    "\n",
    "        {theory}\n",
    "\n",
    "        //theory//\n",
    "    \n",
    "        N: {n}\n",
    "\n",
    "        QUESTIONS: \n",
    "        \"\"\"\n",
    "\n",
    "    elif theory is None and examples is not None:\n",
    "        conversation = [{\"role\": \"system\", \"content\": SIMPLE_QUANT_MCQ_WITH_E_PROMPT}]\n",
    "\n",
    "        user_prompt = f\"\"\"\n",
    "        EXAMPLES:\n",
    "        {str(examples)}\n",
    "    \n",
    "        N: {n}\n",
    "\n",
    "        QUESTIONS: \n",
    "        \"\"\"\n",
    "\n",
    "    user_message = {'role': 'user', \"content\": user_prompt}\n",
    "    conversation.append(user_message)\n",
    "\n",
    "    total_usage = {'prompt_tokens': 0, 'completion_tokens': 0, 'total_tokens': 0}\n",
    "    response = openai.ChatCompletion.create(\n",
    "                                    model= model_id,\n",
    "                                    messages = conversation,\n",
    "                                    temperature = 1\n",
    "                                    )\n",
    "    \n",
    "    total_usage = add_dicts(total_usage, dict(response.usage))\n",
    "\n",
    "    output = response.choices[0].message.content\n",
    "\n",
    "    return {\"output\": output, \"total_usage\": total_usage}\n"
   ]
  },
  {
   "cell_type": "code",
   "execution_count": 78,
   "metadata": {},
   "outputs": [
    {
     "name": "stdout",
     "output_type": "stream",
     "text": [
      "\n",
      "        {\n",
      "            \"mcqs\": [\n",
      "                {\n",
      "                    \"question\": \"A farmer harvested 150 bushels of corn from 15 acres of his farm. If the yield of corn is directly proportional to the number of acres, how many bushels will he harvest from 30 acres?\",\n",
      "                    \"choices\": {\"a\": \"100 bushels\", \"b\": \"200 bushels\", \"c\": \"300 bushels\", \"d\": \"400 bushels\"},\n",
      "                    \"answer\": {\"c\": \"300 bushels\"}\n",
      "                },\n",
      "                {\n",
      "                    \"question\": \"In a Mathematics test, Tom scored 40% and missed by 20 marks to pass the test. Another student, Jack, who scored 50% marks, got 15 marks more than the minimum required marks to pass the examination. What is the maximum marks for the examination?\",\n",
      "                    \"choices\": {\"a\": \"250\", \"b\": \"175\", \"c\": \"350\", \"d\": \"400\"},\n",
      "                    \"answer\": {\"b\": \"175\"}\n",
      "                },\n",
      "                {\n",
      "                    \"question\": \"The travel time of a train is inversely proportional to its speed. If a train can cover a distance in 2 hours at 60 km/hr, how long will it take at 90 km/hr?\",\n",
      "                    \"choices\": {\"a\": \"1.33 hours\", \"b\": \"2.33 hours\", \"c\": \"3.33 hours\", \"d\": \"4.33 hours\"},\n",
      "                    \"answer\": {\"a\": \"1.33 hours\"}\n",
      "                }\n",
      "            ]\n",
      "        }\n",
      "{'completion_tokens': 321, 'total_tokens': 877, 'prompt_tokens': 556}\n"
     ]
    }
   ],
   "source": [
    "example = {\n",
    "        \"question\": \"A shopkeeper allows 4% discount and gives 1 article free on purchase of 15 article. He earns 35% profit during the transaction. By what percent above the cost price he marked goods?\",\n",
    "        \"choices\": [\"60%\", \"50%\", \"44%\", \"30%\"],\n",
    "        \"answer\": \"50%\"\n",
    "    }\n",
    "\n",
    "example = {\n",
    "        \"question\": \"A candidate scores 25% and fails by 30 marks, while another candidate who scores 50% marks, gets 20 marks more than the minimum required marks to pass the examination. Find the maximum marks for the examination.\",\n",
    "        \"choices\": [\"200\", \"120\", \"300\", \"350\"],\n",
    "        \"answer\": \"200\"\n",
    "    }\n",
    "\n",
    "examples = [{\n",
    "        \"question\": \"There are three inlet taps whose diameters are 1 cm, 3 cm and 5 cm respectively. The rate of flow of the water is directly proportional to the square of the diameter. It takes 7 minutes for the smallest pipe to fill an empty tank. Find the time taken to fill an empty tank when all the three taps are opened.\",\n",
    "        \"choices\": [\"13 sec\", \"15 sec\", \"12 sec\", \"10 sec\"],\n",
    "        \"answer\": \"12 sec\"\n",
    "    },\n",
    "    {\n",
    "        \"question\": \"A candidate scores 25% and fails by 30 marks, while another candidate who scores 50% marks, gets 20 marks more than the minimum required marks to pass the examination. Find the maximum marks for the examination.\",\n",
    "        \"choices\": [\"200\", \"120\", \"300\", \"350\"],\n",
    "        \"answer\": \"200\"\n",
    "    }\n",
    "]\n",
    "\n",
    "# examples = [{\n",
    "#         \"question\": \"There are three inlet taps whose diameters are 1 cm, 3 cm and 5 cm respectively. The rate of flow of the water is directly proportional to the square of the diameter. It takes 7 minutes for the smallest pipe to fill an empty tank. Find the time taken to fill an empty tank when all the three taps are opened.\",\n",
    "#         \"choices\": [\"13 sec\", \"15 sec\", \"12 sec\", \"10 sec\"],\n",
    "#         \"answer\": \"12 sec\"\n",
    "#     }\n",
    "# ]\n",
    "\n",
    "output = generate_quant_numerical_mcqs(\n",
    "                        # context = context,\n",
    "                        n = 3,\n",
    "                        examples = examples\n",
    "                        )\n",
    "\n",
    "print(output['output'])\n",
    "print(output['total_usage'])"
   ]
  },
  {
   "cell_type": "code",
   "execution_count": null,
   "metadata": {},
   "outputs": [],
   "source": [
    "{'completion_tokens': 314, 'total_tokens': 978, 'prompt_tokens': 664}"
   ]
  },
  {
   "cell_type": "code",
   "execution_count": 64,
   "metadata": {},
   "outputs": [
    {
     "data": {
      "text/plain": [
       "'\\n    {\\n        \"mcqs\": [\\n            {\\n            \"question\": \"If the loudness level (l) of a sound is directly proportional to the square of the amplitude (a), and when a = 4, l = 16, what is the constant of proportionality (k)?\",\\n            \"choices\": {\"a\": \"1\", \"b\": \"2\", \"c\": \"3\", \"d\": \"4\"},\\n            \"answer\": {\"a\": \"1\"}\\n            },\\n            {\\n            \"question\": \"There are two taps whose diameters are 2 cm and 4 cm respectively. Water flow rate is directly proportional to the cube of the diameter. If it takes 12 minutes for the smallest tap to fill a tank, then find the time taken to fill an empty tank when both taps are opened.\",\\n            \"choices\": {\"a\": \"6 mins\", \"b\": \"8 mins\", \"c\": \"9 mins\", \"d\": \"5 mins\"},\\n            \"answer\": {\"a\": \"6 mins\"}\\n            },\\n            {\\n            \"question\": \"A student scores 35% in an exam and fails by 15 marks. Another student who scores 55% marks, gets 10 marks more than the minimum required marks to pass the exam. Determine the maximum marks for the exam.\",\\n            \"choices\": {\"a\": \"250\", \"b\": \"150\", \"c\": \"300\", \"d\": \"200\"},\\n            \"answer\": {\"c\": \"300\"}\\n            }\\n        ]\\n    }'"
      ]
     },
     "execution_count": 64,
     "metadata": {},
     "output_type": "execute_result"
    }
   ],
   "source": [
    "output['output']"
   ]
  },
  {
   "cell_type": "code",
   "execution_count": 80,
   "metadata": {},
   "outputs": [
    {
     "data": {
      "text/plain": [
       "'{\"question\": \"A farmer harvested 150 bushels of corn from 15 acres of his farm. If the yield of corn is directly proportional to the number of acres, how many bushels will he harvest from 30 acres?\", \"choices\": {\"a\": \"100 bushels\", \"b\": \"200 bushels\", \"c\": \"300 bushels\", \"d\": \"400 bushels\"}, \"answer\": {\"c\": \"300 bushels\"}}'"
      ]
     },
     "execution_count": 80,
     "metadata": {},
     "output_type": "execute_result"
    }
   ],
   "source": [
    "json_ques = json.loads(output['output'])\n",
    "\n",
    "str(list(json_ques.values())[0][0]).replace(\"'\", '\"')"
   ]
  },
  {
   "cell_type": "markdown",
   "metadata": {},
   "source": [
    "### Numerical MCQs"
   ]
  },
  {
   "cell_type": "code",
   "execution_count": 79,
   "metadata": {},
   "outputs": [],
   "source": [
    "functions = [\n",
    "    {\n",
    "      \"name\": \"get_results_from_wolfram_alpha\",\n",
    "      \"description\": \"\"\"This function uses wolfram alpha endpoint that Understands natural language queries about entities in chemistry, physics, geography, history, art, astronomy, and more.\\n- Performs mathematical calculations, date and unit conversions, formula solving, etc.\\n- Convert inputs to simplified keyword queries whenever possible (e.g. convert \\\"how many people live in France\\\" to \\\"France population\\\").\\n- Use ONLY single-letter variable names, with or without integer subscript (e.g., n, n1, n_1).\\n- Use named physical constants (e.g., 'speed of light') without numerical substitution.\\n- Include a space between compound units (e.g., \\\"Ω m\\\" for \\\"ohm*meter\\\").\\n- To solve for a variable in an equation with units, consider solving a corresponding equation without units; exclude counting units (e.g., books), include genuine units (e.g., kg).\"\"\",\n",
    "      \"parameters\": {\n",
    "        \"type\": \"object\",\n",
    "        \"properties\": {\n",
    "          \"queries\": {\n",
    "            \"type\": \"string\",\n",
    "            \"description\": \"\"\"curated natural language queries for wolfram alpha\n",
    "            for example: \"distance from earth to mars; current population of new delhi\".\"\"\"\n",
    "          }\n",
    "        }\n",
    "      },\n",
    "        \"required\": [\"queries\"]\n",
    "    },\n",
    "    {\n",
    "      \"name\": \"get_results_from_wolfram_cloud\",\n",
    "      \"description\": \"\"\"Use this function for problems solvable with Wolfram Language code.\n",
    "      \n",
    "      \"\"\",\n",
    "      \"parameters\": {\n",
    "        \"type\": \"object\",\n",
    "        \"properties\": {\n",
    "          \"queries\": {\n",
    "            \"type\": \"string\",\n",
    "            \"description\": \"\"\"the input wolfram language query for mathematical calculations in string. ONLY proper wolfram language queries are supported.\n",
    "            Format for Query:-\n",
    "            \"a = Solve[aCoeff1*aVar == Var1 - Offset1 && aCoeff2*aVar == Var1 + Offset2, {aVar, Var1}][[1, 1, 2]]\".\n",
    "            \"\"\"\n",
    "          }\n",
    "        }\n",
    "      },\n",
    "        \"required\": [\"queries\"]\n",
    "    },\n",
    "] \n",
    "\n",
    "# Syntax & Code: Ensure syntactically correct Wolfram Language code. Remove comments and unnecessary formatting.\n",
    "#       Functionality: Support complex calculations, data analysis, plotting, and data retrieval.\n",
    "#       Entity Usage:\n",
    "#       Before using Entity or similar, validate identifiers with Interpreter.\n",
    "#       Prefer direct entity usage over typeData functions.\n",
    "#       Code Composition:\n",
    "#       Batch data retrieval when possible.\n",
    "#       Organize data with Association.\n",
    "#       Optimize for performance; minimize external calls.\n",
    "#       Use camel case for variable names (e.g., variableName).\n",
    "#       Enclose all strings in double quotes.\n",
    "#       Handle unevaluated symbols with EntityValue.\n",
    "#       Use Evaluate for complex expressions.\n",
    "#       Response Formatting: All responses should be in Wolfram Language. Ensure clarity and accuracy.\n",
    "\n",
    "# Example query: \"x1 = Solve[0.30*x == PassingGrade - 50 && 0.70*x == PassingGrade + 20, {x, PassingGrade}][[1, 1, 2]]; y1 = Solve[0.20*y == RequiredCount - 40 && 0.60*y == RequiredCount + 30, {y, RequiredCount}][[1, 1, 2]]; z1 = Solve[0.35*z == RequiredScore - 65 && 0.75*z == RequiredScore + 35, {z, RequiredScore}][[1, 1, 2]]; {x1, y1, z1}\""
   ]
  },
  {
   "cell_type": "code",
   "execution_count": 81,
   "metadata": {},
   "outputs": [
    {
     "name": "stdout",
     "output_type": "stream",
     "text": [
      "\n",
      "AFTER FUNCTION {'completion_tokens': 31, 'total_tokens': 730, 'prompt_tokens': 699}\n",
      "CALLING FUNCTION\n",
      "QUERIES a = Solve[150/15 == a/30, a][[1, 1, 2]]\n",
      "good queries a = Solve[150/15 == a/30, a][[1, 1, 2]]\n",
      "RESULT FROM FUNCTION 300\n",
      "{'completion_tokens': 126, 'total_tokens': 1569, 'prompt_tokens': 1443}\n",
      "\n",
      "AFTER FUNCTION {'completion_tokens': 48, 'total_tokens': 751, 'prompt_tokens': 703}\n",
      "CALLING FUNCTION\n",
      "QUERIES a = Solve[0.4*a == x - 20 && 0.5*a == x + 15, {a, x}][[1, 1, 2]]\n",
      "good queries a = Solve[0.4*a == x - 20 && 0.5*a == x + 15, {a, x}][[1, 1, 2]]\n",
      "RESULT FROM FUNCTION 350.00000000000006\n",
      "{'completion_tokens': 148, 'total_tokens': 1622, 'prompt_tokens': 1474}\n",
      "\n",
      "AFTER FUNCTION {'completion_tokens': 31, 'total_tokens': 734, 'prompt_tokens': 703}\n",
      "CALLING FUNCTION\n",
      "QUERIES t = Solve[2*60 == t*90, t][[1, 1, 2]]\n",
      "good queries t = Solve[2*60 == t*90, t][[1, 1, 2]]\n",
      "RESULT FROM FUNCTION Rational[4, 3]\n",
      "{'completion_tokens': 129, 'total_tokens': 1587, 'prompt_tokens': 1458}\n",
      "['\\n{\"question\": \"A farmer harvested 150 bushels of corn from 15 acres of his farm. If the yield of corn is directly proportional to the number of acres, how many bushels will he harvest from 30 acres?\", \"choices\": {\"a\": \"100 bushels\", \"b\": \"200 bushels\", \"c\": \"300 bushels\", \"d\": \"400 bushels\"}, \"answer\": {\"c\": \"300 bushels\"}}', '\\n    {\"question\": \"In a Mathematics test, Tom scored 40% and missed by 20 marks to pass the test. Another student, Jack, who scored 50% marks, got 15 marks more than the minimum required marks to pass the examination. What is the maximum marks for the examination?\", \"choices\": {\"a\": \"250\", \"b\": \"175\", \"c\": \"350\", \"d\": \"400\"}, \"answer\": {\"c\": \"350\"}}', '{\"question\": \"The travel time of a train is inversely proportional to its speed. If a train can cover a distance in 2 hours at 60 km/hr, how long will it take at 90 km/hr?\", \"choices\": {\"a\": \"1.33 hours\", \"b\": \"2.33 hours\", \"c\": \"3.33 hours\", \"d\": \"4.33 hours\"}, \"answer\": {\"a\": \"1.33 hours\"}}']\n"
     ]
    }
   ],
   "source": [
    "# calculation check and improvements\n",
    "\n",
    "def calculation_checking(input, model_id = \"gpt-4-0613\"):\n",
    "\n",
    "    total_usage = {'prompt_tokens': 0, 'completion_tokens': 0, 'total_tokens': 0}\n",
    "    \n",
    "    input_prompt = f\"\"\"\n",
    "\n",
    "    INPUT: \n",
    "\n",
    "    {input}\n",
    "\n",
    "    OUTPUT: \n",
    "\n",
    "    \"\"\" \n",
    "    \n",
    "    system_message = {\"role\": \"system\", \"content\": CALCULATION_CHECK_PROMPT}\n",
    "    conversation = [system_message]\n",
    "    input_message = {'role': 'user', 'content': input_prompt}\n",
    "    conversation.append(input_message)\n",
    "\n",
    "    response = openai.ChatCompletion.create(\n",
    "                                    model= model_id,\n",
    "                                    messages = conversation,\n",
    "                                    functions = functions,\n",
    "                                    function_call = {'name': \"get_results_from_wolfram_cloud\"},\n",
    "                                    temperature = 0\n",
    "                                )\n",
    "\n",
    "    total_usage = add_dicts(total_usage, dict(response.usage))\n",
    "    print()\n",
    "    print(\"AFTER FUNCTION\", total_usage)\n",
    "    print(\"calling function\".upper())\n",
    "    function_call = response.choices[0]['message']['function_call']\n",
    "    conversation.append(response.choices[0]['message'])\n",
    "\n",
    "    # print(response)\n",
    "\n",
    "    # if function_call[\"name\"] == \"get_results_from_wolfram_cloud\":\n",
    "    queries = json.loads(function_call[\"arguments\"])[\"queries\"]\n",
    "    print(\"QUERIES\", queries)\n",
    "\n",
    "    try:\n",
    "        print(\"good queries\", queries)\n",
    "        result = get_results_from_wolfram_cloud(queries)\n",
    "    except:\n",
    "        raise Exception(\"error from wolfram\")\n",
    "\n",
    "# else:\n",
    "#     raise \"some error in function name\"\n",
    "\n",
    "    print(\"result from function\".upper(), str(result))\n",
    "    conversation.append({'role': 'function', \"name\": function_call[\"name\"], \"content\": str(result)})\n",
    "\n",
    "    response = openai.ChatCompletion.create(\n",
    "        model = model_id,\n",
    "        messages = conversation,\n",
    "        functions = functions,\n",
    "        temperature = 0.2\n",
    "    )\n",
    "\n",
    "    # print(response)\n",
    "\n",
    "    # conversation.append(response.choices[0].message)\n",
    "    total_usage = add_dicts(total_usage, dict(response.usage))\n",
    "    print(total_usage)\n",
    "    # return response, conversation\n",
    "    \n",
    "    # response, conversation = response_with_function(response, conversation)\n",
    "    output = response.choices[0].message.content\n",
    "\n",
    "    return {\"output\": output, \"total_usage\": total_usage}\n",
    "\n",
    "# input = output['output']\n",
    "\n",
    "correct_ques = []\n",
    "total_usage = {'prompt_tokens': 0, 'completion_tokens': 0, 'total_tokens': 0}\n",
    "for ques in list(json_ques.values())[0]:\n",
    "    ques = str(ques).replace(\"'\", '\"')\n",
    "    result = calculation_checking(ques)\n",
    "    total_usage = add_dicts(total_usage, result[\"total_usage\"])\n",
    "    correct_ques.append(result[\"output\"])\n",
    "\n",
    "print(correct_ques)"
   ]
  },
  {
   "cell_type": "code",
   "execution_count": 69,
   "metadata": {},
   "outputs": [
    {
     "name": "stdout",
     "output_type": "stream",
     "text": [
      "\n",
      "    {\"question\": \"If the loudness level (l) of a sound is directly proportional to the square of the amplitude (a), and when a = 4, l = 16, what is the constant of proportionality (k)?\", \"choices\": {\"a\": \"1\", \"b\": \"2\", \"c\": \"3\", \"d\": \"4\"}, \"answer\": {\"a\": \"1\"}}\n"
     ]
    }
   ],
   "source": [
    "print(correct_ques[0])"
   ]
  },
  {
   "cell_type": "code",
   "execution_count": 70,
   "metadata": {},
   "outputs": [
    {
     "data": {
      "text/plain": [
       "{'question': 'If the loudness level (l) of a sound is directly proportional to the square of the amplitude (a), and when a = 4, l = 16, what is the constant of proportionality (k)?',\n",
       " 'choices': {'a': '1', 'b': '2', 'c': '3', 'd': '4'},\n",
       " 'answer': {'a': '1'}}"
      ]
     },
     "execution_count": 70,
     "metadata": {},
     "output_type": "execute_result"
    }
   ],
   "source": [
    "json.loads(correct_ques[0])"
   ]
  },
  {
   "cell_type": "code",
   "execution_count": 82,
   "metadata": {},
   "outputs": [
    {
     "name": "stdout",
     "output_type": "stream",
     "text": [
      "{'question': 'A farmer harvested 150 bushels of corn from 15 acres of his farm. If the yield of corn is directly proportional to the number of acres, how many bushels will he harvest from 30 acres?', 'choices': {'a': '100 bushels', 'b': '200 bushels', 'c': '300 bushels', 'd': '400 bushels'}, 'answer': {'c': '300 bushels'}}\n",
      "{'question': 'In a Mathematics test, Tom scored 40% and missed by 20 marks to pass the test. Another student, Jack, who scored 50% marks, got 15 marks more than the minimum required marks to pass the examination. What is the maximum marks for the examination?', 'choices': {'a': '250', 'b': '175', 'c': '350', 'd': '400'}, 'answer': {'c': '350'}}\n",
      "{'question': 'The travel time of a train is inversely proportional to its speed. If a train can cover a distance in 2 hours at 60 km/hr, how long will it take at 90 km/hr?', 'choices': {'a': '1.33 hours', 'b': '2.33 hours', 'c': '3.33 hours', 'd': '4.33 hours'}, 'answer': {'a': '1.33 hours'}}\n"
     ]
    }
   ],
   "source": [
    "# ques with gpt-4-8k\n",
    "for ques in correct_ques:\n",
    "    jsonq = json.loads(ques)\n",
    "    print(jsonq)"
   ]
  },
  {
   "cell_type": "code",
   "execution_count": 83,
   "metadata": {},
   "outputs": [
    {
     "data": {
      "text/plain": [
       "{'completion_tokens': 403, 'total_tokens': 4778, 'prompt_tokens': 4375}"
      ]
     },
     "execution_count": 83,
     "metadata": {},
     "output_type": "execute_result"
    }
   ],
   "source": [
    "total_usage"
   ]
  },
  {
   "cell_type": "code",
   "execution_count": 84,
   "metadata": {},
   "outputs": [
    {
     "data": {
      "text/plain": [
       "0.15543"
      ]
     },
     "execution_count": 84,
     "metadata": {},
     "output_type": "execute_result"
    }
   ],
   "source": [
    "calculate_cost_gpt4_8k(total_usage)"
   ]
  },
  {
   "cell_type": "code",
   "execution_count": 85,
   "metadata": {},
   "outputs": [
    {
     "data": {
      "text/plain": [
       "15.914329200000001"
      ]
     },
     "execution_count": 85,
     "metadata": {},
     "output_type": "execute_result"
    }
   ],
   "source": [
    "re = {'completion_tokens': 321, 'total_tokens': 877, 'prompt_tokens': 556}\n",
    "total_tokens = add_dicts(re, total_usage)\n",
    "calculate_cost_gpt4_8k(total_tokens) * 83.16"
   ]
  },
  {
   "cell_type": "markdown",
   "metadata": {},
   "source": [
    "#### 18 rupees with gpt-4-8k"
   ]
  },
  {
   "cell_type": "code",
   "execution_count": 23,
   "metadata": {},
   "outputs": [
    {
     "data": {
      "text/plain": [
       "{'completion_tokens': 547, 'total_tokens': 6410, 'prompt_tokens': 5863}"
      ]
     },
     "execution_count": 23,
     "metadata": {},
     "output_type": "execute_result"
    }
   ],
   "source": [
    "total_usage"
   ]
  },
  {
   "cell_type": "code",
   "execution_count": 24,
   "metadata": {},
   "outputs": [
    {
     "data": {
      "text/plain": [
       "0.20870999999999998"
      ]
     },
     "execution_count": 24,
     "metadata": {},
     "output_type": "execute_result"
    }
   ],
   "source": [
    "calculate_cost_gpt4_8k(total_usage)"
   ]
  },
  {
   "cell_type": "code",
   "execution_count": null,
   "metadata": {},
   "outputs": [],
   "source": [
    "# AFTER FUNCTION {'completion_tokens': 70, 'total_tokens': 1163, 'prompt_tokens': 1093}\n",
    "# CALLING FUNCTION\n",
    "# QUERIES d1 = 2; d2 = 4; d3 = 6; t1 = 5; t2 = t1 * (d1^2) / ((d1^2) + (d2^2) + (d3^2)); t2\n",
    "# good queries d1 = 2; d2 = 4; d3 = 6; t1 = 5; t2 = t1 * (d1^2) / ((d1^2) + (d2^2) + (d3^2)); t2\n",
    "# RESULT FROM FUNCTION Rational[5, 14]\n",
    "# {'completion_tokens': 196, 'total_tokens': 2473, 'prompt_tokens': 2277}\n",
    "# AFTER FUNCTION {'completion_tokens': 48, 'total_tokens': 1109, 'prompt_tokens': 1061}\n",
    "# CALLING FUNCTION\n",
    "# QUERIES a = Solve[0.3*x == y - 40 && 0.6*x == y + 10, {x, y}][[1, 1, 2]]\n",
    "# good queries a = Solve[0.3*x == y - 40 && 0.6*x == y + 10, {x, y}][[1, 1, 2]]\n",
    "# RESULT FROM FUNCTION 166.66666666666669\n",
    "# {'completion_tokens': 132, 'total_tokens': 2322, 'prompt_tokens': 2190}\n",
    "# AFTER FUNCTION {'completion_tokens': 80, 'total_tokens': 1176, 'prompt_tokens': 1096}\n",
    "# CALLING FUNCTION\n",
    "# QUERIES t1 = 8; d1 = 2; d2 = 4; d3 = 6; d4 = 8; t = t1 / ((d2^2/d1^2) + (d3^2/d1^2) + (d4^2/d1^2) + 1); t\n",
    "# good queries t1 = 8; d1 = 2; d2 = 4; d3 = 6; d4 = 8; t = t1 / ((d2^2/d1^2) + (d3^2/d1^2) + (d4^2/d1^2) + 1); t\n",
    "# RESULT FROM FUNCTION Rational[4, 15]\n",
    "# {'completion_tokens': 210, 'total_tokens': 2503, 'prompt_tokens': 2293}\n",
    "# [\"{'question': 'The rate of flow of a pipe is directly proportional to the square of the diameter. If it takes 5 minutes for a pipe with a diameter of 2 cm to fill an empty tank, approximately how long would it take to fill the tank if all pipes of diameters 2 cm, 4 cm, and 6 cm are opened?', 'choices': {'a': '2 minutes', 'b': '1 minute', 'c': 'Approximately 0.36 minutes', 'd': '4 minutes'}, 'answer': {'c': 'Approximately 0.36 minutes'}}\", \"{'question': 'A student scores 30% and fails by 40 marks, while another student who scores 60% gets 10 marks more than the minimum required to pass. How many maximum marks are there for the examination?', 'choices': {'a': '250', 'b': '200', 'c': '300', 'd': '167'}, 'answer': {'d': '167'}}\", \"{'question': 'There are four inlet taps with diameters 2 cm, 4 cm, 6 cm, and 8 cm. The rate of flow of water is directly proportional to the square of the diameter. How long does it take to fill an empty tank when all four taps are opened, if it takes 8 minutes for the smallest pipe to fill the tank?', 'choices': {'a': '2 minutes', 'b': '4 minutes', 'c': '6 minutes', 'd': '8 minutes', 'e': '4/15 minutes'}, 'answer': {'e': '4/15 minutes'}}\"]"
   ]
  },
  {
   "cell_type": "code",
   "execution_count": 19,
   "metadata": {},
   "outputs": [
    {
     "data": {
      "text/plain": [
       "{'completion_tokens': 538, 'total_tokens': 7298, 'prompt_tokens': 6760}"
      ]
     },
     "execution_count": 19,
     "metadata": {},
     "output_type": "execute_result"
    }
   ],
   "source": [
    "total_usage"
   ]
  },
  {
   "cell_type": "code",
   "execution_count": 17,
   "metadata": {},
   "outputs": [
    {
     "data": {
      "text/plain": [
       "0.23480999999999996"
      ]
     },
     "execution_count": 17,
     "metadata": {},
     "output_type": "execute_result"
    }
   ],
   "source": [
    "\n",
    "calculate_cost_gpt4_8k(total_usage)\n",
    "    "
   ]
  },
  {
   "cell_type": "code",
   "execution_count": 15,
   "metadata": {},
   "outputs": [
    {
     "data": {
      "text/plain": [
       "0.040920000000000005"
      ]
     },
     "execution_count": 15,
     "metadata": {},
     "output_type": "execute_result"
    }
   ],
   "source": []
  },
  {
   "cell_type": "code",
   "execution_count": null,
   "metadata": {},
   "outputs": [],
   "source": [
    "# def get_results_from_wolfram_cloud(query):\n",
    "#     from wolframclient.evaluation import WolframCloudSession, SecuredAuthenticationKey\n",
    "#     from wolframclient.language import wl, wlexpr\n",
    "\n",
    "#     key = SecuredAuthenticationKey(\n",
    "#         os.environ.get('WOLFRAM_CLOUD_KEY1'),\n",
    "#         os.environ.get('WOLFRAM_CLOUD_KEY2')\n",
    "#     )\n",
    "\n",
    "#     session = WolframCloudSession(credentials=key)\n",
    "\n",
    "#     session.start()\n",
    "#     result = session.evaluate(wlexpr(query))\n",
    "\n",
    "#     return result\n"
   ]
  }
 ],
 "metadata": {
  "kernelspec": {
   "display_name": "curate-v1",
   "language": "python",
   "name": "python3"
  },
  "language_info": {
   "codemirror_mode": {
    "name": "ipython",
    "version": 3
   },
   "file_extension": ".py",
   "mimetype": "text/x-python",
   "name": "python",
   "nbconvert_exporter": "python",
   "pygments_lexer": "ipython3",
   "version": "3.10.12"
  },
  "orig_nbformat": 4
 },
 "nbformat": 4,
 "nbformat_minor": 2
}
