{
 "cells": [
  {
   "cell_type": "code",
   "execution_count": 1,
   "metadata": {},
   "outputs": [],
   "source": [
    "%load_ext autoreload\n",
    "%autoreload 2\n",
    "\n",
    "import os\n",
    "curpath = os.getcwd()\n",
    "os.chdir(curpath.split(\"core\")[0])"
   ]
  },
  {
   "cell_type": "code",
   "execution_count": 23,
   "metadata": {},
   "outputs": [],
   "source": [
    "import json\n",
    "import time\n",
    "import logging\n",
    "# logging.basicConfig(level=logging.INFO)\n",
    "\n",
    "\n",
    "from typing import List, Dict, Any, Tuple, Union\n",
    "from tqdm import tqdm\n",
    "\n",
    "from prompts import SIMPLE_ENGLISH_TRANS_PROMPT\n",
    "from core.services.provider import creator\n",
    "from core.services.utils import calculate_cost_gpt4_turbo\n",
    "\n",
    "from dotenv import load_dotenv\n",
    "load_dotenv()\n",
    "\n",
    "text_model_defaults = {\"model\" : \"gpt-4-1106-preview\", \"temperature\" : 0.1, \"response_format\" : {\"type\": \"json_object\"}}"
   ]
  },
  {
   "cell_type": "code",
   "execution_count": 6,
   "metadata": {},
   "outputs": [],
   "source": [
    "\n",
    "def translate_to_eng(input_text: str):\n",
    "\n",
    "    if len(input_text) > 100000:\n",
    "        raise ValueError(\"Input Text is too long. Should be less than 100000 characters\")\n",
    "\n",
    "    conversation = [{\"role\": \"system\", \"content\": SIMPLE_ENGLISH_TRANS_PROMPT}]\n",
    "\n",
    "    user_prompt = f\"\"\"\n",
    "    INPUT_TEXT:\n",
    "\n",
    "    //input_text//\n",
    "\n",
    "    {input_text}\n",
    "\n",
    "    //input_text//\n",
    "    \n",
    "    OUTPUT:\n",
    "    \"\"\"\n",
    "\n",
    "    user_message = {'role': 'user', \"content\": user_prompt}\n",
    "    conversation.append(user_message)\n",
    "\n",
    "    response = creator(\n",
    "                    **text_model_defaults,\n",
    "                    messages = conversation,\n",
    "                    )\n",
    "\n",
    "    output = json.loads(response.choices[0].message.content)\n",
    "    total_usage = response.usage.model_dump()\n",
    "\n",
    "    return {\"output\": output, \"total_usage\": total_usage}\n"
   ]
  },
  {
   "cell_type": "code",
   "execution_count": 21,
   "metadata": {},
   "outputs": [
    {
     "name": "stdout",
     "output_type": "stream",
     "text": [
      "83707\n"
     ]
    },
    {
     "name": "stderr",
     "output_type": "stream",
     "text": [
      "INFO:httpx:HTTP Request: POST https://api.openai.com/v1/chat/completions \"HTTP/1.1 200 OK\"\n"
     ]
    },
    {
     "name": "stdout",
     "output_type": "stream",
     "text": [
      "Breaking News in Hindi: Read the main and latest news of November 9. Subscribe for unlimited article access. Stay updated with every news, download Android Hindi News apps, iOS Hindi News apps, and Amarujala Hindi News apps on your mobile. Get all India News in Hindi related to live update of politics, sports, entertainment, technology, and education etc. Stay updated with us for all breaking news from India News and more news in Hindi. Express your feedback. ABP News Top 10, Morning Bulletin: Start your morning with news from ABP News, read all the major news from the country and the world together. ABP News Top 10, Night's Major News: Read all the major news from the country and the world together on ABP News for the night of November 9, 2023. If you have missed important news in the day's hustle, read national and international news including business, Bollywood, sports, and gadgets with one click. NCP Crisis: '...found 20,000 such affidavits', Sharad Pawar's faction accuses Ajit group of filing false affidavits, demands action from EC. Maharashtra Politics: Hearing in the Sharad Pawar vs Ajit Pawar case took place on Thursday (November 9) at the Election Commission. Sharad's faction's lawyer stated that many fake affidavits have been filed by Ajit Pawar's group. Lahore Air Pollution: Lahore, among several cities in Pakistan, has declared a four-day public holiday to control air pollution. Doctors have advised people to wear face masks and stay at home. Devendra Fadnavis sang 'Srivalli' with Javed Ali, the fun-filled video went viral. Leo OTT Release: Fans will get a big surprise, Thalapathy Vijay's 'Leo' to release on OTT before November 21! Asian Champions Trophy: India's daughters did wonders, won gold by defeating Japan in the final. Irfan Pathan: After Sania Mirza, Irfan Pathan raises voice for Gaza victims, says- children are dying daily there and the world is silent... Happy Diwali 2023 Wishes: May Goddess Lakshmi visit your home, may your festival be holy, heartfelt wishes for Diwali, send Diwali wishes to your loved ones. Dhanteras 2023: Jewelers expect 10% more gold jewelry sales on Dhanteras, prices rise has not affected demand! Rashmika Mandanna's deepfake video case, Delhi Police takes action, registers FIR. Today's Latest News LIVE: No odd-even in Delhi for now, Supreme Court strict on pollution. Trending: hindi news india Updated Nov 10, 2023 | 11:13 PM IST Today's Latest News LIVE: No odd-even in Delhi for now, Supreme Court strict on pollution. Today's Latest News (Aaj ki Taza Khabar), Hindi News Live November 10, 2023, and major news: Delhi's Environment Minister Gopal Rai said on Friday that the proposed odd-even vehicle scheme from November 13 to November 20 will not be implemented in the city as there has been a significant improvement in air quality due to rain. Rai said in a press conference that the government will review the air quality situation after Diwali and a decision on the odd-even scheme can be made if there is a sudden decline in air quality. The Supreme Court heard the matter of air pollution in Delhi-NCR on Friday and made it clear that people cannot be left to die due to pollution. The court expressed concern over the depleting groundwater in Punjab and said that there is a need to phase out paddy cultivation in the state. Read here Hindi news, main Hindi news from the country and the world that are making headlines, read the latest news and major news of November 10 (Friday). Sales of gold increased before Diwali on Dhanteras, Delhi's air cleared overnight due to rain, three Maoists arrested in Jharkhand, the number of ITBP posts on the India-China control line increased to 195, President Draupadi Murmu to get a new voter ID card: Delhi CEO office, India to get American combat drone 'MQ-9B', ICC takes major action against Sri Lanka Cricket Board, government relaxes rules for some small savings schemes, BJP relies on Yediyurappa again in Karnataka? Modi did not expect such language, the public is with Congress: Gehlot, Sanjay Singh's Diwali will be celebrated in jail this time, Punjab government vs Governor case in SC, big setback for the governor, rape of a sixth-grade student in a school toilet, odd-even rule not implemented yet, ED attaches assets of Hero MotoCorp's Pawan Kant Munjal, India and America held 'Two Plus Two' ministerial talks, what's next for Mahua Moitra? Know the big things, 'Resign Nitish Kumar', Jitan Ram Manjhi sits on a dharna, hearing in Supreme Court on air pollution in Delhi-NCR, Tipu Sultan's birth anniversary: Prohibitory orders in Karnataka's Srirangapatnam, Black Box's net profit in the second quarter was 32 crore rupees, one worker died and three injured in a fire on a ship in Tamil Nadu, Javed Akhtar said, 'Jai Siya Ram', Britain will include India in the list of safe countries, journalists protest demanding ceasefire in Gaza, raids in several districts of Jammu and Kashmir in terror funding case, Prime Minister Narendra Modi wishes the countrymen on Dhanteras, Portugal's Prime Minister resigns, president dissolves parliament, America creates the first vaccine for chikungunya, fire in a warehouse in Howrah, West Bengal, know the update, India made a Guinness Book of World Records, broke China's record, ban on entry of trucks, terrible jam at Delhi border, severe fire next to a petrol pump in Howrah, West Bengal, people of Delhi-NCR got Dhanteras gift from the weather, Kejriwal's ministers patrolling the streets of Delhi! The station in-charge removed from post for filming a music video in uniform, light rain in some areas of Noida, Ghaziabad, and Delhi, Rangoli made on the theme of Ram Mandir in Surat, Gujarat, Mahadev app case: BJP spokesperson attacked by Congress, Telangana election: KCR has property worth 26 crores.\n",
      "{'completion_tokens': 1344, 'prompt_tokens': 8466, 'total_tokens': 9810}\n",
      "0.12498\n",
      "1.2498e-05\n"
     ]
    }
   ],
   "source": [
    "with open(r\"C:\\Users\\DELL\\Documents\\Curate\\curate-v1\\core\\services\\translation\\test_news_hindi.txt\", 'rb') as f:\n",
    "    text = f.read().decode('utf-8')\n",
    "\n",
    "print(len(text))\n",
    "\n",
    "eng = translate_to_eng(text[:10000])\n",
    "print(eng[\"output\"][\"text\"])\n",
    "print(eng[\"total_usage\"].model_dump())\n",
    "cost = calculate_cost_gpt4_turbo(eng[\"total_usage\"].model_dump())\n",
    "print(cost)\n",
    "print(cost/10000)"
   ]
  },
  {
   "cell_type": "markdown",
   "metadata": {},
   "source": [
    "Our cost per million characters: $12.5\n",
    "\n",
    "Google cloud cost: $20"
   ]
  },
  {
   "cell_type": "code",
   "execution_count": null,
   "metadata": {},
   "outputs": [],
   "source": []
  }
 ],
 "metadata": {
  "kernelspec": {
   "display_name": "curate-v1",
   "language": "python",
   "name": "python3"
  },
  "language_info": {
   "codemirror_mode": {
    "name": "ipython",
    "version": 3
   },
   "file_extension": ".py",
   "mimetype": "text/x-python",
   "name": "python",
   "nbconvert_exporter": "python",
   "pygments_lexer": "ipython3",
   "version": "3.10.12"
  }
 },
 "nbformat": 4,
 "nbformat_minor": 2
}
